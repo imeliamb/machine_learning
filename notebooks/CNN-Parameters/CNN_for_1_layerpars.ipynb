{
 "cells": [
  {
   "cell_type": "code",
   "execution_count": 1,
   "id": "f968928a",
   "metadata": {
    "execution": {
     "iopub.execute_input": "2023-09-02T02:10:09.891027Z",
     "iopub.status.busy": "2023-09-02T02:10:09.890850Z",
     "iopub.status.idle": "2023-09-02T02:10:12.246219Z",
     "shell.execute_reply": "2023-09-02T02:10:12.245620Z",
     "shell.execute_reply.started": "2023-09-02T02:10:09.891013Z"
    },
    "tags": []
   },
   "outputs": [
    {
     "name": "stderr",
     "output_type": "stream",
     "text": [
      "2023-09-01 22:10:10.135264: I tensorflow/core/util/port.cc:110] oneDNN custom operations are on. You may see slightly different numerical results due to floating-point round-off errors from different computation orders. To turn them off, set the environment variable `TF_ENABLE_ONEDNN_OPTS=0`.\n",
      "2023-09-01 22:10:10.172686: I tensorflow/core/platform/cpu_feature_guard.cc:182] This TensorFlow binary is optimized to use available CPU instructions in performance-critical operations.\n",
      "To enable the following instructions: SSE4.1 SSE4.2 AVX AVX2 AVX512F AVX512_VNNI FMA, in other operations, rebuild TensorFlow with the appropriate compiler flags.\n"
     ]
    }
   ],
   "source": [
    "import sys\n",
    "import numpy as np\n",
    "import os\n",
    "sys.path.append(os.path.expanduser(\"~/git/machine_learning/src\"))\n",
    "import importlib\n",
    "import models\n",
    "import matplotlib\n",
    "import matplotlib.pyplot as plt\n",
    "import tensorflow as tf"
   ]
  },
  {
   "cell_type": "code",
   "execution_count": 2,
   "id": "34daa1ad",
   "metadata": {
    "execution": {
     "iopub.execute_input": "2023-09-02T02:10:12.247624Z",
     "iopub.status.busy": "2023-09-02T02:10:12.247228Z",
     "iopub.status.idle": "2023-09-02T02:10:13.343378Z",
     "shell.execute_reply": "2023-09-02T02:10:13.342867Z",
     "shell.execute_reply.started": "2023-09-02T02:10:12.247606Z"
    },
    "tags": []
   },
   "outputs": [
    {
     "name": "stdout",
     "output_type": "stream",
     "text": [
      "(2000000, 4)\n",
      "(2000000, 100)\n"
     ]
    }
   ],
   "source": [
    "data_dir = os.path.expanduser(\"~m2d/git/analysis_playground/ml/data/training_data\")\n",
    "\n",
    "pars = np.load(os.path.join(data_dir, \"orhs1-pars_pars.npy\"))\n",
    "refl = np.load(os.path.join(data_dir, \"orhs1-pars_data.npy\"))\n",
    "#q_values = np.load(os.path.join(data_dir, \"orhs1_q_values.npy\"))\n",
    "\n",
    "print(pars.shape)\n",
    "print(refl.shape)\n",
    "#print(q_values.shape)\n",
    "\n",
    "idx = 0\n",
    "nset=10000"
   ]
  },
  {
   "cell_type": "code",
   "execution_count": 3,
   "id": "d675268d-2bd0-4f70-8002-7304df05ce8b",
   "metadata": {
    "execution": {
     "iopub.execute_input": "2023-09-02T02:10:14.209506Z",
     "iopub.status.busy": "2023-09-02T02:10:14.209237Z",
     "iopub.status.idle": "2023-09-02T02:10:14.212417Z",
     "shell.execute_reply": "2023-09-02T02:10:14.212069Z",
     "shell.execute_reply.started": "2023-09-02T02:10:14.209486Z"
    },
    "tags": []
   },
   "outputs": [],
   "source": [
    "testset= np.asarray(refl[-nset:])\n",
    "testsetout= np.asarray(pars[-nset:])\n",
    "testpars = np.asarray (pars[-nset:])"
   ]
  },
  {
   "cell_type": "code",
   "execution_count": 4,
   "id": "d5b086b5",
   "metadata": {
    "execution": {
     "iopub.execute_input": "2023-09-02T02:10:23.015033Z",
     "iopub.status.busy": "2023-09-02T02:10:23.014585Z",
     "iopub.status.idle": "2023-09-02T02:17:05.392591Z",
     "shell.execute_reply": "2023-09-02T02:17:05.391865Z",
     "shell.execute_reply.started": "2023-09-02T02:10:23.015015Z"
    },
    "tags": []
   },
   "outputs": [
    {
     "name": "stdout",
     "output_type": "stream",
     "text": [
      "Epoch 1/20\n",
      "1946/1946 [==============================] - 21s 11ms/step - loss: 0.0629 - val_loss: 0.0398\n",
      "Epoch 2/20\n",
      "1946/1946 [==============================] - 20s 10ms/step - loss: 0.0327 - val_loss: 0.0281\n",
      "Epoch 3/20\n",
      "1946/1946 [==============================] - 20s 10ms/step - loss: 0.0323 - val_loss: 0.0275\n",
      "Epoch 4/20\n",
      "1946/1946 [==============================] - 20s 10ms/step - loss: 0.0238 - val_loss: 0.0218\n",
      "Epoch 5/20\n",
      "1946/1946 [==============================] - 20s 10ms/step - loss: 0.0210 - val_loss: 0.0183\n",
      "Epoch 6/20\n",
      "1946/1946 [==============================] - 20s 10ms/step - loss: 0.0186 - val_loss: 0.0185\n",
      "Epoch 7/20\n",
      "1946/1946 [==============================] - 20s 10ms/step - loss: 0.0171 - val_loss: 0.0164\n",
      "Epoch 8/20\n",
      "1946/1946 [==============================] - 20s 10ms/step - loss: 0.0157 - val_loss: 0.0167\n",
      "Epoch 9/20\n",
      "1946/1946 [==============================] - 20s 10ms/step - loss: 0.0144 - val_loss: 0.0141\n",
      "Epoch 10/20\n",
      "1946/1946 [==============================] - 20s 10ms/step - loss: 0.0137 - val_loss: 0.0137\n",
      "Epoch 11/20\n",
      "1946/1946 [==============================] - 20s 10ms/step - loss: 0.0131 - val_loss: 0.0132\n",
      "Epoch 12/20\n",
      "1946/1946 [==============================] - 20s 10ms/step - loss: 0.0124 - val_loss: 0.0124\n",
      "Epoch 13/20\n",
      "1946/1946 [==============================] - 20s 10ms/step - loss: 0.0119 - val_loss: 0.0141\n",
      "Epoch 14/20\n",
      "1946/1946 [==============================] - 20s 10ms/step - loss: 0.0116 - val_loss: 0.0126\n",
      "Epoch 15/20\n",
      "1946/1946 [==============================] - 20s 10ms/step - loss: 0.0110 - val_loss: 0.0109\n",
      "Epoch 16/20\n",
      "1946/1946 [==============================] - 20s 10ms/step - loss: 0.0108 - val_loss: 0.0121\n",
      "Epoch 17/20\n",
      "1946/1946 [==============================] - 20s 10ms/step - loss: 0.0105 - val_loss: 0.0104\n",
      "Epoch 18/20\n",
      "1946/1946 [==============================] - 20s 10ms/step - loss: 0.0101 - val_loss: 0.0098\n",
      "Epoch 19/20\n",
      "1946/1946 [==============================] - 20s 10ms/step - loss: 0.0098 - val_loss: 0.0099\n",
      "Epoch 20/20\n",
      "1946/1946 [==============================] - 20s 10ms/step - loss: 0.0095 - val_loss: 0.0098\n"
     ]
    }
   ],
   "source": [
    "import importlib\n",
    "importlib.reload(models)\n",
    "n_data = refl.shape[0]\n",
    "n_features = refl.shape[1]\n",
    "n_outputs = 4\n",
    "\n",
    "encoder=models.cnn_encoder(n_data, n_features, n_outputs)\n",
    "encoder.compile(loss='mean_squared_error', optimizer=tf.keras.optimizers.Adam())\n",
    "history = encoder.fit(refl, pars,\n",
    "                        epochs=20, batch_size=1028,\n",
    "                        validation_data=(testset, testsetout))\n",
    "data_dir = os.path.expanduser(\"~/git/machine_learning/data\")\n",
    "models.save_model(encoder, \"cnn1layer\", data_dir)"
   ]
  },
  {
   "cell_type": "code",
   "execution_count": 7,
   "id": "c1223d15-c48d-4b34-9e7a-f3429b05ce58",
   "metadata": {
    "execution": {
     "iopub.execute_input": "2023-09-02T02:17:11.139614Z",
     "iopub.status.busy": "2023-09-02T02:17:11.139234Z",
     "iopub.status.idle": "2023-09-02T02:17:11.654974Z",
     "shell.execute_reply": "2023-09-02T02:17:11.654416Z",
     "shell.execute_reply.started": "2023-09-02T02:17:11.139597Z"
    },
    "tags": []
   },
   "outputs": [
    {
     "data": {
      "image/png": "[encoded data removed]",
      "text/plain": [
       "<Figure size 800x400 with 1 Axes>"
      ]
     },
     "metadata": {},
     "output_type": "display_data"
    }
   ],
   "source": [
    "fig = plt.figure(dpi=100, figsize=[8,4])\n",
    "\n",
    "plt.plot(np.arange(len(history.history['loss'])), history.history['loss'], label='loss')\n",
    "plt.plot(np.arange(len(history.history['val_loss'])), history.history['val_loss'], label='validation loss')\n",
    "plt.xlabel('Epoch')\n",
    "plt.ylabel('Loss')\n",
    "plt.yscale('log')\n",
    "plt.xscale('linear')\n",
    "plt.show()"
   ]
  },
  {
   "cell_type": "code",
   "execution_count": 8,
   "id": "aff8a673-ad3f-4375-acd3-24da8d37be90",
   "metadata": {
    "execution": {
     "iopub.execute_input": "2023-09-02T02:17:22.536122Z",
     "iopub.status.busy": "2023-09-02T02:17:22.535767Z",
     "iopub.status.idle": "2023-09-02T02:17:22.543556Z",
     "shell.execute_reply": "2023-09-02T02:17:22.543050Z",
     "shell.execute_reply.started": "2023-09-02T02:17:22.536100Z"
    },
    "tags": []
   },
   "outputs": [],
   "source": [
    "importlib.reload(models)\n",
    "data_dir = os.path.expanduser(\"~/git/machine_learning/src/settings.json\")"
   ]
  },
  {
   "cell_type": "code",
   "execution_count": 9,
   "id": "6827cdd8-e88f-4764-b89b-a39b4a352a4b",
   "metadata": {
    "execution": {
     "iopub.execute_input": "2023-09-02T02:17:24.366644Z",
     "iopub.status.busy": "2023-09-02T02:17:24.366297Z",
     "iopub.status.idle": "2023-09-02T02:17:24.371541Z",
     "shell.execute_reply": "2023-09-02T02:17:24.371058Z",
     "shell.execute_reply.started": "2023-09-02T02:17:24.366625Z"
    },
    "tags": []
   },
   "outputs": [],
   "source": [
    "importlib.reload(models)\n",
    "data_dir = os.path.expanduser(\"~/git/machine_learning/data\")"
   ]
  },
  {
   "cell_type": "code",
   "execution_count": 10,
   "id": "0fee110a-39c5-4fe0-8803-ac1b4ae3c55d",
   "metadata": {
    "execution": {
     "iopub.execute_input": "2023-09-02T02:17:25.766536Z",
     "iopub.status.busy": "2023-09-02T02:17:25.765915Z",
     "iopub.status.idle": "2023-09-02T02:17:25.833167Z",
     "shell.execute_reply": "2023-09-02T02:17:25.832597Z",
     "shell.execute_reply.started": "2023-09-02T02:17:25.766516Z"
    },
    "tags": []
   },
   "outputs": [],
   "source": [
    "model=models.load_model(\"cnn1layer\", data_dir)\n",
    "idx=0"
   ]
  },
  {
   "cell_type": "code",
   "execution_count": 11,
   "id": "27b9065e-04c9-4791-9e7f-b8ea56f51f20",
   "metadata": {
    "execution": {
     "iopub.execute_input": "2023-09-02T02:17:27.111071Z",
     "iopub.status.busy": "2023-09-02T02:17:27.110683Z",
     "iopub.status.idle": "2023-09-02T02:17:27.815963Z",
     "shell.execute_reply": "2023-09-02T02:17:27.815254Z",
     "shell.execute_reply.started": "2023-09-02T02:17:27.111050Z"
    },
    "tags": []
   },
   "outputs": [
    {
     "name": "stdout",
     "output_type": "stream",
     "text": [
      "313/313 [==============================] - 1s 2ms/step\n"
     ]
    }
   ],
   "source": [
    "pars=encoder.predict(testset)\n"
   ]
  },
  {
   "cell_type": "code",
   "execution_count": 12,
   "id": "34e260dd-fe7a-4299-b231-0b5e1cc206e3",
   "metadata": {
    "execution": {
     "iopub.execute_input": "2023-09-02T02:17:32.334700Z",
     "iopub.status.busy": "2023-09-02T02:17:32.334348Z",
     "iopub.status.idle": "2023-09-02T02:17:32.338283Z",
     "shell.execute_reply": "2023-09-02T02:17:32.337804Z",
     "shell.execute_reply.started": "2023-09-02T02:17:32.334682Z"
    },
    "tags": []
   },
   "outputs": [
    {
     "name": "stdout",
     "output_type": "stream",
     "text": [
      "(10000, 100)\n"
     ]
    }
   ],
   "source": [
    "print (testset.shape)"
   ]
  },
  {
   "cell_type": "code",
   "execution_count": 14,
   "id": "5a4b7890-b052-4697-a15e-12afe48c8043",
   "metadata": {
    "execution": {
     "iopub.execute_input": "2023-09-02T02:17:39.140601Z",
     "iopub.status.busy": "2023-09-02T02:17:39.140238Z",
     "iopub.status.idle": "2023-09-02T02:17:39.784018Z",
     "shell.execute_reply": "2023-09-02T02:17:39.783427Z",
     "shell.execute_reply.started": "2023-09-02T02:17:39.140584Z"
    },
    "tags": []
   },
   "outputs": [
    {
     "name": "stdout",
     "output_type": "stream",
     "text": [
      "313/313 [==============================] - 1s 2ms/step\n"
     ]
    }
   ],
   "source": [
    "preds=model.predict(refl[:10000])"
   ]
  },
  {
   "cell_type": "code",
   "execution_count": 15,
   "id": "525ca631-ae0b-411f-8691-0e7703b4674e",
   "metadata": {
    "execution": {
     "iopub.execute_input": "2023-09-02T02:17:42.430407Z",
     "iopub.status.busy": "2023-09-02T02:17:42.430098Z",
     "iopub.status.idle": "2023-09-02T02:17:42.433142Z",
     "shell.execute_reply": "2023-09-02T02:17:42.432658Z",
     "shell.execute_reply.started": "2023-09-02T02:17:42.430389Z"
    },
    "tags": []
   },
   "outputs": [],
   "source": [
    "idx=0"
   ]
  },
  {
   "cell_type": "code",
   "execution_count": 47,
   "id": "e4a26fad-ff13-49d8-a90a-8f476f20c20d",
   "metadata": {
    "execution": {
     "iopub.execute_input": "2023-09-02T02:38:09.050852Z",
     "iopub.status.busy": "2023-09-02T02:38:09.050521Z",
     "iopub.status.idle": "2023-09-02T02:38:09.054364Z",
     "shell.execute_reply": "2023-09-02T02:38:09.053971Z",
     "shell.execute_reply.started": "2023-09-02T02:38:09.050835Z"
    },
    "tags": []
   },
   "outputs": [
    {
     "name": "stdout",
     "output_type": "stream",
     "text": [
      "[-0.78259265 -0.80112046 -0.06010167 -0.08563331]\n",
      "[-0.775768   -0.76873759 -0.1405078  -0.13828736]\n",
      "[-0.00682465 -0.03238287  0.08040613  0.05265405]\n"
     ]
    }
   ],
   "source": [
    "print (pars[idx])\n",
    "print(testsetout[idx])\n",
    "difference=pars[idx]-testsetout[idx]\n",
    "print(difference)\n",
    "idx+=1"
   ]
  },
  {
   "cell_type": "code",
   "execution_count": 43,
   "id": "48843d5e-8cea-4f99-a21a-cba911544252",
   "metadata": {
    "execution": {
     "iopub.execute_input": "2023-09-02T02:37:49.692138Z",
     "iopub.status.busy": "2023-09-02T02:37:49.691239Z",
     "iopub.status.idle": "2023-09-02T02:37:50.827351Z",
     "shell.execute_reply": "2023-09-02T02:37:50.826668Z",
     "shell.execute_reply.started": "2023-09-02T02:37:49.692068Z"
    },
    "tags": []
   },
   "outputs": [
    {
     "name": "stdout",
     "output_type": "stream",
     "text": [
      "(10000, 4)\n"
     ]
    },
    {
     "ename": "IndexError",
     "evalue": "index 4 is out of bounds for axis 1 with size 4",
     "output_type": "error",
     "traceback": [
      "\u001b[0;31m---------------------------------------------------------------------------\u001b[0m",
      "\u001b[0;31mIndexError\u001b[0m                                Traceback (most recent call last)",
      "Cell \u001b[0;32mIn[43], line 28\u001b[0m\n\u001b[1;32m     24\u001b[0m plt\u001b[38;5;241m.\u001b[39mxlabel(\u001b[38;5;124m'\u001b[39m\u001b[38;5;124ma for index 1\u001b[39m\u001b[38;5;124m'\u001b[39m)\n\u001b[1;32m     27\u001b[0m ax\u001b[38;5;241m=\u001b[39mplt\u001b[38;5;241m.\u001b[39msubplot(\u001b[38;5;241m4\u001b[39m, \u001b[38;5;241m2\u001b[39m, \u001b[38;5;241m5\u001b[39m)\n\u001b[0;32m---> 28\u001b[0m ax\u001b[38;5;241m.\u001b[39mhist2d(\u001b[43mtrue_values\u001b[49m\u001b[43m[\u001b[49m\u001b[43m:\u001b[49m\u001b[43m,\u001b[49m\u001b[38;5;241;43m4\u001b[39;49m\u001b[43m]\u001b[49m, preds[:,\u001b[38;5;241m4\u001b[39m], bins\u001b[38;5;241m=\u001b[39mn_bins, cmap\u001b[38;5;241m=\u001b[39m \u001b[38;5;124m\"\u001b[39m\u001b[38;5;124mGreys\u001b[39m\u001b[38;5;124m\"\u001b[39m)\n\u001b[1;32m     29\u001b[0m plt\u001b[38;5;241m.\u001b[39mylabel(\u001b[38;5;124m'\u001b[39m\u001b[38;5;124mprediction\u001b[39m\u001b[38;5;124m'\u001b[39m)\n\u001b[1;32m     30\u001b[0m plt\u001b[38;5;241m.\u001b[39mxlabel(\u001b[38;5;124m'\u001b[39m\u001b[38;5;124ma for index 1\u001b[39m\u001b[38;5;124m'\u001b[39m)\n",
      "\u001b[0;31mIndexError\u001b[0m: index 4 is out of bounds for axis 1 with size 4"
     ]
    },
    {
     "data": {
      "image/png": "[encoded data removed]",
      "text/plain": [
       "<Figure size 500x500 with 8 Axes>"
      ]
     },
     "metadata": {},
     "output_type": "display_data"
    }
   ],
   "source": [
    "n_bins=40\n",
    "print(pars.shape)\n",
    "fig, axs= plt.subplots(4,2, sharey=False, tight_layout= True, dpi=100, figsize= (5,5))\n",
    "true_values=pars\n",
    "ax=plt.subplot(4, 2, 1)\n",
    "ax.hist2d(true_values[:,0], preds[:,0], bins=n_bins, cmap= \"Greys\")\n",
    "plt.ylabel('prediction')\n",
    "plt.xlabel('a for index 0')\n",
    "\n",
    "ax=plt.subplot(4, 2, 2)\n",
    "ax.hist2d(true_values[:,1], preds[:,1], bins=n_bins, cmap= \"Greys\")\n",
    "plt.ylabel('prediction')\n",
    "plt.xlabel('a for index 1')\n",
    "\n",
    "ax=plt.subplot(4, 2, 3)\n",
    "ax.hist2d(true_values[:,2], preds[:,2], bins=n_bins, cmap= \"Greys\")\n",
    "plt.ylabel('prediction')\n",
    "plt.xlabel('a for index 1')\n",
    "\n",
    "\n",
    "ax=plt.subplot(4, 2, 4)\n",
    "ax.hist2d(true_values[:,3], preds[:,3], bins=n_bins, cmap= \"Greys\")\n",
    "plt.ylabel('prediction')\n",
    "plt.xlabel('a for index 1')\n",
    "\n",
    "\n",
    "ax=plt.subplot(4, 2, 5)\n",
    "ax.hist2d(true_values[:,4], preds[:,4], bins=n_bins, cmap= \"Greys\")\n",
    "plt.ylabel('prediction')\n",
    "plt.xlabel('a for index 1')\n",
    "\n",
    "\n",
    "ax=plt.subplot(4, 2, 6)\n",
    "ax.hist2d(true_values[:,5], preds[:,5], bins=n_bins, cmap= \"Greys\")\n",
    "plt.ylabel('prediction')\n",
    "plt.xlabel('a for index 1')\n",
    "\n",
    "\n",
    "ax=plt.subplot(4, 2, 7)\n",
    "ax.hist2d(true_values[:,6], preds[:,6], bins=n_bins, cmap= \"Greys\")\n",
    "plt.ylabel('prediction')\n",
    "plt.xlabel('a for index 1')\n",
    "\n"
   ]
  },
  {
   "cell_type": "code",
   "execution_count": null,
   "id": "568ccbe3-05c2-4c21-8277-573a9d44c629",
   "metadata": {},
   "outputs": [],
   "source": []
  }
 ],
 "metadata": {
  "kernelspec": {
   "display_name": "tensorflow",
   "language": "",
   "name": "tensorflow"
  },
  "language_info": {
   "codemirror_mode": {
    "name": "ipython",
    "version": 3
   },
   "file_extension": ".py",
   "mimetype": "text/x-python",
   "name": "python",
   "nbconvert_exporter": "python",
   "pygments_lexer": "ipython3",
   "version": "3.11.4"
  }
 },
 "nbformat": 4,
 "nbformat_minor": 5
}
