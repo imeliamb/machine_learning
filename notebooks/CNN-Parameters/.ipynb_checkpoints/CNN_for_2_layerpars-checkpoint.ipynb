{
 "cells": [
  {
   "cell_type": "code",
   "execution_count": 2,
   "id": "f968928a",
   "metadata": {
    "execution": {
     "iopub.execute_input": "2023-07-31T00:08:33.345335Z",
     "iopub.status.busy": "2023-07-31T00:08:33.345048Z",
     "iopub.status.idle": "2023-07-31T00:08:35.749949Z",
     "shell.execute_reply": "2023-07-31T00:08:35.749342Z",
     "shell.execute_reply.started": "2023-07-31T00:08:33.345316Z"
    },
    "tags": []
   },
   "outputs": [
    {
     "name": "stderr",
     "output_type": "stream",
     "text": [
      "2023-07-30 20:08:33.634967: I tensorflow/core/util/port.cc:110] oneDNN custom operations are on. You may see slightly different numerical results due to floating-point round-off errors from different computation orders. To turn them off, set the environment variable `TF_ENABLE_ONEDNN_OPTS=0`.\n",
      "2023-07-30 20:08:33.672578: I tensorflow/core/platform/cpu_feature_guard.cc:182] This TensorFlow binary is optimized to use available CPU instructions in performance-critical operations.\n",
      "To enable the following instructions: SSE4.1 SSE4.2 AVX AVX2 AVX512F AVX512_VNNI FMA, in other operations, rebuild TensorFlow with the appropriate compiler flags.\n"
     ]
    }
   ],
   "source": [
    "import sys\n",
    "import numpy as np\n",
    "import os\n",
    "sys.path.append(os.path.expanduser(\"~/git/machine_learning/src\"))\n",
    "import importlib\n",
    "import models\n",
    "import matplotlib\n",
    "import matplotlib.pyplot as plt\n",
    "import tensorflow as tf"
   ]
  },
  {
   "cell_type": "code",
   "execution_count": 3,
   "id": "34daa1ad",
   "metadata": {
    "execution": {
     "iopub.execute_input": "2023-07-31T00:08:36.309546Z",
     "iopub.status.busy": "2023-07-31T00:08:36.308958Z",
     "iopub.status.idle": "2023-07-31T00:08:38.425540Z",
     "shell.execute_reply": "2023-07-31T00:08:38.424959Z",
     "shell.execute_reply.started": "2023-07-31T00:08:36.309517Z"
    },
    "tags": []
   },
   "outputs": [
    {
     "name": "stdout",
     "output_type": "stream",
     "text": [
      "(2000000, 7)\n",
      "(2000000, 100)\n",
      "(100,)\n"
     ]
    }
   ],
   "source": [
    "data_dir = os.path.expanduser(\"~m2d/git/analysis_playground/ml/data/training_data\")\n",
    "\n",
    "pars = np.load(os.path.join(data_dir, \"orhs2-pars_pars.npy\"))\n",
    "refl = np.load(os.path.join(data_dir, \"orhs2-pars_data.npy\"))\n",
    "q_values = np.load(os.path.join(data_dir, \"orhs_q_values.npy\"))\n",
    "\n",
    "print(pars.shape)\n",
    "print(refl.shape)\n",
    "print(q_values.shape)\n",
    "\n",
    "idx = 0\n",
    "nset=10000"
   ]
  },
  {
   "cell_type": "code",
   "execution_count": 4,
   "id": "d675268d-2bd0-4f70-8002-7304df05ce8b",
   "metadata": {
    "execution": {
     "iopub.execute_input": "2023-07-31T00:08:39.060168Z",
     "iopub.status.busy": "2023-07-31T00:08:39.059834Z",
     "iopub.status.idle": "2023-07-31T00:08:39.063090Z",
     "shell.execute_reply": "2023-07-31T00:08:39.062621Z",
     "shell.execute_reply.started": "2023-07-31T00:08:39.060149Z"
    },
    "tags": []
   },
   "outputs": [],
   "source": [
    "\n",
    "\n",
    "testset= np.asarray(refl[-nset:])\n",
    "testsetout= np.asarray(pars[-nset:])\n",
    "testpars = np.asarray (pars[-nset:])\n"
   ]
  },
  {
   "cell_type": "code",
   "execution_count": 8,
   "id": "d5b086b5",
   "metadata": {
    "execution": {
     "iopub.execute_input": "2023-07-31T00:10:27.748616Z",
     "iopub.status.busy": "2023-07-31T00:10:27.748254Z",
     "iopub.status.idle": "2023-07-31T00:10:29.883520Z",
     "shell.execute_reply": "2023-07-31T00:10:29.882909Z",
     "shell.execute_reply.started": "2023-07-31T00:10:27.748595Z"
    },
    "tags": []
   },
   "outputs": [
    {
     "name": "stdout",
     "output_type": "stream",
     "text": [
      "Epoch 1/20\n",
      "1/1 [==============================] - 1s 757ms/step - loss: 0.5090 - val_loss: 0.3929\n",
      "Epoch 2/20\n",
      "1/1 [==============================] - 0s 66ms/step - loss: 0.3952 - val_loss: 0.3629\n",
      "Epoch 3/20\n",
      "1/1 [==============================] - 0s 70ms/step - loss: 0.3638 - val_loss: 0.3531\n",
      "Epoch 4/20\n",
      "1/1 [==============================] - 0s 68ms/step - loss: 0.3525 - val_loss: 0.3416\n",
      "Epoch 5/20\n",
      "1/1 [==============================] - 0s 68ms/step - loss: 0.3399 - val_loss: 0.3306\n",
      "Epoch 6/20\n",
      "1/1 [==============================] - 0s 66ms/step - loss: 0.3283 - val_loss: 0.3247\n",
      "Epoch 7/20\n",
      "1/1 [==============================] - 0s 66ms/step - loss: 0.3227 - val_loss: 0.3216\n",
      "Epoch 8/20\n",
      "1/1 [==============================] - 0s 67ms/step - loss: 0.3200 - val_loss: 0.3188\n",
      "Epoch 9/20\n",
      "1/1 [==============================] - 0s 66ms/step - loss: 0.3176 - val_loss: 0.3168\n",
      "Epoch 10/20\n",
      "1/1 [==============================] - 0s 64ms/step - loss: 0.3160 - val_loss: 0.3146\n",
      "Epoch 11/20\n",
      "1/1 [==============================] - 0s 66ms/step - loss: 0.3139 - val_loss: 0.3111\n",
      "Epoch 12/20\n",
      "1/1 [==============================] - 0s 64ms/step - loss: 0.3102 - val_loss: 0.3076\n",
      "Epoch 13/20\n",
      "1/1 [==============================] - 0s 65ms/step - loss: 0.3064 - val_loss: 0.3052\n",
      "Epoch 14/20\n",
      "1/1 [==============================] - 0s 69ms/step - loss: 0.3037 - val_loss: 0.3032\n",
      "Epoch 15/20\n",
      "1/1 [==============================] - 0s 64ms/step - loss: 0.3015 - val_loss: 0.3011\n",
      "Epoch 16/20\n",
      "1/1 [==============================] - 0s 65ms/step - loss: 0.2991 - val_loss: 0.2992\n",
      "Epoch 17/20\n",
      "1/1 [==============================] - 0s 65ms/step - loss: 0.2967 - val_loss: 0.2979\n",
      "Epoch 18/20\n",
      "1/1 [==============================] - 0s 65ms/step - loss: 0.2948 - val_loss: 0.2964\n",
      "Epoch 19/20\n",
      "1/1 [==============================] - 0s 64ms/step - loss: 0.2928 - val_loss: 0.2947\n",
      "Epoch 20/20\n",
      "1/1 [==============================] - 0s 65ms/step - loss: 0.2910 - val_loss: 0.2932\n"
     ]
    }
   ],
   "source": [
    "import importlib\n",
    "importlib.reload(models)\n",
    "n_data = refl.shape[0]\n",
    "n_features = refl.shape[1]\n",
    "n_outputs = 7\n",
    "\n",
    "encoder=models.cnn_encoder(n_data, n_features, n_outputs)\n",
    "encoder.compile(loss='mean_squared_error', optimizer=tf.keras.optimizers.Adam())\n",
    "history = encoder.fit(refl[:1000], pars[:1000],\n",
    "                        epochs=20, batch_size=2056,\n",
    "                        validation_data=(testset, testsetout))"
   ]
  },
  {
   "cell_type": "code",
   "execution_count": 9,
   "id": "aff8a673-ad3f-4375-acd3-24da8d37be90",
   "metadata": {
    "execution": {
     "iopub.execute_input": "2023-07-31T00:10:35.314610Z",
     "iopub.status.busy": "2023-07-31T00:10:35.314267Z",
     "iopub.status.idle": "2023-07-31T00:10:35.319210Z",
     "shell.execute_reply": "2023-07-31T00:10:35.318691Z",
     "shell.execute_reply.started": "2023-07-31T00:10:35.314593Z"
    },
    "tags": []
   },
   "outputs": [],
   "source": [
    "importlib.reload(models)\n",
    "data_dir = os.path.expanduser(\"~/git/machine_learning/src/settings.json\")"
   ]
  },
  {
   "cell_type": "code",
   "execution_count": 9,
   "id": "6827cdd8-e88f-4764-b89b-a39b4a352a4b",
   "metadata": {
    "execution": {
     "iopub.execute_input": "2023-07-09T03:23:48.119306Z",
     "iopub.status.busy": "2023-07-09T03:23:48.119041Z",
     "iopub.status.idle": "2023-07-09T03:23:48.123145Z",
     "shell.execute_reply": "2023-07-09T03:23:48.122689Z",
     "shell.execute_reply.started": "2023-07-09T03:23:48.119290Z"
    },
    "tags": []
   },
   "outputs": [],
   "source": [
    "importlib.reload(models)\n",
    "data_dir = os.path.expanduser(\"~/git/machine_learning/notebooks/CNN-Parameters\")"
   ]
  },
  {
   "cell_type": "code",
   "execution_count": 10,
   "id": "0fee110a-39c5-4fe0-8803-ac1b4ae3c55d",
   "metadata": {
    "execution": {
     "iopub.execute_input": "2023-07-09T03:23:49.995015Z",
     "iopub.status.busy": "2023-07-09T03:23:49.994742Z",
     "iopub.status.idle": "2023-07-09T03:23:50.053132Z",
     "shell.execute_reply": "2023-07-09T03:23:50.052625Z",
     "shell.execute_reply.started": "2023-07-09T03:23:49.994999Z"
    },
    "tags": []
   },
   "outputs": [],
   "source": [
    "model=models.load_model(\"twolayerpars\", data_dir)\n",
    "idx=0"
   ]
  },
  {
   "cell_type": "code",
   "execution_count": 11,
   "id": "27b9065e-04c9-4791-9e7f-b8ea56f51f20",
   "metadata": {
    "execution": {
     "iopub.execute_input": "2023-07-09T03:23:52.259899Z",
     "iopub.status.busy": "2023-07-09T03:23:52.259370Z",
     "iopub.status.idle": "2023-07-09T03:24:03.291043Z",
     "shell.execute_reply": "2023-07-09T03:24:03.290509Z",
     "shell.execute_reply.started": "2023-07-09T03:23:52.259884Z"
    },
    "tags": []
   },
   "outputs": [
    {
     "name": "stdout",
     "output_type": "stream",
     "text": [
      "313/313 [==============================] - 11s 34ms/step\n"
     ]
    }
   ],
   "source": [
    "pars=encoder.predict(testset)\n"
   ]
  },
  {
   "cell_type": "code",
   "execution_count": 17,
   "id": "34e260dd-fe7a-4299-b231-0b5e1cc206e3",
   "metadata": {
    "execution": {
     "iopub.execute_input": "2023-07-09T03:25:47.357353Z",
     "iopub.status.busy": "2023-07-09T03:25:47.357059Z",
     "iopub.status.idle": "2023-07-09T03:25:47.360024Z",
     "shell.execute_reply": "2023-07-09T03:25:47.359630Z",
     "shell.execute_reply.started": "2023-07-09T03:25:47.357336Z"
    },
    "tags": []
   },
   "outputs": [
    {
     "name": "stdout",
     "output_type": "stream",
     "text": [
      "(10000, 100)\n"
     ]
    }
   ],
   "source": [
    "print (testset.shape)"
   ]
  },
  {
   "cell_type": "code",
   "execution_count": 18,
   "id": "5a4b7890-b052-4697-a15e-12afe48c8043",
   "metadata": {
    "execution": {
     "iopub.execute_input": "2023-07-09T03:26:00.704261Z",
     "iopub.status.busy": "2023-07-09T03:26:00.703960Z",
     "iopub.status.idle": "2023-07-09T03:26:09.900748Z",
     "shell.execute_reply": "2023-07-09T03:26:09.900021Z",
     "shell.execute_reply.started": "2023-07-09T03:26:00.704243Z"
    },
    "tags": []
   },
   "outputs": [
    {
     "name": "stdout",
     "output_type": "stream",
     "text": [
      "313/313 [==============================] - 9s 29ms/step\n"
     ]
    }
   ],
   "source": [
    "preds=model.predict(refl[:10000])"
   ]
  },
  {
   "cell_type": "code",
   "execution_count": 19,
   "id": "525ca631-ae0b-411f-8691-0e7703b4674e",
   "metadata": {
    "execution": {
     "iopub.execute_input": "2023-07-09T03:26:12.914034Z",
     "iopub.status.busy": "2023-07-09T03:26:12.913742Z",
     "iopub.status.idle": "2023-07-09T03:26:12.916427Z",
     "shell.execute_reply": "2023-07-09T03:26:12.916029Z",
     "shell.execute_reply.started": "2023-07-09T03:26:12.914015Z"
    },
    "tags": []
   },
   "outputs": [],
   "source": [
    "idx=0"
   ]
  },
  {
   "cell_type": "code",
   "execution_count": 20,
   "id": "e4a26fad-ff13-49d8-a90a-8f476f20c20d",
   "metadata": {
    "execution": {
     "iopub.execute_input": "2023-07-09T03:26:14.671916Z",
     "iopub.status.busy": "2023-07-09T03:26:14.671658Z",
     "iopub.status.idle": "2023-07-09T03:26:14.675057Z",
     "shell.execute_reply": "2023-07-09T03:26:14.674666Z",
     "shell.execute_reply.started": "2023-07-09T03:26:14.671901Z"
    },
    "tags": []
   },
   "outputs": [
    {
     "name": "stdout",
     "output_type": "stream",
     "text": [
      "[ 0.45925966 -0.4102292  -1.0207489   0.15380977 -0.50924414  0.12599187\n",
      " -1.0854037 ]\n",
      "[ 0.56635189  0.36890414 -0.9920379   0.87354602 -0.36895818  0.32808954\n",
      " -0.72245302]\n"
     ]
    }
   ],
   "source": [
    "print (pars[idx])\n",
    "print(testsetout[idx])\n",
    "idx+=1"
   ]
  },
  {
   "cell_type": "code",
   "execution_count": 21,
   "id": "48843d5e-8cea-4f99-a21a-cba911544252",
   "metadata": {
    "execution": {
     "iopub.execute_input": "2023-07-09T03:26:19.948117Z",
     "iopub.status.busy": "2023-07-09T03:26:19.947746Z",
     "iopub.status.idle": "2023-07-09T03:26:20.826839Z",
     "shell.execute_reply": "2023-07-09T03:26:20.826312Z",
     "shell.execute_reply.started": "2023-07-09T03:26:19.948091Z"
    },
    "tags": []
   },
   "outputs": [
    {
     "name": "stdout",
     "output_type": "stream",
     "text": [
      "(10000, 7)\n"
     ]
    },
    {
     "data": {
      "text/plain": [
       "Text(0.5, 0, 'a for index 1')"
      ]
     },
     "execution_count": 21,
     "metadata": {},
     "output_type": "execute_result"
    },
    {
     "data": {
      "image/png": "[encoded data removed]",
      "text/plain": [
       "<Figure size 500x500 with 8 Axes>"
      ]
     },
     "metadata": {},
     "output_type": "display_data"
    }
   ],
   "source": [
    "n_bins=40\n",
    "print(pars.shape)\n",
    "fig, axs= plt.subplots(4,2, sharey=False, tight_layout= True, dpi=100, figsize= (5,5))\n",
    "true_values=pars\n",
    "ax=plt.subplot(4, 2, 1)\n",
    "ax.hist2d(true_values[:,0], preds[:,0], bins=n_bins, cmap= \"Greys\")\n",
    "plt.ylabel('prediction')\n",
    "plt.xlabel('a for index 0')\n",
    "\n",
    "ax=plt.subplot(4, 2, 2)\n",
    "ax.hist2d(true_values[:,1], preds[:,1], bins=n_bins, cmap= \"Greys\")\n",
    "plt.ylabel('prediction')\n",
    "plt.xlabel('a for index 1')\n",
    "\n",
    "ax=plt.subplot(4, 2, 3)\n",
    "ax.hist2d(true_values[:,2], preds[:,2], bins=n_bins, cmap= \"Greys\")\n",
    "plt.ylabel('prediction')\n",
    "plt.xlabel('a for index 1')\n",
    "\n",
    "\n",
    "ax=plt.subplot(4, 2, 4)\n",
    "ax.hist2d(true_values[:,3], preds[:,3], bins=n_bins, cmap= \"Greys\")\n",
    "plt.ylabel('prediction')\n",
    "plt.xlabel('a for index 1')\n",
    "\n",
    "\n",
    "ax=plt.subplot(4, 2, 5)\n",
    "ax.hist2d(true_values[:,4], preds[:,4], bins=n_bins, cmap= \"Greys\")\n",
    "plt.ylabel('prediction')\n",
    "plt.xlabel('a for index 1')\n",
    "\n",
    "\n",
    "ax=plt.subplot(4, 2, 6)\n",
    "ax.hist2d(true_values[:,5], preds[:,5], bins=n_bins, cmap= \"Greys\")\n",
    "plt.ylabel('prediction')\n",
    "plt.xlabel('a for index 1')\n",
    "\n",
    "\n",
    "ax=plt.subplot(4, 2, 7)\n",
    "ax.hist2d(true_values[:,6], preds[:,6], bins=n_bins, cmap= \"Greys\")\n",
    "plt.ylabel('prediction')\n",
    "plt.xlabel('a for index 1')\n",
    "\n"
   ]
  },
  {
   "cell_type": "code",
   "execution_count": null,
   "id": "568ccbe3-05c2-4c21-8277-573a9d44c629",
   "metadata": {},
   "outputs": [],
   "source": []
  }
 ],
 "metadata": {
  "kernelspec": {
   "display_name": "tensorflow",
   "language": "",
   "name": "tensorflow"
  },
  "language_info": {
   "codemirror_mode": {
    "name": "ipython",
    "version": 3
   },
   "file_extension": ".py",
   "mimetype": "text/x-python",
   "name": "python",
   "nbconvert_exporter": "python",
   "pygments_lexer": "ipython3",
   "version": "3.11.4"
  }
 },
 "nbformat": 4,
 "nbformat_minor": 5
}
