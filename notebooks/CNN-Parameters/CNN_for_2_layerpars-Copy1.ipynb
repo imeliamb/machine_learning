{
 "cells": [
  {
   "cell_type": "code",
   "execution_count": 2,
   "id": "f968928a",
   "metadata": {
    "execution": {
     "iopub.execute_input": "2023-07-03T15:14:58.292227Z",
     "iopub.status.busy": "2023-07-03T15:14:58.291958Z",
     "iopub.status.idle": "2023-07-03T15:15:00.295210Z",
     "shell.execute_reply": "2023-07-03T15:15:00.294647Z",
     "shell.execute_reply.started": "2023-07-03T15:14:58.292211Z"
    },
    "tags": []
   },
   "outputs": [
    {
     "name": "stderr",
     "output_type": "stream",
     "text": [
      "2023-07-03 11:14:58.575693: I tensorflow/core/platform/cpu_feature_guard.cc:182] This TensorFlow binary is optimized to use available CPU instructions in performance-critical operations.\n",
      "To enable the following instructions: SSE4.1 SSE4.2 AVX AVX2 AVX512F AVX512_VNNI FMA, in other operations, rebuild TensorFlow with the appropriate compiler flags.\n"
     ]
    }
   ],
   "source": [
    "import sys\n",
    "import numpy as np\n",
    "import os\n",
    "sys.path.append(os.path.expanduser(\"~/git/machine_learning/src\"))\n",
    "import importlib\n",
    "import models\n",
    "import matplotlib\n",
    "import matplotlib.pyplot as plt\n",
    "import tensorflow as tf"
   ]
  },
  {
   "cell_type": "code",
   "execution_count": 12,
   "id": "34daa1ad",
   "metadata": {
    "execution": {
     "iopub.execute_input": "2023-07-03T15:19:44.650600Z",
     "iopub.status.busy": "2023-07-03T15:19:44.650321Z",
     "iopub.status.idle": "2023-07-03T15:19:44.699267Z",
     "shell.execute_reply": "2023-07-03T15:19:44.698799Z",
     "shell.execute_reply.started": "2023-07-03T15:19:44.650584Z"
    },
    "tags": []
   },
   "outputs": [
    {
     "name": "stdout",
     "output_type": "stream",
     "text": [
      "(100000, 7)\n",
      "(100000, 100)\n",
      "(100,)\n"
     ]
    }
   ],
   "source": [
    "data_dir = os.path.expanduser(\"~m2d/git/analysis_playground/ml/data/training_data\")\n",
    "\n",
    "pars = np.load(os.path.join(data_dir, \"orhs2-pars_pars.npy\"))\n",
    "refl = np.load(os.path.join(data_dir, \"orhs2-pars_data.npy\"))\n",
    "q_values = np.load(os.path.join(data_dir, \"orhs_q_values.npy\"))\n",
    "\n",
    "print(pars.shape)\n",
    "print(refl.shape)\n",
    "print(q_values.shape)\n",
    "\n",
    "idx = 0\n",
    "nset=10000"
   ]
  },
  {
   "cell_type": "code",
   "execution_count": 4,
   "id": "d675268d-2bd0-4f70-8002-7304df05ce8b",
   "metadata": {
    "execution": {
     "iopub.execute_input": "2023-07-03T15:15:03.228410Z",
     "iopub.status.busy": "2023-07-03T15:15:03.228068Z",
     "iopub.status.idle": "2023-07-03T15:15:03.231590Z",
     "shell.execute_reply": "2023-07-03T15:15:03.231197Z",
     "shell.execute_reply.started": "2023-07-03T15:15:03.228391Z"
    },
    "tags": []
   },
   "outputs": [],
   "source": [
    "\n",
    "\n",
    "testset= np.asarray(refl[-nset:])\n",
    "testsetout= np.asarray(pars[-nset:])\n",
    "testpars = np.asarray (pars[-nset:])\n"
   ]
  },
  {
   "cell_type": "code",
   "execution_count": 7,
   "id": "d5b086b5",
   "metadata": {
    "execution": {
     "iopub.execute_input": "2023-07-02T17:58:12.649583Z",
     "iopub.status.busy": "2023-07-02T17:58:12.649367Z",
     "iopub.status.idle": "2023-07-02T18:00:50.836355Z",
     "shell.execute_reply": "2023-07-02T18:00:50.835051Z",
     "shell.execute_reply.started": "2023-07-02T17:58:12.649567Z"
    },
    "tags": []
   },
   "outputs": [
    {
     "name": "stderr",
     "output_type": "stream",
     "text": [
      "2023-07-02 13:58:12.667247: I tensorflow/core/common_runtime/process_util.cc:146] Creating new thread pool with default inter op setting: 2. Tune using inter_op_parallelism_threads for best performance.\n"
     ]
    },
    {
     "name": "stdout",
     "output_type": "stream",
     "text": [
      "Epoch 1/20\n",
      "49/49 [==============================] - 9s 177ms/step - loss: 0.2902 - val_loss: 0.2451\n",
      "Epoch 2/20\n",
      "49/49 [==============================] - 8s 160ms/step - loss: 0.2347 - val_loss: 0.2210\n",
      "Epoch 3/20\n",
      "49/49 [==============================] - 8s 156ms/step - loss: 0.2177 - val_loss: 0.2100\n",
      "Epoch 4/20\n",
      "49/49 [==============================] - 8s 160ms/step - loss: 0.2091 - val_loss: 0.2032\n",
      "Epoch 5/20\n",
      "49/49 [==============================] - 8s 166ms/step - loss: 0.2020 - val_loss: 0.1965\n",
      "Epoch 6/20\n",
      "49/49 [==============================] - 8s 157ms/step - loss: 0.1959 - val_loss: 0.1904\n",
      "Epoch 7/20\n",
      "49/49 [==============================] - 8s 159ms/step - loss: 0.1891 - val_loss: 0.1842\n",
      "Epoch 8/20\n",
      "49/49 [==============================] - 9s 174ms/step - loss: 0.1850 - val_loss: 0.1805\n",
      "Epoch 9/20\n",
      "49/49 [==============================] - 7s 144ms/step - loss: 0.1785 - val_loss: 0.1744\n",
      "Epoch 10/20\n",
      "49/49 [==============================] - 8s 157ms/step - loss: 0.1761 - val_loss: 0.1720\n",
      "Epoch 11/20\n",
      "49/49 [==============================] - 8s 159ms/step - loss: 0.1727 - val_loss: 0.1693\n",
      "Epoch 12/20\n",
      "49/49 [==============================] - 7s 151ms/step - loss: 0.1703 - val_loss: 0.1657\n",
      "Epoch 13/20\n",
      "49/49 [==============================] - 7s 145ms/step - loss: 0.1668 - val_loss: 0.1630\n",
      "Epoch 14/20\n",
      "49/49 [==============================] - 8s 158ms/step - loss: 0.1655 - val_loss: 0.1624\n",
      "Epoch 15/20\n",
      "49/49 [==============================] - 8s 157ms/step - loss: 0.1626 - val_loss: 0.1591\n",
      "Epoch 16/20\n",
      "49/49 [==============================] - 8s 161ms/step - loss: 0.1607 - val_loss: 0.1600\n",
      "Epoch 17/20\n",
      "49/49 [==============================] - 8s 166ms/step - loss: 0.1599 - val_loss: 0.1561\n",
      "Epoch 18/20\n",
      "49/49 [==============================] - 8s 172ms/step - loss: 0.1583 - val_loss: 0.1545\n",
      "Epoch 19/20\n",
      "49/49 [==============================] - 8s 171ms/step - loss: 0.1572 - val_loss: 0.1550\n",
      "Epoch 20/20\n",
      "49/49 [==============================] - 8s 156ms/step - loss: 0.1542 - val_loss: 0.1540\n"
     ]
    }
   ],
   "source": [
    "import importlib\n",
    "importlib.reload(models)\n",
    "n_data = refl.shape[0]\n",
    "n_features = refl.shape[1]\n",
    "n_outputs = 7\n",
    "\n",
    "encoder=models.cnn_encoder(n_data, n_features, n_outputs)\n",
    "encoder.compile(loss='mean_squared_error', optimizer=tf.keras.optimizers.Adam())\n",
    "history = encoder.fit(refl, pars,\n",
    "                        epochs=20, batch_size=2056,\n",
    "                        validation_data=(testset, testsetout))"
   ]
  },
  {
   "cell_type": "code",
   "execution_count": 8,
   "id": "aff8a673-ad3f-4375-acd3-24da8d37be90",
   "metadata": {
    "execution": {
     "iopub.execute_input": "2023-07-02T18:13:11.288426Z",
     "iopub.status.busy": "2023-07-02T18:13:11.288093Z",
     "iopub.status.idle": "2023-07-02T18:13:11.366206Z",
     "shell.execute_reply": "2023-07-02T18:13:11.365694Z",
     "shell.execute_reply.started": "2023-07-02T18:13:11.288402Z"
    },
    "tags": []
   },
   "outputs": [],
   "source": [
    "importlib.reload(models)\n",
    "data_dir = os.path.expanduser(\"~/git/machine_learning/data\")\n",
    "models.save_model(encoder, \"twolayerpars\", data_dir)"
   ]
  },
  {
   "cell_type": "code",
   "execution_count": 6,
   "id": "6827cdd8-e88f-4764-b89b-a39b4a352a4b",
   "metadata": {
    "execution": {
     "iopub.execute_input": "2023-07-03T15:15:32.625662Z",
     "iopub.status.busy": "2023-07-03T15:15:32.625205Z",
     "iopub.status.idle": "2023-07-03T15:15:32.631048Z",
     "shell.execute_reply": "2023-07-03T15:15:32.630654Z",
     "shell.execute_reply.started": "2023-07-03T15:15:32.625633Z"
    },
    "tags": []
   },
   "outputs": [],
   "source": [
    "importlib.reload(models)\n",
    "data_dir = os.path.expanduser(\"~/git/machine_learning/data\")"
   ]
  },
  {
   "cell_type": "code",
   "execution_count": 7,
   "id": "0fee110a-39c5-4fe0-8803-ac1b4ae3c55d",
   "metadata": {
    "execution": {
     "iopub.execute_input": "2023-07-03T15:15:33.319157Z",
     "iopub.status.busy": "2023-07-03T15:15:33.318786Z",
     "iopub.status.idle": "2023-07-03T15:15:33.480102Z",
     "shell.execute_reply": "2023-07-03T15:15:33.479655Z",
     "shell.execute_reply.started": "2023-07-03T15:15:33.319142Z"
    },
    "tags": []
   },
   "outputs": [
    {
     "name": "stderr",
     "output_type": "stream",
     "text": [
      "2023-07-03 11:15:33.334770: I tensorflow/core/common_runtime/process_util.cc:146] Creating new thread pool with default inter op setting: 2. Tune using inter_op_parallelism_threads for best performance.\n"
     ]
    }
   ],
   "source": [
    "model=models.load_model(\"twolayerpars\", data_dir)\n",
    "idx=0"
   ]
  },
  {
   "cell_type": "code",
   "execution_count": 8,
   "id": "27b9065e-04c9-4791-9e7f-b8ea56f51f20",
   "metadata": {
    "execution": {
     "iopub.execute_input": "2023-07-03T15:15:35.321929Z",
     "iopub.status.busy": "2023-07-03T15:15:35.321474Z",
     "iopub.status.idle": "2023-07-03T15:15:35.341344Z",
     "shell.execute_reply": "2023-07-03T15:15:35.340872Z",
     "shell.execute_reply.started": "2023-07-03T15:15:35.321900Z"
    },
    "tags": []
   },
   "outputs": [
    {
     "ename": "NameError",
     "evalue": "name 'encoder' is not defined",
     "output_type": "error",
     "traceback": [
      "\u001b[0;31m---------------------------------------------------------------------------\u001b[0m",
      "\u001b[0;31mNameError\u001b[0m                                 Traceback (most recent call last)",
      "Cell \u001b[0;32mIn[8], line 1\u001b[0m\n\u001b[0;32m----> 1\u001b[0m pars\u001b[38;5;241m=\u001b[39m\u001b[43mencoder\u001b[49m\u001b[38;5;241m.\u001b[39mpredict(testset)\n",
      "\u001b[0;31mNameError\u001b[0m: name 'encoder' is not defined"
     ]
    }
   ],
   "source": [
    "pars=encoder.predict(testset)\n"
   ]
  },
  {
   "cell_type": "code",
   "execution_count": 11,
   "id": "5a4b7890-b052-4697-a15e-12afe48c8043",
   "metadata": {
    "execution": {
     "iopub.execute_input": "2023-07-03T15:19:31.613291Z",
     "iopub.status.busy": "2023-07-03T15:19:31.613047Z",
     "iopub.status.idle": "2023-07-03T15:19:31.616435Z",
     "shell.execute_reply": "2023-07-03T15:19:31.615963Z",
     "shell.execute_reply.started": "2023-07-03T15:19:31.613274Z"
    },
    "tags": []
   },
   "outputs": [],
   "source": [
    "preds=model.predict(refl)"
   ]
  },
  {
   "cell_type": "code",
   "execution_count": 12,
   "id": "525ca631-ae0b-411f-8691-0e7703b4674e",
   "metadata": {
    "execution": {
     "iopub.execute_input": "2023-07-02T18:13:47.699367Z",
     "iopub.status.busy": "2023-07-02T18:13:47.699020Z",
     "iopub.status.idle": "2023-07-02T18:13:47.704923Z",
     "shell.execute_reply": "2023-07-02T18:13:47.704189Z",
     "shell.execute_reply.started": "2023-07-02T18:13:47.699350Z"
    },
    "tags": []
   },
   "outputs": [],
   "source": [
    "idx=0"
   ]
  },
  {
   "cell_type": "code",
   "execution_count": 13,
   "id": "e4a26fad-ff13-49d8-a90a-8f476f20c20d",
   "metadata": {
    "execution": {
     "iopub.execute_input": "2023-07-02T18:13:48.441249Z",
     "iopub.status.busy": "2023-07-02T18:13:48.440907Z",
     "iopub.status.idle": "2023-07-02T18:13:48.445346Z",
     "shell.execute_reply": "2023-07-02T18:13:48.444950Z",
     "shell.execute_reply.started": "2023-07-02T18:13:48.441226Z"
    },
    "tags": []
   },
   "outputs": [
    {
     "name": "stdout",
     "output_type": "stream",
     "text": [
      "[-0.09560294 -0.26584396 -0.19563372  0.39993346 -0.45884943  0.3195661\n",
      "  0.6401187 ]\n",
      "[-0.5306515  -0.23764937 -0.80548256  0.44223432 -0.41918583  0.72816396\n",
      "  0.5038983 ]\n"
     ]
    }
   ],
   "source": [
    "print (pars[idx])\n",
    "print(testsetout[idx])\n",
    "idx+=1"
   ]
  },
  {
   "cell_type": "code",
   "execution_count": 13,
   "id": "48843d5e-8cea-4f99-a21a-cba911544252",
   "metadata": {
    "execution": {
     "iopub.execute_input": "2023-07-03T15:21:32.198154Z",
     "iopub.status.busy": "2023-07-03T15:21:32.197898Z",
     "iopub.status.idle": "2023-07-03T15:21:33.123083Z",
     "shell.execute_reply": "2023-07-03T15:21:33.122688Z",
     "shell.execute_reply.started": "2023-07-03T15:21:32.198138Z"
    },
    "tags": []
   },
   "outputs": [
    {
     "name": "stdout",
     "output_type": "stream",
     "text": [
      "(100000, 7)\n"
     ]
    },
    {
     "data": {
      "text/plain": [
       "Text(0.5, 0, 'a for index 1')"
      ]
     },
     "execution_count": 13,
     "metadata": {},
     "output_type": "execute_result"
    },
    {
     "data": {
      "image/png": "[encoded data removed]",
      "text/plain": [
       "<Figure size 500x500 with 8 Axes>"
      ]
     },
     "metadata": {},
     "output_type": "display_data"
    }
   ],
   "source": [
    "n_bins=40\n",
    "print(pars.shape)\n",
    "fig, axs= plt.subplots(4,2, sharey=False, tight_layout= True, dpi=100, figsize= (5,5))\n",
    "true_values=pars\n",
    "ax=plt.subplot(4, 2, 1)\n",
    "ax.hist2d(true_values[:,0], preds[:,0], bins=n_bins, cmap= \"Greys\")\n",
    "plt.ylabel('prediction')\n",
    "plt.xlabel('a for index 0')\n",
    "\n",
    "ax=plt.subplot(4, 2, 2)\n",
    "ax.hist2d(true_values[:,1], preds[:,1], bins=n_bins, cmap= \"Greys\")\n",
    "plt.ylabel('prediction')\n",
    "plt.xlabel('a for index 1')\n",
    "\n",
    "ax=plt.subplot(4, 2, 3)\n",
    "ax.hist2d(true_values[:,2], preds[:,2], bins=n_bins, cmap= \"Greys\")\n",
    "plt.ylabel('prediction')\n",
    "plt.xlabel('a for index 1')\n",
    "\n",
    "\n",
    "ax=plt.subplot(4, 2, 4)\n",
    "ax.hist2d(true_values[:,3], preds[:,3], bins=n_bins, cmap= \"Greys\")\n",
    "plt.ylabel('prediction')\n",
    "plt.xlabel('a for index 1')\n",
    "\n",
    "\n",
    "ax=plt.subplot(4, 2, 5)\n",
    "ax.hist2d(true_values[:,4], preds[:,4], bins=n_bins, cmap= \"Greys\")\n",
    "plt.ylabel('prediction')\n",
    "plt.xlabel('a for index 1')\n",
    "\n",
    "\n",
    "ax=plt.subplot(4, 2, 6)\n",
    "ax.hist2d(true_values[:,5], preds[:,5], bins=n_bins, cmap= \"Greys\")\n",
    "plt.ylabel('prediction')\n",
    "plt.xlabel('a for index 1')\n",
    "\n",
    "\n",
    "ax=plt.subplot(4, 2, 7)\n",
    "ax.hist2d(true_values[:,6], preds[:,6], bins=n_bins, cmap= \"Greys\")\n",
    "plt.ylabel('prediction')\n",
    "plt.xlabel('a for index 1')\n",
    "\n"
   ]
  },
  {
   "cell_type": "code",
   "execution_count": null,
   "id": "568ccbe3-05c2-4c21-8277-573a9d44c629",
   "metadata": {},
   "outputs": [],
   "source": []
  }
 ],
 "metadata": {
  "kernelspec": {
   "display_name": "tensorflow",
   "language": "",
   "name": "tensorflow"
  },
  "language_info": {
   "codemirror_mode": {
    "name": "ipython",
    "version": 3
   },
   "file_extension": ".py",
   "mimetype": "text/x-python",
   "name": "python",
   "nbconvert_exporter": "python",
   "pygments_lexer": "ipython3",
   "version": "3.11.0"
  }
 },
 "nbformat": 4,
 "nbformat_minor": 5
}
