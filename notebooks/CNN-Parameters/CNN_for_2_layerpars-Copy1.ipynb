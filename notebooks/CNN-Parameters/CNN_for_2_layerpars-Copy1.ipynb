{
 "cells": [
  {
   "cell_type": "code",
   "execution_count": 5,
   "id": "f968928a",
   "metadata": {
    "execution": {
     "iopub.execute_input": "2023-06-19T15:22:57.013789Z",
     "iopub.status.busy": "2023-06-19T15:22:57.013023Z",
     "iopub.status.idle": "2023-06-19T15:22:57.016542Z",
     "shell.execute_reply": "2023-06-19T15:22:57.016189Z",
     "shell.execute_reply.started": "2023-06-19T15:22:57.013766Z"
    },
    "tags": []
   },
   "outputs": [],
   "source": [
    "import sys\n",
    "import numpy as np\n",
    "import os\n",
    "sys.path.append(os.path.expanduser(\"~/git/machine_learning/src\"))\n",
    "import importlib\n",
    "import models\n",
    "import matplotlib\n",
    "import matplotlib.pyplot as plt\n",
    "import tensorflow as tf"
   ]
  },
  {
   "cell_type": "code",
   "execution_count": 6,
   "id": "34daa1ad",
   "metadata": {
    "execution": {
     "iopub.execute_input": "2023-06-19T15:22:59.972861Z",
     "iopub.status.busy": "2023-06-19T15:22:59.972408Z",
     "iopub.status.idle": "2023-06-19T15:23:00.120106Z",
     "shell.execute_reply": "2023-06-19T15:23:00.119689Z",
     "shell.execute_reply.started": "2023-06-19T15:22:59.972842Z"
    },
    "tags": []
   },
   "outputs": [
    {
     "name": "stdout",
     "output_type": "stream",
     "text": [
      "(100000, 7)\n",
      "(100000, 100)\n",
      "(100,)\n"
     ]
    }
   ],
   "source": [
    "data_dir = os.path.expanduser(\"~m2d/git/analysis_playground/ml/data/training_data\")\n",
    "\n",
    "pars = np.load(os.path.join(data_dir, \"orhs2-pars_pars.npy\"))\n",
    "refl = np.load(os.path.join(data_dir, \"orhs2-pars_data.npy\"))\n",
    "q_values = np.load(os.path.join(data_dir, \"orhs_q_values.npy\"))\n",
    "\n",
    "print(pars.shape)\n",
    "print(refl.shape)\n",
    "print(q_values.shape)\n",
    "\n",
    "idx = 0\n",
    "nset=10000"
   ]
  },
  {
   "cell_type": "code",
   "execution_count": 7,
   "id": "d675268d-2bd0-4f70-8002-7304df05ce8b",
   "metadata": {
    "execution": {
     "iopub.execute_input": "2023-06-19T15:23:06.396288Z",
     "iopub.status.busy": "2023-06-19T15:23:06.395862Z",
     "iopub.status.idle": "2023-06-19T15:23:06.398797Z",
     "shell.execute_reply": "2023-06-19T15:23:06.398441Z",
     "shell.execute_reply.started": "2023-06-19T15:23:06.396270Z"
    },
    "tags": []
   },
   "outputs": [],
   "source": [
    "\n",
    "\n",
    "testset= np.asarray(refl[-nset:])\n",
    "testsetout= np.asarray(pars[-nset:])\n",
    "testpars = np.asarray (pars[-nset:])\n"
   ]
  },
  {
   "cell_type": "code",
   "execution_count": 8,
   "id": "d5b086b5",
   "metadata": {
    "execution": {
     "iopub.execute_input": "2023-06-19T15:23:20.150822Z",
     "iopub.status.busy": "2023-06-19T15:23:20.150555Z",
     "iopub.status.idle": "2023-06-19T15:25:49.431867Z",
     "shell.execute_reply": "2023-06-19T15:25:49.430580Z",
     "shell.execute_reply.started": "2023-06-19T15:23:20.150803Z"
    },
    "tags": []
   },
   "outputs": [
    {
     "name": "stdout",
     "output_type": "stream",
     "text": [
      "Epoch 1/20\n"
     ]
    },
    {
     "name": "stderr",
     "output_type": "stream",
     "text": [
      "2023-06-19 11:23:20.169951: I tensorflow/core/common_runtime/process_util.cc:146] Creating new thread pool with default inter op setting: 2. Tune using inter_op_parallelism_threads for best performance.\n"
     ]
    },
    {
     "name": "stdout",
     "output_type": "stream",
     "text": [
      "49/49 [==============================] - 9s 162ms/step - loss: 0.2956 - val_loss: 0.2507\n",
      "Epoch 2/20\n",
      "49/49 [==============================] - 7s 142ms/step - loss: 0.2374 - val_loss: 0.2233\n",
      "Epoch 3/20\n",
      "49/49 [==============================] - 7s 144ms/step - loss: 0.2209 - val_loss: 0.2136\n",
      "Epoch 4/20\n",
      "49/49 [==============================] - 7s 139ms/step - loss: 0.2132 - val_loss: 0.2067\n",
      "Epoch 5/20\n",
      "49/49 [==============================] - 7s 140ms/step - loss: 0.2048 - val_loss: 0.1995\n",
      "Epoch 6/20\n",
      "49/49 [==============================] - 8s 164ms/step - loss: 0.1987 - val_loss: 0.1933\n",
      "Epoch 7/20\n",
      "49/49 [==============================] - 7s 149ms/step - loss: 0.1935 - val_loss: 0.1886\n",
      "Epoch 8/20\n",
      "49/49 [==============================] - 7s 148ms/step - loss: 0.1874 - val_loss: 0.1810\n",
      "Epoch 9/20\n",
      "49/49 [==============================] - 8s 154ms/step - loss: 0.1827 - val_loss: 0.1796\n",
      "Epoch 10/20\n",
      "49/49 [==============================] - 7s 148ms/step - loss: 0.1781 - val_loss: 0.1757\n",
      "Epoch 11/20\n",
      "49/49 [==============================] - 8s 157ms/step - loss: 0.1741 - val_loss: 0.1712\n",
      "Epoch 12/20\n",
      "49/49 [==============================] - 8s 154ms/step - loss: 0.1719 - val_loss: 0.1681\n",
      "Epoch 13/20\n",
      "49/49 [==============================] - 7s 150ms/step - loss: 0.1694 - val_loss: 0.1651\n",
      "Epoch 14/20\n",
      "49/49 [==============================] - 9s 174ms/step - loss: 0.1666 - val_loss: 0.1631\n",
      "Epoch 15/20\n",
      "49/49 [==============================] - 8s 165ms/step - loss: 0.1643 - val_loss: 0.1630\n",
      "Epoch 16/20\n",
      "49/49 [==============================] - 8s 161ms/step - loss: 0.1627 - val_loss: 0.1628\n",
      "Epoch 17/20\n",
      "49/49 [==============================] - 7s 149ms/step - loss: 0.1607 - val_loss: 0.1594\n",
      "Epoch 18/20\n",
      "49/49 [==============================] - 7s 141ms/step - loss: 0.1599 - val_loss: 0.1593\n",
      "Epoch 19/20\n",
      "49/49 [==============================] - 7s 141ms/step - loss: 0.1575 - val_loss: 0.1551\n",
      "Epoch 20/20\n",
      "49/49 [==============================] - 7s 146ms/step - loss: 0.1561 - val_loss: 0.1532\n"
     ]
    }
   ],
   "source": [
    "import importlib\n",
    "importlib.reload(models)\n",
    "n_data = refl.shape[0]\n",
    "n_features = refl.shape[1]\n",
    "n_outputs = 7\n",
    "\n",
    "encoder=models.cnn_encoder(n_data, n_features, n_outputs)\n",
    "encoder.compile(loss='mean_squared_error', optimizer=tf.keras.optimizers.Adam())\n",
    "history = encoder.fit(refl, pars,\n",
    "                        epochs=20, batch_size=2056,\n",
    "                        validation_data=(testset, testsetout))"
   ]
  },
  {
   "cell_type": "code",
   "execution_count": 9,
   "id": "aff8a673-ad3f-4375-acd3-24da8d37be90",
   "metadata": {
    "execution": {
     "iopub.execute_input": "2023-06-19T15:27:07.521149Z",
     "iopub.status.busy": "2023-06-19T15:27:07.520784Z",
     "iopub.status.idle": "2023-06-19T15:27:07.563064Z",
     "shell.execute_reply": "2023-06-19T15:27:07.562667Z",
     "shell.execute_reply.started": "2023-06-19T15:27:07.521132Z"
    },
    "tags": []
   },
   "outputs": [],
   "source": [
    "importlib.reload(models)\n",
    "data_dir = os.path.expanduser(\"~/git/machine_learning/data\")\n",
    "models.save_model(encoder, \"twolayerpars\", data_dir)"
   ]
  },
  {
   "cell_type": "code",
   "execution_count": 55,
   "id": "6827cdd8-e88f-4764-b89b-a39b4a352a4b",
   "metadata": {
    "execution": {
     "iopub.execute_input": "2023-06-12T16:38:01.434341Z",
     "iopub.status.busy": "2023-06-12T16:38:01.434023Z",
     "iopub.status.idle": "2023-06-12T16:38:01.465892Z",
     "shell.execute_reply": "2023-06-12T16:38:01.465409Z",
     "shell.execute_reply.started": "2023-06-12T16:38:01.434323Z"
    },
    "tags": []
   },
   "outputs": [
    {
     "data": {
      "text/plain": [
       "<module 'models' from '/SNS/users/vogtdan000/git/machine_learning/src/models.py'>"
      ]
     },
     "execution_count": 55,
     "metadata": {},
     "output_type": "execute_result"
    }
   ],
   "source": [
    "importlib.reload(models)"
   ]
  },
  {
   "cell_type": "code",
   "execution_count": 1,
   "id": "0fee110a-39c5-4fe0-8803-ac1b4ae3c55d",
   "metadata": {
    "execution": {
     "iopub.execute_input": "2023-06-16T20:56:28.239851Z",
     "iopub.status.busy": "2023-06-16T20:56:28.239592Z",
     "iopub.status.idle": "2023-06-16T20:56:28.357179Z",
     "shell.execute_reply": "2023-06-16T20:56:28.356622Z",
     "shell.execute_reply.started": "2023-06-16T20:56:28.239832Z"
    },
    "tags": []
   },
   "outputs": [
    {
     "ename": "NameError",
     "evalue": "name 'models' is not defined",
     "output_type": "error",
     "traceback": [
      "\u001b[0;31m---------------------------------------------------------------------------\u001b[0m",
      "\u001b[0;31mNameError\u001b[0m                                 Traceback (most recent call last)",
      "Cell \u001b[0;32mIn[1], line 1\u001b[0m\n\u001b[0;32m----> 1\u001b[0m model\u001b[38;5;241m=\u001b[39m\u001b[43mmodels\u001b[49m\u001b[38;5;241m.\u001b[39mload_model(\u001b[38;5;124m\"\u001b[39m\u001b[38;5;124mlayeronecnn\u001b[39m\u001b[38;5;124m\"\u001b[39m, data_dir)\n\u001b[1;32m      2\u001b[0m idx\u001b[38;5;241m=\u001b[39m\u001b[38;5;241m0\u001b[39m\n",
      "\u001b[0;31mNameError\u001b[0m: name 'models' is not defined"
     ]
    }
   ],
   "source": [
    "model=models.load_model(\"layeronecnn\", data_dir)\n",
    "idx=0"
   ]
  },
  {
   "cell_type": "code",
   "execution_count": 10,
   "id": "27b9065e-04c9-4791-9e7f-b8ea56f51f20",
   "metadata": {
    "execution": {
     "iopub.execute_input": "2023-06-19T15:28:06.135389Z",
     "iopub.status.busy": "2023-06-19T15:28:06.134706Z",
     "iopub.status.idle": "2023-06-19T15:28:16.081386Z",
     "shell.execute_reply": "2023-06-19T15:28:16.080535Z",
     "shell.execute_reply.started": "2023-06-19T15:28:06.135375Z"
    }
   },
   "outputs": [
    {
     "name": "stdout",
     "output_type": "stream",
     "text": [
      "313/313 [==============================] - 10s 31ms/step\n"
     ]
    }
   ],
   "source": [
    "pars=encoder.predict(testset)\n"
   ]
  },
  {
   "cell_type": "code",
   "execution_count": 11,
   "id": "525ca631-ae0b-411f-8691-0e7703b4674e",
   "metadata": {
    "execution": {
     "iopub.execute_input": "2023-06-19T15:28:54.479847Z",
     "iopub.status.busy": "2023-06-19T15:28:54.479505Z",
     "iopub.status.idle": "2023-06-19T15:28:54.482946Z",
     "shell.execute_reply": "2023-06-19T15:28:54.482447Z",
     "shell.execute_reply.started": "2023-06-19T15:28:54.479828Z"
    }
   },
   "outputs": [],
   "source": [
    "idx=0"
   ]
  },
  {
   "cell_type": "code",
   "execution_count": 12,
   "id": "e4a26fad-ff13-49d8-a90a-8f476f20c20d",
   "metadata": {
    "execution": {
     "iopub.execute_input": "2023-06-19T15:28:55.356746Z",
     "iopub.status.busy": "2023-06-19T15:28:55.356559Z",
     "iopub.status.idle": "2023-06-19T15:28:55.360295Z",
     "shell.execute_reply": "2023-06-19T15:28:55.359827Z",
     "shell.execute_reply.started": "2023-06-19T15:28:55.356734Z"
    }
   },
   "outputs": [
    {
     "name": "stdout",
     "output_type": "stream",
     "text": [
      "[ 0.15863281 -0.10618944  0.08716353  0.28144723 -0.5968087   0.09214333\n",
      "  0.7440859 ]\n",
      "[-0.5306515  -0.23764937 -0.80548256  0.44223432 -0.41918583  0.72816396\n",
      "  0.5038983 ]\n"
     ]
    }
   ],
   "source": [
    "print (pars[idx])\n",
    "print(testsetout[idx])\n",
    "idx+=1"
   ]
  },
  {
   "cell_type": "code",
   "execution_count": 18,
   "id": "48843d5e-8cea-4f99-a21a-cba911544252",
   "metadata": {
    "execution": {
     "iopub.execute_input": "2023-06-19T15:35:54.733474Z",
     "iopub.status.busy": "2023-06-19T15:35:54.733210Z",
     "iopub.status.idle": "2023-06-19T15:35:55.782369Z",
     "shell.execute_reply": "2023-06-19T15:35:55.781842Z",
     "shell.execute_reply.started": "2023-06-19T15:35:54.733458Z"
    },
    "tags": []
   },
   "outputs": [
    {
     "name": "stdout",
     "output_type": "stream",
     "text": [
      "(10000, 7)\n"
     ]
    },
    {
     "data": {
      "text/plain": [
       "Text(0.5, 0, 'a for index 1')"
      ]
     },
     "execution_count": 18,
     "metadata": {},
     "output_type": "execute_result"
    },
    {
     "data": {
      "image/png": "[encoded data removed]",
      "text/plain": [
       "<Figure size 500x500 with 8 Axes>"
      ]
     },
     "metadata": {},
     "output_type": "display_data"
    }
   ],
   "source": [
    "n_bins=40\n",
    "print(pars.shape)\n",
    "fig, axs= plt.subplots(4,2, sharey=False, tight_layout= True, dpi=100, figsize= (5,5))\n",
    "\n",
    "ax=plt.subplot(4, 2, 1)\n",
    "ax.hist2d(testsetout[:,0], pars[:,0], bins=n_bins, cmap= \"Greys\")\n",
    "plt.ylabel('prediction')\n",
    "plt.xlabel('a for index 0')\n",
    "\n",
    "ax=plt.subplot(4, 2, 2)\n",
    "ax.hist2d(testsetout[:,1], pars[:,1], bins=n_bins, cmap= \"Greys\")\n",
    "plt.ylabel('prediction')\n",
    "plt.xlabel('a for index 1')\n",
    "\n",
    "ax=plt.subplot(4, 2, 3)\n",
    "ax.hist2d(testsetout[:,2], pars[:,2], bins=n_bins, cmap= \"Greys\")\n",
    "plt.ylabel('prediction')\n",
    "plt.xlabel('a for index 1')\n",
    "\n",
    "\n",
    "ax=plt.subplot(4, 2, 4)\n",
    "ax.hist2d(testsetout[:,3], pars[:,3], bins=n_bins, cmap= \"Greys\")\n",
    "plt.ylabel('prediction')\n",
    "plt.xlabel('a for index 1')\n",
    "\n",
    "\n",
    "ax=plt.subplot(4, 2, 5)\n",
    "ax.hist2d(testsetout[:,4], pars[:,4], bins=n_bins, cmap= \"Greys\")\n",
    "plt.ylabel('prediction')\n",
    "plt.xlabel('a for index 1')\n",
    "\n",
    "\n",
    "ax=plt.subplot(4, 2, 6)\n",
    "ax.hist2d(testsetout[:,5], pars[:,5], bins=n_bins, cmap= \"Greys\")\n",
    "plt.ylabel('prediction')\n",
    "plt.xlabel('a for index 1')\n",
    "\n",
    "\n",
    "ax=plt.subplot(4, 2, 7)\n",
    "ax.hist2d(testsetout[:,6], pars[:,6], bins=n_bins, cmap= \"Greys\")\n",
    "plt.ylabel('prediction')\n",
    "plt.xlabel('a for index 1')\n",
    "\n"
   ]
  },
  {
   "cell_type": "code",
   "execution_count": null,
   "id": "568ccbe3-05c2-4c21-8277-573a9d44c629",
   "metadata": {},
   "outputs": [],
   "source": []
  }
 ],
 "metadata": {
  "kernelspec": {
   "display_name": "tensorflow",
   "language": "",
   "name": "tensorflow"
  },
  "language_info": {
   "codemirror_mode": {
    "name": "ipython",
    "version": 3
   },
   "file_extension": ".py",
   "mimetype": "text/x-python",
   "name": "python",
   "nbconvert_exporter": "python",
   "pygments_lexer": "ipython3",
   "version": "3.11.0"
  }
 },
 "nbformat": 4,
 "nbformat_minor": 5
}
