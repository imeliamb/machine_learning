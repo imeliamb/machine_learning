{
 "cells": [
  {
   "cell_type": "code",
   "execution_count": 31,
   "id": "f968928a",
   "metadata": {
    "execution": {
     "iopub.execute_input": "2023-06-08T21:20:11.641486Z",
     "iopub.status.busy": "2023-06-08T21:20:11.641098Z",
     "iopub.status.idle": "2023-06-08T21:20:11.644356Z",
     "shell.execute_reply": "2023-06-08T21:20:11.643916Z",
     "shell.execute_reply.started": "2023-06-08T21:20:11.641467Z"
    },
    "tags": []
   },
   "outputs": [],
   "source": [
    "import sys\n",
    "import numpy as np\n",
    "sys.path.append(\"/SNS/users/m2d/git/machine_learning/src\")\n",
    "import importlib\n",
    "import models\n",
    "import os\n",
    "import matplotlib\n",
    "import matplotlib.pyplot as plt\n",
    "import tensorflow as tf"
   ]
  },
  {
   "cell_type": "code",
   "execution_count": 40,
   "id": "34daa1ad",
   "metadata": {
    "execution": {
     "iopub.execute_input": "2023-06-08T21:27:24.201372Z",
     "iopub.status.busy": "2023-06-08T21:27:24.201074Z",
     "iopub.status.idle": "2023-06-08T21:27:24.541611Z",
     "shell.execute_reply": "2023-06-08T21:27:24.540943Z",
     "shell.execute_reply.started": "2023-06-08T21:27:24.201353Z"
    },
    "tags": []
   },
   "outputs": [
    {
     "name": "stdout",
     "output_type": "stream",
     "text": [
      "(1000000,)\n",
      "(1000000, 100)\n",
      "(100,)\n"
     ]
    }
   ],
   "source": [
    "data_dir = os.path.expanduser(\"~m2d/git/analysis_playground/ml/data/training_data\")\n",
    "\n",
    "pars = np.load(os.path.join(data_dir, \"orhs_pars.npy\"))[:1000000]\n",
    "refl = np.load(os.path.join(data_dir, \"orhs_data.npy\"))[:1000000]\n",
    "q_values = np.load(os.path.join(data_dir, \"orhs_q_values.npy\"))\n",
    "\n",
    "print(pars.shape)\n",
    "print(refl.shape)\n",
    "print(q_values.shape)\n",
    "\n",
    "idx = 0\n",
    "nset=10000"
   ]
  },
  {
   "cell_type": "code",
   "execution_count": 41,
   "id": "d65131fc-b2db-4c12-b4b8-281d312d7561",
   "metadata": {
    "execution": {
     "iopub.execute_input": "2023-06-08T21:27:25.154433Z",
     "iopub.status.busy": "2023-06-08T21:27:25.153959Z",
     "iopub.status.idle": "2023-06-08T21:27:26.556641Z",
     "shell.execute_reply": "2023-06-08T21:27:26.555780Z",
     "shell.execute_reply.started": "2023-06-08T21:27:25.154417Z"
    },
    "tags": []
   },
   "outputs": [],
   "source": [
    "onelayerpars=[]\n",
    "onelayerrefl=[]\n",
    "twolayerpars=[]\n",
    "twolayerrefl=[]\n",
    "for i in range( len(pars)-1):\n",
    "    if pars[i]==0:\n",
    "        onelayerpars.append(pars[i])\n",
    "        onelayerrefl.append(refl[i])\n",
    "    else:\n",
    "        twolayerpars.append(pars[i])\n",
    "        twolayerrefl.append(refl[i])\n",
    "onepars=np.asarray(onelayerpars)\n",
    "onerefl=np.asarray(onelayerrefl)\n",
    "twopars=np.asarray(twolayerpars)\n",
    "tworefl=np.asarray(twolayerrefl)"
   ]
  },
  {
   "cell_type": "code",
   "execution_count": 42,
   "id": "7d34c3c8-df7c-4de4-8ebd-ff8250a18a0c",
   "metadata": {
    "execution": {
     "iopub.execute_input": "2023-06-08T21:27:28.353239Z",
     "iopub.status.busy": "2023-06-08T21:27:28.352943Z",
     "iopub.status.idle": "2023-06-08T21:27:28.356557Z",
     "shell.execute_reply": "2023-06-08T21:27:28.356075Z",
     "shell.execute_reply.started": "2023-06-08T21:27:28.353224Z"
    },
    "tags": []
   },
   "outputs": [],
   "source": [
    "refl= onerefl[:-nset]\n",
    "pars=onepars[:-nset]\n",
    "\n",
    "testset= np.asarray(onerefl[-nset:])\n",
    "testsetout= np.asarray(onepars[-nset:])\n",
    "testpars = np.asarray (onepars[-nset:])"
   ]
  },
  {
   "cell_type": "code",
   "execution_count": null,
   "id": "d5b086b5",
   "metadata": {
    "execution": {
     "iopub.execute_input": "2023-06-08T21:27:30.787113Z",
     "iopub.status.busy": "2023-06-08T21:27:30.786868Z"
    },
    "tags": []
   },
   "outputs": [
    {
     "name": "stdout",
     "output_type": "stream",
     "text": [
      "Epoch 1/20\n",
      "1915/1915 [==============================] - 199s 104ms/step - loss: 7.3848e-04 - val_loss: 1.6529e-06\n",
      "Epoch 2/20\n",
      "1915/1915 [==============================] - 213s 111ms/step - loss: 8.9267e-07 - val_loss: 1.3042e-06\n",
      "Epoch 3/20\n",
      "1072/1915 [===============>..............] - ETA: 1:34 - loss: 1.9738e-06"
     ]
    }
   ],
   "source": [
    "import importlib\n",
    "importlib.reload(models)\n",
    "n_data = refl.shape[0]\n",
    "n_features = refl.shape[1]\n",
    "n_outputs = 3\n",
    "\n",
    "encoder=models.cnn_encoder(n_data, n_features, n_outputs)\n",
    "encoder.compile(loss='mean_squared_error', optimizer=tf.keras.optimizers.Adam())\n",
    "history = encoder.fit(refl, pars,\n",
    "                        epochs=20, batch_size=256,\n",
    "                        validation_data=(testset, testsetout))"
   ]
  },
  {
   "cell_type": "code",
   "execution_count": null,
   "id": "aff8a673-ad3f-4375-acd3-24da8d37be90",
   "metadata": {},
   "outputs": [],
   "source": []
  }
 ],
 "metadata": {
  "kernelspec": {
   "display_name": "tensorflow",
   "language": "",
   "name": "tensorflow"
  },
  "language_info": {
   "codemirror_mode": {
    "name": "ipython",
    "version": 3
   },
   "file_extension": ".py",
   "mimetype": "text/x-python",
   "name": "python",
   "nbconvert_exporter": "python",
   "pygments_lexer": "ipython3",
   "version": "3.11.0"
  }
 },
 "nbformat": 4,
 "nbformat_minor": 5
}
