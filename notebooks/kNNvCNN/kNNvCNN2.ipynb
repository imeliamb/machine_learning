{
 "cells": [
  {
   "cell_type": "code",
   "execution_count": 1,
   "id": "1826123d-98c6-4724-b64d-786e4bd0adbd",
   "metadata": {
    "execution": {
     "iopub.execute_input": "2023-06-29T18:00:56.736022Z",
     "iopub.status.busy": "2023-06-29T18:00:56.735745Z",
     "iopub.status.idle": "2023-06-29T18:01:02.695766Z",
     "shell.execute_reply": "2023-06-29T18:01:02.695157Z",
     "shell.execute_reply.started": "2023-06-29T18:00:56.736000Z"
    }
   },
   "outputs": [
    {
     "name": "stderr",
     "output_type": "stream",
     "text": [
      "2023-06-29 14:01:00.941721: I tensorflow/core/platform/cpu_feature_guard.cc:182] This TensorFlow binary is optimized to use available CPU instructions in performance-critical operations.\n",
      "To enable the following instructions: SSE4.1 SSE4.2 AVX AVX2 AVX512F AVX512_VNNI FMA, in other operations, rebuild TensorFlow with the appropriate compiler flags.\n"
     ]
    }
   ],
   "source": [
    "import sys\n",
    "import numpy as np\n",
    "import os\n",
    "sys.path.append(os.path.expanduser(\"~/git/machine_learning/src\"))\n",
    "import importlib\n",
    "import models\n",
    "import matplotlib\n",
    "import matplotlib.pyplot as plt\n",
    "import tensorflow as tf\n",
    "sys.path.insert(0,os.path.expanduser(\"~/git/machine_learning/src\"))"
   ]
  },
  {
   "cell_type": "code",
   "execution_count": 2,
   "id": "807d4105-6121-4dd3-b4a2-0923bb92a3d8",
   "metadata": {
    "execution": {
     "iopub.execute_input": "2023-06-29T18:01:06.173807Z",
     "iopub.status.busy": "2023-06-29T18:01:06.172911Z",
     "iopub.status.idle": "2023-06-29T18:01:06.527659Z",
     "shell.execute_reply": "2023-06-29T18:01:06.527075Z",
     "shell.execute_reply.started": "2023-06-29T18:01:06.173773Z"
    },
    "tags": []
   },
   "outputs": [
    {
     "name": "stdout",
     "output_type": "stream",
     "text": [
      "(1000000,)\n",
      "(1000000, 100)\n",
      "(100,)\n"
     ]
    }
   ],
   "source": [
    "data_dir = os.path.expanduser(\"~m2d/git/analysis_playground/ml/data/training_data\")\n",
    "\n",
    "pars = np.load(os.path.join(data_dir, \"orhs_pars.npy\"))[:1000000]\n",
    "refl = np.load(os.path.join(data_dir, \"orhs_data.npy\"))[:1000000]\n",
    "q_values = np.load(os.path.join(data_dir, \"orhs_q_values.npy\"))\n",
    "\n",
    "print(pars.shape)\n",
    "print(refl.shape)\n",
    "print(q_values.shape)\n",
    "#refl = np.power(10, refl)/q_values**2*q_values[0]**2\n",
    "\n",
    "nset=10000\n",
    "idx = 0\n",
    "\n",
    "refl= np.asarray(refl[:-nset])\n",
    "pars= np.asarray (pars[:-nset])\n",
    "\n",
    "testset= np.asarray(refl[-nset:])\n",
    "testsetout= np.asarray(pars[-nset:])\n",
    "testpars = np.asarray (pars[-nset:])"
   ]
  },
  {
   "cell_type": "code",
   "execution_count": null,
   "id": "e7a2c2e2-daef-4fdc-b984-60ec5af23903",
   "metadata": {
    "execution": {
     "iopub.execute_input": "2023-06-29T18:01:10.960928Z",
     "iopub.status.busy": "2023-06-29T18:01:10.960275Z"
    },
    "tags": []
   },
   "outputs": [],
   "source": [
    "from sklearn.neighbors import KNeighborsClassifier\n",
    "neigh = KNeighborsClassifier(n_neighbors=3)\n",
    "neigh.fit(refl, pars)\n",
    "\n",
    "pred_class_knn = neigh.predict(testset)\n",
    "prob_class_knn = neigh.predict_proba(testset)"
   ]
  },
  {
   "cell_type": "code",
   "execution_count": 49,
   "id": "317d4faa-0c32-4bf1-b933-24b05b8583a3",
   "metadata": {
    "execution": {
     "iopub.execute_input": "2023-06-17T22:54:21.134892Z",
     "iopub.status.busy": "2023-06-17T22:54:21.134479Z",
     "iopub.status.idle": "2023-06-17T22:54:21.204896Z",
     "shell.execute_reply": "2023-06-17T22:54:21.204522Z",
     "shell.execute_reply.started": "2023-06-17T22:54:21.134877Z"
    },
    "tags": []
   },
   "outputs": [
    {
     "name": "stdout",
     "output_type": "stream",
     "text": [
      "[4035, 976, 0, 0]\n",
      "Layer Accuracy : 0.805228\n",
      "[57, 4932, 0, 0]\n",
      "Layer Accuracy : 0.988575\n",
      "[0, 0, 0, 0]\n",
      "Layer Accuracy : nan\n",
      "[0, 0, 0, 0]\n",
      "Layer Accuracy : nan\n",
      "Accuracy: 0.8967\n"
     ]
    }
   ],
   "source": [
    "import importlib\n",
    "importlib.reload(models)\n",
    "accuracy_knn=models.accuracy(testpars, pred_class_knn)"
   ]
  },
  {
   "cell_type": "code",
   "execution_count": 19,
   "id": "bde531a3-5003-46e6-87ed-0bd788a16ba4",
   "metadata": {
    "execution": {
     "iopub.execute_input": "2023-06-16T21:15:18.358256Z",
     "iopub.status.busy": "2023-06-16T21:15:18.358000Z",
     "iopub.status.idle": "2023-06-16T21:15:20.303027Z",
     "shell.execute_reply": "2023-06-16T21:15:20.301929Z",
     "shell.execute_reply.started": "2023-06-16T21:15:18.358240Z"
    },
    "tags": []
   },
   "outputs": [
    {
     "name": "stderr",
     "output_type": "stream",
     "text": [
      "2023-06-16 17:15:18.374296: I tensorflow/core/common_runtime/process_util.cc:146] Creating new thread pool with default inter op setting: 2. Tune using inter_op_parallelism_threads for best performance.\n"
     ]
    },
    {
     "name": "stdout",
     "output_type": "stream",
     "text": [
      "32/32 [==============================] - 2s 49ms/step\n"
     ]
    }
   ],
   "source": [
    "model=models.load_model(\"layeronecnn\", \"/SNS/users/vogtdan000/git/machine_learning/data\")\n",
    "preds=model.predict(testset[-1000:])"
   ]
  },
  {
   "cell_type": "code",
   "execution_count": 33,
   "id": "217cbe8e-e027-4753-a3b3-63c07cc26397",
   "metadata": {
    "execution": {
     "iopub.execute_input": "2023-06-17T22:44:45.399880Z",
     "iopub.status.busy": "2023-06-17T22:44:45.399485Z",
     "iopub.status.idle": "2023-06-17T22:44:45.422094Z",
     "shell.execute_reply": "2023-06-17T22:44:45.421725Z",
     "shell.execute_reply.started": "2023-06-17T22:44:45.399864Z"
    },
    "tags": []
   },
   "outputs": [
    {
     "name": "stdout",
     "output_type": "stream",
     "text": [
      "[414, 80, 0, 0]\n",
      "Layer Accuracy : 103.5\n",
      "[34, 471, 0, 0]\n",
      "Layer Accuracy : 117.75\n",
      "[0, 0, 0, 0]\n",
      "Layer Accuracy : 0\n",
      "[0, 0, 0, 0]\n",
      "Layer Accuracy : 0\n",
      "Accuracy: 0.885\n"
     ]
    }
   ],
   "source": [
    "_preds = [np.around(p) for p in preds]\n",
    "models.accuracy(testpars[-1000:], _preds)"
   ]
  },
  {
   "cell_type": "code",
   "execution_count": 45,
   "id": "9db6a276-52f9-4b60-a388-d609d93fd962",
   "metadata": {
    "execution": {
     "iopub.execute_input": "2023-06-17T22:52:32.001054Z",
     "iopub.status.busy": "2023-06-17T22:52:32.000799Z",
     "iopub.status.idle": "2023-06-17T22:52:32.003879Z",
     "shell.execute_reply": "2023-06-17T22:52:32.003483Z",
     "shell.execute_reply.started": "2023-06-17T22:52:32.001037Z"
    },
    "tags": []
   },
   "outputs": [
    {
     "name": "stdout",
     "output_type": "stream",
     "text": [
      "47\n",
      "47\n",
      "93\n",
      "94\n",
      "85\n",
      "87\n",
      "7\n",
      "10\n"
     ]
    }
   ],
   "source": [
    "j=0\n",
    "for j in range(4):\n",
    "            _c = np.random.randint(0,100)\n",
    "            j=j+_c\n",
    "            print(_c)\n",
    "            print(j)"
   ]
  },
  {
   "cell_type": "code",
   "execution_count": null,
   "id": "713a59cb-8296-4f50-8f43-1e2af1bffe15",
   "metadata": {},
   "outputs": [],
   "source": []
  }
 ],
 "metadata": {
  "kernelspec": {
   "display_name": "tensorflow",
   "language": "",
   "name": "tensorflow"
  },
  "language_info": {
   "codemirror_mode": {
    "name": "ipython",
    "version": 3
   },
   "file_extension": ".py",
   "mimetype": "text/x-python",
   "name": "python",
   "nbconvert_exporter": "python",
   "pygments_lexer": "ipython3",
   "version": "3.11.0"
  }
 },
 "nbformat": 4,
 "nbformat_minor": 5
}
