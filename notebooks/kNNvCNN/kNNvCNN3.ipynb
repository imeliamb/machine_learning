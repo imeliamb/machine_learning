{
 "cells": [
  {
   "cell_type": "code",
   "execution_count": 8,
   "id": "7ddffe41-e7f2-4b1a-bcaf-0af15e1dc428",
   "metadata": {
    "execution": {
     "iopub.execute_input": "2023-06-17T22:11:41.922168Z",
     "iopub.status.busy": "2023-06-17T22:11:41.921913Z",
     "iopub.status.idle": "2023-06-17T22:11:41.924768Z",
     "shell.execute_reply": "2023-06-17T22:11:41.924425Z",
     "shell.execute_reply.started": "2023-06-17T22:11:41.922152Z"
    },
    "tags": []
   },
   "outputs": [],
   "source": [
    "import sys\n",
    "import numpy as np\n",
    "#sys.path.append(\"/SNS/users/m2d/git/machine_learning/src\")\n",
    "import importlib\n",
    "import models\n",
    "import os\n",
    "import matplotlib\n",
    "import matplotlib.pyplot as plt\n",
    "sys.path.insert(0,os.path.expanduser(\"~/git/machine_learning/src\"))"
   ]
  },
  {
   "cell_type": "code",
   "execution_count": 9,
   "id": "807d4105-6121-4dd3-b4a2-0923bb92a3d8",
   "metadata": {
    "execution": {
     "iopub.execute_input": "2023-06-17T22:11:43.105061Z",
     "iopub.status.busy": "2023-06-17T22:11:43.104894Z",
     "iopub.status.idle": "2023-06-17T22:11:43.736806Z",
     "shell.execute_reply": "2023-06-17T22:11:43.736415Z",
     "shell.execute_reply.started": "2023-06-17T22:11:43.105050Z"
    },
    "tags": []
   },
   "outputs": [
    {
     "name": "stdout",
     "output_type": "stream",
     "text": [
      "(1000000,)\n",
      "(1000000, 100)\n",
      "(100,)\n"
     ]
    }
   ],
   "source": [
    "data_dir = os.path.expanduser(\"~m2d/git/analysis_playground/ml/data/training_data\")\n",
    "\n",
    "pars = np.load(os.path.join(data_dir, \"orhs3_pars.npy\"))[:1000000]\n",
    "refl = np.load(os.path.join(data_dir, \"orhs3_data.npy\"))[:1000000]\n",
    "q_values = np.load(os.path.join(data_dir, \"orhs3_q_values.npy\"))\n",
    "\n",
    "print(pars.shape)\n",
    "print(refl.shape)\n",
    "print(q_values.shape)\n",
    "#refl = np.power(10, refl)/q_values**2*q_values[0]**2\n",
    "\n",
    "nset=10000\n",
    "idx = 0\n",
    "\n",
    "refl= np.asarray(refl[:-nset])\n",
    "pars= np.asarray (pars[:-nset])\n",
    "\n",
    "testset= np.asarray(refl[-nset:])\n",
    "testsetout= np.asarray(pars[-nset:])\n",
    "testpars = np.asarray (pars[-nset:])"
   ]
  },
  {
   "cell_type": "code",
   "execution_count": 10,
   "id": "e7a2c2e2-daef-4fdc-b984-60ec5af23903",
   "metadata": {
    "execution": {
     "iopub.execute_input": "2023-06-17T22:11:44.496678Z",
     "iopub.status.busy": "2023-06-17T22:11:44.496482Z",
     "iopub.status.idle": "2023-06-17T22:11:50.770617Z",
     "shell.execute_reply": "2023-06-17T22:11:50.769976Z",
     "shell.execute_reply.started": "2023-06-17T22:11:44.496657Z"
    },
    "tags": []
   },
   "outputs": [],
   "source": [
    "from sklearn.neighbors import KNeighborsClassifier\n",
    "neigh = KNeighborsClassifier(n_neighbors=3)\n",
    "neigh.fit(refl, pars)\n",
    "\n",
    "pred_class_knn = neigh.predict(testset)\n",
    "prob_class_knn = neigh.predict_proba(testset)"
   ]
  },
  {
   "cell_type": "code",
   "execution_count": 18,
   "id": "317d4faa-0c32-4bf1-b933-24b05b8583a3",
   "metadata": {
    "execution": {
     "iopub.execute_input": "2023-06-17T23:02:04.401888Z",
     "iopub.status.busy": "2023-06-17T23:02:04.401577Z",
     "iopub.status.idle": "2023-06-17T23:02:04.484114Z",
     "shell.execute_reply": "2023-06-17T23:02:04.483729Z",
     "shell.execute_reply.started": "2023-06-17T23:02:04.401873Z"
    },
    "tags": []
   },
   "outputs": [
    {
     "name": "stdout",
     "output_type": "stream",
     "text": [
      "[0, 0, 0, 0]\n",
      "Layer Accuracy : nan\n",
      "[0, 3138, 77, 2]\n",
      "Layer Accuracy : 0.975443\n",
      "[0, 855, 2234, 243]\n",
      "Layer Accuracy : 0.670468\n",
      "[0, 602, 740, 2109]\n",
      "Layer Accuracy : 0.611127\n",
      "Accuracy: 0.7481\n"
     ]
    },
    {
     "name": "stderr",
     "output_type": "stream",
     "text": [
      "/SNS/users/vogtdan000/git/machine_learning/src/models.py:141: RuntimeWarning: invalid value encountered in long_scalars\n"
     ]
    }
   ],
   "source": [
    "import importlib\n",
    "importlib.reload(models)\n",
    "accuracy_knn=models.accuracy(testpars, pred_class_knn)"
   ]
  },
  {
   "cell_type": "code",
   "execution_count": 20,
   "id": "bde531a3-5003-46e6-87ed-0bd788a16ba4",
   "metadata": {
    "execution": {
     "iopub.execute_input": "2023-06-19T15:05:56.952604Z",
     "iopub.status.busy": "2023-06-19T15:05:56.952347Z",
     "iopub.status.idle": "2023-06-19T15:06:03.858742Z",
     "shell.execute_reply": "2023-06-19T15:06:03.858067Z",
     "shell.execute_reply.started": "2023-06-19T15:05:56.952585Z"
    },
    "tags": []
   },
   "outputs": [
    {
     "name": "stdout",
     "output_type": "stream",
     "text": [
      "313/313 [==============================] - 7s 21ms/step\n"
     ]
    }
   ],
   "source": [
    "\n",
    "model=models.load_model(\"cnn3\", \"/SNS/users/vogtdan000/git/machine_learning/data\")\n",
    "preds=model.predict(testset[-100000:])"
   ]
  },
  {
   "cell_type": "code",
   "execution_count": 21,
   "id": "217cbe8e-e027-4753-a3b3-63c07cc26397",
   "metadata": {
    "execution": {
     "iopub.execute_input": "2023-06-19T15:06:05.134706Z",
     "iopub.status.busy": "2023-06-19T15:06:05.134421Z",
     "iopub.status.idle": "2023-06-19T15:06:05.331550Z",
     "shell.execute_reply": "2023-06-19T15:06:05.331038Z",
     "shell.execute_reply.started": "2023-06-19T15:06:05.134691Z"
    },
    "tags": []
   },
   "outputs": [
    {
     "name": "stdout",
     "output_type": "stream",
     "text": [
      "[0, 0, 0, 0]\n",
      "Layer Accuracy : nan\n",
      "[0, 2921, 296, 0]\n",
      "Layer Accuracy : 0.907989\n",
      "[0, 445, 1803, 1084]\n",
      "Layer Accuracy : 0.541116\n",
      "[0, 43, 767, 2633]\n",
      "Layer Accuracy : 0.76474\n",
      "Accuracy: 0.7357\n"
     ]
    }
   ],
   "source": [
    "_preds = [np.around(p) for p in preds]\n",
    "models.accuracy(testpars[-100000:], _preds)"
   ]
  },
  {
   "cell_type": "code",
   "execution_count": null,
   "id": "9db6a276-52f9-4b60-a388-d609d93fd962",
   "metadata": {},
   "outputs": [],
   "source": []
  }
 ],
 "metadata": {
  "kernelspec": {
   "display_name": "tensorflow",
   "language": "",
   "name": "tensorflow"
  },
  "language_info": {
   "codemirror_mode": {
    "name": "ipython",
    "version": 3
   },
   "file_extension": ".py",
   "mimetype": "text/x-python",
   "name": "python",
   "nbconvert_exporter": "python",
   "pygments_lexer": "ipython3",
   "version": "3.11.0"
  }
 },
 "nbformat": 4,
 "nbformat_minor": 5
}
