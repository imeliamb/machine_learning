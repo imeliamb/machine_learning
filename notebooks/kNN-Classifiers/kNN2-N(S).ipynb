{
 "cells": [
  {
   "cell_type": "code",
   "execution_count": 1,
   "id": "eb1e3d53-1db4-4f08-b3b7-ddcca2854b02",
   "metadata": {
    "execution": {
     "iopub.execute_input": "2023-10-20T14:48:17.368557Z",
     "iopub.status.busy": "2023-10-20T14:48:17.368387Z",
     "iopub.status.idle": "2023-10-20T14:48:21.672941Z",
     "shell.execute_reply": "2023-10-20T14:48:21.672442Z",
     "shell.execute_reply.started": "2023-10-20T14:48:17.368544Z"
    },
    "tags": []
   },
   "outputs": [
    {
     "name": "stderr",
     "output_type": "stream",
     "text": [
      "2023-10-20 10:48:17.631264: I tensorflow/core/util/port.cc:110] oneDNN custom operations are on. You may see slightly different numerical results due to floating-point round-off errors from different computation orders. To turn them off, set the environment variable `TF_ENABLE_ONEDNN_OPTS=0`.\n",
      "2023-10-20 10:48:17.668181: I tensorflow/core/platform/cpu_feature_guard.cc:182] This TensorFlow binary is optimized to use available CPU instructions in performance-critical operations.\n",
      "To enable the following instructions: SSE4.1 SSE4.2 AVX AVX2 AVX512F AVX512_VNNI FMA, in other operations, rebuild TensorFlow with the appropriate compiler flags.\n",
      "/opt/anaconda/envs/tensorflow/lib/python3.11/site-packages/sklearn/base.py:348: InconsistentVersionWarning: Trying to unpickle estimator KNeighborsClassifier from version 1.3.0 when using version 1.3.1. This might lead to breaking code or invalid results. Use at your own risk. For more info please refer to:\n",
      "https://scikit-learn.org/stable/model_persistence.html#security-maintainability-limitations\n",
      "  warnings.warn(\n"
     ]
    },
    {
     "name": "stdout",
     "output_type": "stream",
     "text": [
      "[[20.0, 950.0], [-1.0, 7.0], [20.0, 60.0], [4.0, 30.0]]\n"
     ]
    }
   ],
   "source": [
    "import sys\n",
    "import numpy as np\n",
    "import os\n",
    "sys.path.append(os.path.expanduser(\"~/git/machine_learning/src\"))\n",
    "import importlib\n",
    "import models\n",
    "import matplotlib\n",
    "import matplotlib.pyplot as plt\n",
    "import tensorflow as tf\n",
    "sys.path.insert(0,os.path.expanduser(\"~/git/machine_learning/src\"))"
   ]
  },
  {
   "cell_type": "code",
   "execution_count": 4,
   "id": "e0386ee0-8298-4252-a4fb-05ceec89eaa3",
   "metadata": {
    "execution": {
     "iopub.execute_input": "2023-10-20T14:48:55.264272Z",
     "iopub.status.busy": "2023-10-20T14:48:55.263748Z",
     "iopub.status.idle": "2023-10-20T14:48:55.328988Z",
     "shell.execute_reply": "2023-10-20T14:48:55.328533Z",
     "shell.execute_reply.started": "2023-10-20T14:48:55.264255Z"
    },
    "tags": []
   },
   "outputs": [
    {
     "name": "stdout",
     "output_type": "stream",
     "text": [
      "(100000,)\n",
      "(100000, 100)\n",
      "(100,)\n"
     ]
    }
   ],
   "source": [
    "data_dir = os.path.expanduser(\"~m2d/git/analysis_playground/ml/data/training_data\")\n",
    "\n",
    "pars = np.load(os.path.join(data_dir, \"orhs2-noise_pars.npy\"))\n",
    "refl = np.load(os.path.join(data_dir, \"orhs2-noise_data.npy\"))\n",
    "q_values = np.load(os.path.join(data_dir, \"orhs2-noise_q_values.npy\"))\n",
    "\n",
    "print(pars.shape)\n",
    "print(refl.shape)\n",
    "print(q_values.shape)\n",
    "\n",
    "idx = 0\n",
    "nset=10000\n",
    "\n",
    "refl= np.asarray(refl[:-nset])\n",
    "pars= np.asarray (pars[:-nset])\n",
    "\n",
    "testset= np.asarray(refl[-nset:])\n",
    "testpars = np.asarray (pars[-nset:])"
   ]
  },
  {
   "cell_type": "code",
   "execution_count": 5,
   "id": "e7a2c2e2-daef-4fdc-b984-60ec5af23903",
   "metadata": {
    "execution": {
     "iopub.execute_input": "2023-10-20T14:49:00.011220Z",
     "iopub.status.busy": "2023-10-20T14:49:00.010898Z",
     "iopub.status.idle": "2023-10-20T14:49:00.742262Z",
     "shell.execute_reply": "2023-10-20T14:49:00.741685Z",
     "shell.execute_reply.started": "2023-10-20T14:49:00.011202Z"
    },
    "tags": []
   },
   "outputs": [],
   "source": [
    "from sklearn.neighbors import KNeighborsClassifier\n",
    "neigh = KNeighborsClassifier(n_neighbors=3)\n",
    "neigh.fit(refl, pars)\n",
    "\n",
    "pred_class = neigh.predict(testset)\n",
    "prob_class = neigh.predict_proba(testset)"
   ]
  },
  {
   "cell_type": "code",
   "execution_count": 6,
   "id": "5bd0a7af-191d-4958-b846-7f6125692a5a",
   "metadata": {
    "execution": {
     "iopub.execute_input": "2023-10-20T14:49:08.232683Z",
     "iopub.status.busy": "2023-10-20T14:49:08.232340Z",
     "iopub.status.idle": "2023-10-20T14:49:08.235241Z",
     "shell.execute_reply": "2023-10-20T14:49:08.234857Z",
     "shell.execute_reply.started": "2023-10-20T14:49:08.232665Z"
    },
    "tags": []
   },
   "outputs": [],
   "source": [
    "import importlib"
   ]
  },
  {
   "cell_type": "code",
   "execution_count": 7,
   "id": "c5530b0a-1f8f-4aeb-8514-1e47ca22aced",
   "metadata": {
    "execution": {
     "iopub.execute_input": "2023-10-20T14:49:09.152183Z",
     "iopub.status.busy": "2023-10-20T14:49:09.151901Z",
     "iopub.status.idle": "2023-10-20T14:49:10.581503Z",
     "shell.execute_reply": "2023-10-20T14:49:10.580937Z",
     "shell.execute_reply.started": "2023-10-20T14:49:09.152166Z"
    },
    "tags": []
   },
   "outputs": [
    {
     "name": "stderr",
     "output_type": "stream",
     "text": [
      "/opt/anaconda/envs/tensorflow/lib/python3.11/site-packages/sklearn/base.py:348: InconsistentVersionWarning: Trying to unpickle estimator KNeighborsClassifier from version 1.3.0 when using version 1.3.1. This might lead to breaking code or invalid results. Use at your own risk. For more info please refer to:\n",
      "https://scikit-learn.org/stable/model_persistence.html#security-maintainability-limitations\n",
      "  warnings.warn(\n"
     ]
    },
    {
     "name": "stdout",
     "output_type": "stream",
     "text": [
      "[[20.0, 950.0], [-1.0, 7.0], [20.0, 60.0], [4.0, 30.0]]\n"
     ]
    },
    {
     "data": {
      "text/plain": [
       "<module 'models' from '/SNS/users/imeliamb/git/machine_learning/src/models.py'>"
      ]
     },
     "execution_count": 7,
     "metadata": {},
     "output_type": "execute_result"
    }
   ],
   "source": [
    "importlib.reload(models)"
   ]
  },
  {
   "cell_type": "code",
   "execution_count": 8,
   "id": "ecff4068-c2e7-400b-a186-ff6da9ae2269",
   "metadata": {
    "execution": {
     "iopub.execute_input": "2023-10-20T14:49:10.582620Z",
     "iopub.status.busy": "2023-10-20T14:49:10.582369Z",
     "iopub.status.idle": "2023-10-20T14:49:10.648090Z",
     "shell.execute_reply": "2023-10-20T14:49:10.647619Z",
     "shell.execute_reply.started": "2023-10-20T14:49:10.582603Z"
    },
    "tags": []
   },
   "outputs": [
    {
     "name": "stdout",
     "output_type": "stream",
     "text": [
      "[95.82199766809171, 4.178002331908278, 0.0, 0.0]\n",
      "[27.6885043263288, 72.3114956736712, 0.0, 0.0]\n",
      "[nan, nan, nan, nan]\n",
      "[nan, nan, nan, nan]\n",
      "Accuracy: 0.8441\n"
     ]
    },
    {
     "name": "stderr",
     "output_type": "stream",
     "text": [
      "/SNS/users/imeliamb/git/machine_learning/src/models.py:229: RuntimeWarning: invalid value encountered in scalar divide\n",
      "  confusion=_counts[idx]/f*100\n"
     ]
    }
   ],
   "source": [
    "accuracy_knn=models.accuracy(testpars, pred_class)"
   ]
  },
  {
   "cell_type": "code",
   "execution_count": 8,
   "id": "2227b7b7-6bb1-4426-9e73-8f0de0363473",
   "metadata": {
    "execution": {
     "iopub.execute_input": "2023-08-29T15:30:14.489192Z",
     "iopub.status.busy": "2023-08-29T15:30:14.488849Z",
     "iopub.status.idle": "2023-08-29T15:30:15.252038Z",
     "shell.execute_reply": "2023-08-29T15:30:15.251559Z",
     "shell.execute_reply.started": "2023-08-29T15:30:14.489172Z"
    },
    "tags": []
   },
   "outputs": [],
   "source": [
    "output_dir = os.path.expanduser(\"~imeliamb/git/machine_learning/notebooks/kNN-Classifiers\")\n",
    "models.save_knn(neigh,\"model\",output_dir)"
   ]
  },
  {
   "cell_type": "code",
   "execution_count": 9,
   "id": "c3881b06-c165-47f2-bb04-2117f3ec5f26",
   "metadata": {
    "execution": {
     "iopub.execute_input": "2023-07-31T00:22:51.459654Z",
     "iopub.status.busy": "2023-07-31T00:22:51.459388Z",
     "iopub.status.idle": "2023-07-31T00:22:51.685327Z",
     "shell.execute_reply": "2023-07-31T00:22:51.684804Z",
     "shell.execute_reply.started": "2023-07-31T00:22:51.459639Z"
    },
    "tags": []
   },
   "outputs": [
    {
     "ename": "NameError",
     "evalue": "name 'pickle' is not defined",
     "output_type": "error",
     "traceback": [
      "\u001b[0;31m---------------------------------------------------------------------------\u001b[0m",
      "\u001b[0;31mNameError\u001b[0m                                 Traceback (most recent call last)",
      "Cell \u001b[0;32mIn[9], line 2\u001b[0m\n\u001b[1;32m      1\u001b[0m filepath \u001b[38;5;241m=\u001b[39m output_dir\n\u001b[0;32m----> 2\u001b[0m \u001b[43mpickle\u001b[49m\u001b[38;5;241m.\u001b[39mdump(neigh, \u001b[38;5;28mopen\u001b[39m(filepath, \u001b[38;5;124m'\u001b[39m\u001b[38;5;124mwb\u001b[39m\u001b[38;5;124m'\u001b[39m))\n",
      "\u001b[0;31mNameError\u001b[0m: name 'pickle' is not defined"
     ]
    }
   ],
   "source": [
    "filepath = output_dir\n",
    "pickle.dump(neigh, open(filepath, 'wb'))"
   ]
  },
  {
   "cell_type": "code",
   "execution_count": 20,
   "id": "b57617c9-c1d1-4e76-b933-7a53b2ed578f",
   "metadata": {
    "execution": {
     "iopub.execute_input": "2023-07-09T18:26:25.227860Z",
     "iopub.status.busy": "2023-07-09T18:26:25.227587Z",
     "iopub.status.idle": "2023-07-09T18:26:25.231946Z",
     "shell.execute_reply": "2023-07-09T18:26:25.231485Z",
     "shell.execute_reply.started": "2023-07-09T18:26:25.227844Z"
    },
    "tags": []
   },
   "outputs": [],
   "source": [
    "models.load_knn ('knn2N', output_dir)"
   ]
  },
  {
   "cell_type": "code",
   "execution_count": null,
   "id": "d95bbb75-cc59-4d05-b02a-1d71dd6c40ee",
   "metadata": {},
   "outputs": [],
   "source": [
    "knn2N.predict"
   ]
  }
 ],
 "metadata": {
  "kernelspec": {
   "display_name": "tensorflow",
   "language": "",
   "name": "tensorflow"
  },
  "language_info": {
   "codemirror_mode": {
    "name": "ipython",
    "version": 3
   },
   "file_extension": ".py",
   "mimetype": "text/x-python",
   "name": "python",
   "nbconvert_exporter": "python",
   "pygments_lexer": "ipython3",
   "version": "3.11.6"
  }
 },
 "nbformat": 4,
 "nbformat_minor": 5
}
