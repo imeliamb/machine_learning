{
 "cells": [
  {
   "cell_type": "code",
   "execution_count": 54,
   "id": "eb1e3d53-1db4-4f08-b3b7-ddcca2854b02",
   "metadata": {
    "execution": {
     "iopub.execute_input": "2023-06-29T19:19:46.659593Z",
     "iopub.status.busy": "2023-06-29T19:19:46.659324Z",
     "iopub.status.idle": "2023-06-29T19:19:46.662459Z",
     "shell.execute_reply": "2023-06-29T19:19:46.662101Z",
     "shell.execute_reply.started": "2023-06-29T19:19:46.659578Z"
    },
    "tags": []
   },
   "outputs": [],
   "source": [
    "import sys\n",
    "import numpy as np\n",
    "import os\n",
    "sys.path.append(os.path.expanduser(\"~/git/machine_learning/src\"))\n",
    "import importlib\n",
    "import models\n",
    "import matplotlib\n",
    "import matplotlib.pyplot as plt\n",
    "import tensorflow as tf\n",
    "sys.path.insert(0,os.path.expanduser(\"~/git/machine_learning/src\"))"
   ]
  },
  {
   "cell_type": "code",
   "execution_count": 55,
   "id": "e0386ee0-8298-4252-a4fb-05ceec89eaa3",
   "metadata": {
    "execution": {
     "iopub.execute_input": "2023-06-29T19:19:48.034654Z",
     "iopub.status.busy": "2023-06-29T19:19:48.034261Z",
     "iopub.status.idle": "2023-06-29T19:19:48.073638Z",
     "shell.execute_reply": "2023-06-29T19:19:48.073234Z",
     "shell.execute_reply.started": "2023-06-29T19:19:48.034637Z"
    },
    "tags": []
   },
   "outputs": [
    {
     "name": "stdout",
     "output_type": "stream",
     "text": [
      "(100000,)\n",
      "(100000, 100)\n",
      "(100,)\n"
     ]
    }
   ],
   "source": [
    "data_dir = os.path.expanduser(\"~m2d/git/analysis_playground/ml/data/training_data\")\n",
    "\n",
    "pars = np.load(os.path.join(data_dir, \"orhs2-noise_pars.npy\"))\n",
    "refl = np.load(os.path.join(data_dir, \"orhs2-noise_data.npy\"))\n",
    "q_values = np.load(os.path.join(data_dir, \"orhs2-noise_q_values.npy\"))\n",
    "\n",
    "print(pars.shape)\n",
    "print(refl.shape)\n",
    "print(q_values.shape)\n",
    "\n",
    "idx = 0\n",
    "nset=10000\n",
    "\n",
    "refl= np.asarray(refl[:-nset])\n",
    "pars= np.asarray (pars[:-nset])\n",
    "\n",
    "testset= np.asarray(refl[-nset:])\n",
    "testpars = np.asarray (pars[-nset:])"
   ]
  },
  {
   "cell_type": "code",
   "execution_count": 56,
   "id": "e7a2c2e2-daef-4fdc-b984-60ec5af23903",
   "metadata": {
    "execution": {
     "iopub.execute_input": "2023-06-29T19:19:49.117355Z",
     "iopub.status.busy": "2023-06-29T19:19:49.117131Z",
     "iopub.status.idle": "2023-06-29T19:19:52.153848Z",
     "shell.execute_reply": "2023-06-29T19:19:52.153145Z",
     "shell.execute_reply.started": "2023-06-29T19:19:49.117340Z"
    },
    "tags": []
   },
   "outputs": [],
   "source": [
    "from sklearn.neighbors import KNeighborsClassifier\n",
    "neigh = KNeighborsClassifier(n_neighbors=7)\n",
    "neigh.fit(refl, pars)\n",
    "\n",
    "pred_class = neigh.predict(testset)\n",
    "prob_class = neigh.predict_proba(testset)"
   ]
  },
  {
   "cell_type": "code",
   "execution_count": 57,
   "id": "5bd0a7af-191d-4958-b846-7f6125692a5a",
   "metadata": {
    "execution": {
     "iopub.execute_input": "2023-06-29T19:19:53.108497Z",
     "iopub.status.busy": "2023-06-29T19:19:53.108187Z",
     "iopub.status.idle": "2023-06-29T19:19:53.110954Z",
     "shell.execute_reply": "2023-06-29T19:19:53.110589Z",
     "shell.execute_reply.started": "2023-06-29T19:19:53.108480Z"
    },
    "tags": []
   },
   "outputs": [],
   "source": [
    "import importlib"
   ]
  },
  {
   "cell_type": "code",
   "execution_count": 58,
   "id": "c5530b0a-1f8f-4aeb-8514-1e47ca22aced",
   "metadata": {
    "execution": {
     "iopub.execute_input": "2023-06-29T19:19:54.017487Z",
     "iopub.status.busy": "2023-06-29T19:19:54.017314Z",
     "iopub.status.idle": "2023-06-29T19:19:54.021645Z",
     "shell.execute_reply": "2023-06-29T19:19:54.021332Z",
     "shell.execute_reply.started": "2023-06-29T19:19:54.017474Z"
    },
    "tags": []
   },
   "outputs": [
    {
     "data": {
      "text/plain": [
       "<module 'models' from '/SNS/users/imeliamb/git/machine_learning/src/models.py'>"
      ]
     },
     "execution_count": 58,
     "metadata": {},
     "output_type": "execute_result"
    }
   ],
   "source": [
    "importlib.reload(models)"
   ]
  },
  {
   "cell_type": "code",
   "execution_count": 60,
   "id": "ecff4068-c2e7-400b-a186-ff6da9ae2269",
   "metadata": {
    "execution": {
     "iopub.execute_input": "2023-06-29T19:20:01.247974Z",
     "iopub.status.busy": "2023-06-29T19:20:01.247711Z",
     "iopub.status.idle": "2023-06-29T19:20:01.314504Z",
     "shell.execute_reply": "2023-06-29T19:20:01.314129Z",
     "shell.execute_reply.started": "2023-06-29T19:20:01.247959Z"
    },
    "tags": []
   },
   "outputs": [
    {
     "name": "stdout",
     "output_type": "stream",
     "text": [
      "[4890, 256, 0, 0]\n",
      "Layer Accuracy : 0.950253\n",
      "[2024, 2830, 0, 0]\n",
      "Layer Accuracy : 0.583024\n",
      "[0, 0, 0, 0]\n",
      "Layer Accuracy : nan\n",
      "[0, 0, 0, 0]\n",
      "Layer Accuracy : nan\n",
      "Accuracy: 0.772\n"
     ]
    }
   ],
   "source": [
    "accuracy_knn=models.accuracy(testpars, pred_class)"
   ]
  },
  {
   "cell_type": "code",
   "execution_count": null,
   "id": "2227b7b7-6bb1-4426-9e73-8f0de0363473",
   "metadata": {},
   "outputs": [],
   "source": []
  },
  {
   "cell_type": "code",
   "execution_count": null,
   "id": "b57617c9-c1d1-4e76-b933-7a53b2ed578f",
   "metadata": {},
   "outputs": [],
   "source": []
  }
 ],
 "metadata": {
  "kernelspec": {
   "display_name": "tensorflow",
   "language": "",
   "name": "tensorflow"
  },
  "language_info": {
   "codemirror_mode": {
    "name": "ipython",
    "version": 3
   },
   "file_extension": ".py",
   "mimetype": "text/x-python",
   "name": "python",
   "nbconvert_exporter": "python",
   "pygments_lexer": "ipython3",
   "version": "3.11.0"
  }
 },
 "nbformat": 4,
 "nbformat_minor": 5
}
