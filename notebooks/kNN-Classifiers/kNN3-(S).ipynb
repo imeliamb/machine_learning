{
 "cells": [
  {
   "cell_type": "code",
   "execution_count": 39,
   "id": "eb1e3d53-1db4-4f08-b3b7-ddcca2854b02",
   "metadata": {
    "execution": {
     "iopub.execute_input": "2023-06-29T19:40:47.276609Z",
     "iopub.status.busy": "2023-06-29T19:40:47.276262Z",
     "iopub.status.idle": "2023-06-29T19:40:47.280002Z",
     "shell.execute_reply": "2023-06-29T19:40:47.279532Z",
     "shell.execute_reply.started": "2023-06-29T19:40:47.276587Z"
    },
    "tags": []
   },
   "outputs": [],
   "source": [
    "import sys\n",
    "import numpy as np\n",
    "import os\n",
    "sys.path.append(os.path.expanduser(\"~/git/machine_learning/src\"))\n",
    "import importlib\n",
    "import models\n",
    "import matplotlib\n",
    "import matplotlib.pyplot as plt\n",
    "import tensorflow as tf\n",
    "sys.path.insert(0,os.path.expanduser(\"~/git/machine_learning/src\"))"
   ]
  },
  {
   "cell_type": "code",
   "execution_count": 40,
   "id": "e0386ee0-8298-4252-a4fb-05ceec89eaa3",
   "metadata": {
    "execution": {
     "iopub.execute_input": "2023-06-29T19:40:49.816566Z",
     "iopub.status.busy": "2023-06-29T19:40:49.816011Z",
     "iopub.status.idle": "2023-06-29T19:40:50.393634Z",
     "shell.execute_reply": "2023-06-29T19:40:50.393158Z",
     "shell.execute_reply.started": "2023-06-29T19:40:49.816549Z"
    },
    "tags": []
   },
   "outputs": [
    {
     "name": "stdout",
     "output_type": "stream",
     "text": [
      "(1999998,)\n",
      "(1999998, 100)\n",
      "(100,)\n"
     ]
    }
   ],
   "source": [
    "data_dir = os.path.expanduser(\"~m2d/git/analysis_playground/ml/data/training_data\")\n",
    "\n",
    "pars = np.load(os.path.join(data_dir, \"orhs3_pars.npy\"))\n",
    "refl = np.load(os.path.join(data_dir, \"orhs3_data.npy\"))\n",
    "q_values = np.load(os.path.join(data_dir, \"orhs3_q_values.npy\"))\n",
    "\n",
    "print(pars.shape)\n",
    "print(refl.shape)\n",
    "print(q_values.shape)\n",
    "\n",
    "idx = 0\n",
    "nset=10000\n",
    "\n",
    "refl= np.asarray(refl[:-nset])\n",
    "pars= np.asarray (pars[:-nset])\n",
    "\n",
    "testset= np.asarray(refl[-nset:])\n",
    "testpars = np.asarray (pars[-nset:])"
   ]
  },
  {
   "cell_type": "code",
   "execution_count": 41,
   "id": "e7a2c2e2-daef-4fdc-b984-60ec5af23903",
   "metadata": {
    "execution": {
     "iopub.execute_input": "2023-06-29T19:40:52.803722Z",
     "iopub.status.busy": "2023-06-29T19:40:52.803444Z",
     "iopub.status.idle": "2023-06-29T19:41:04.053427Z",
     "shell.execute_reply": "2023-06-29T19:41:04.052178Z",
     "shell.execute_reply.started": "2023-06-29T19:40:52.803707Z"
    },
    "tags": []
   },
   "outputs": [],
   "source": [
    "from sklearn.neighbors import KNeighborsClassifier\n",
    "neigh = KNeighborsClassifier(n_neighbors=3)\n",
    "neigh.fit(refl, pars)\n",
    "\n",
    "pred_class = neigh.predict(testset)\n",
    "prob_class = neigh.predict_proba(testset)"
   ]
  },
  {
   "cell_type": "code",
   "execution_count": 42,
   "id": "5bd0a7af-191d-4958-b846-7f6125692a5a",
   "metadata": {
    "execution": {
     "iopub.execute_input": "2023-06-29T19:41:04.055893Z",
     "iopub.status.busy": "2023-06-29T19:41:04.055539Z",
     "iopub.status.idle": "2023-06-29T19:41:04.059343Z",
     "shell.execute_reply": "2023-06-29T19:41:04.058956Z",
     "shell.execute_reply.started": "2023-06-29T19:41:04.055871Z"
    },
    "tags": []
   },
   "outputs": [],
   "source": [
    "import importlib"
   ]
  },
  {
   "cell_type": "code",
   "execution_count": 43,
   "id": "c5530b0a-1f8f-4aeb-8514-1e47ca22aced",
   "metadata": {
    "execution": {
     "iopub.execute_input": "2023-06-29T19:41:08.650369Z",
     "iopub.status.busy": "2023-06-29T19:41:08.650063Z",
     "iopub.status.idle": "2023-06-29T19:41:08.657176Z",
     "shell.execute_reply": "2023-06-29T19:41:08.656801Z",
     "shell.execute_reply.started": "2023-06-29T19:41:08.650353Z"
    },
    "tags": []
   },
   "outputs": [
    {
     "data": {
      "text/plain": [
       "<module 'models' from '/SNS/users/imeliamb/git/machine_learning/src/models.py'>"
      ]
     },
     "execution_count": 43,
     "metadata": {},
     "output_type": "execute_result"
    }
   ],
   "source": [
    "importlib.reload(models)"
   ]
  },
  {
   "cell_type": "code",
   "execution_count": 44,
   "id": "ecff4068-c2e7-400b-a186-ff6da9ae2269",
   "metadata": {
    "execution": {
     "iopub.execute_input": "2023-06-29T19:41:13.657802Z",
     "iopub.status.busy": "2023-06-29T19:41:13.657468Z",
     "iopub.status.idle": "2023-06-29T19:41:13.723964Z",
     "shell.execute_reply": "2023-06-29T19:41:13.723578Z",
     "shell.execute_reply.started": "2023-06-29T19:41:13.657785Z"
    },
    "tags": []
   },
   "outputs": [
    {
     "name": "stdout",
     "output_type": "stream",
     "text": [
      "[3293, 47, 6, 0]\n",
      "Layer Accuracy : 0.98416\n",
      "[805, 2246, 232, 0]\n",
      "Layer Accuracy : 0.68413\n",
      "[497, 756, 2118, 0]\n",
      "Layer Accuracy : 0.6283\n",
      "[0, 0, 0, 0]\n",
      "Layer Accuracy : nan\n",
      "Accuracy: 0.7657\n"
     ]
    },
    {
     "name": "stderr",
     "output_type": "stream",
     "text": [
      "/SNS/users/imeliamb/git/machine_learning/src/models.py:141: RuntimeWarning: invalid value encountered in long_scalars\n",
      "  print(\"Layer Accuracy : %g\" % (k/f))\n"
     ]
    }
   ],
   "source": [
    "accuracy_knn=models.accuracy(testpars, pred_class)"
   ]
  },
  {
   "cell_type": "code",
   "execution_count": null,
   "id": "2227b7b7-6bb1-4426-9e73-8f0de0363473",
   "metadata": {},
   "outputs": [],
   "source": []
  }
 ],
 "metadata": {
  "kernelspec": {
   "display_name": "tensorflow",
   "language": "",
   "name": "tensorflow"
  },
  "language_info": {
   "codemirror_mode": {
    "name": "ipython",
    "version": 3
   },
   "file_extension": ".py",
   "mimetype": "text/x-python",
   "name": "python",
   "nbconvert_exporter": "python",
   "pygments_lexer": "ipython3",
   "version": "3.11.0"
  }
 },
 "nbformat": 4,
 "nbformat_minor": 5
}
