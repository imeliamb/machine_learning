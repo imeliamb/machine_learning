{
 "cells": [
  {
   "cell_type": "code",
   "execution_count": 31,
   "id": "eb1e3d53-1db4-4f08-b3b7-ddcca2854b02",
   "metadata": {
    "execution": {
     "iopub.execute_input": "2023-06-29T20:00:06.058349Z",
     "iopub.status.busy": "2023-06-29T20:00:06.058098Z",
     "iopub.status.idle": "2023-06-29T20:00:06.061255Z",
     "shell.execute_reply": "2023-06-29T20:00:06.060905Z",
     "shell.execute_reply.started": "2023-06-29T20:00:06.058334Z"
    },
    "tags": []
   },
   "outputs": [],
   "source": [
    "import sys\n",
    "import numpy as np\n",
    "import os\n",
    "sys.path.append(os.path.expanduser(\"~/git/machine_learning/src\"))\n",
    "import importlib\n",
    "import models\n",
    "import matplotlib\n",
    "import matplotlib.pyplot as plt\n",
    "import tensorflow as tf\n",
    "sys.path.insert(0,os.path.expanduser(\"~/git/machine_learning/src\"))"
   ]
  },
  {
   "cell_type": "code",
   "execution_count": 32,
   "id": "e0386ee0-8298-4252-a4fb-05ceec89eaa3",
   "metadata": {
    "execution": {
     "iopub.execute_input": "2023-06-29T20:00:07.744773Z",
     "iopub.status.busy": "2023-06-29T20:00:07.744536Z",
     "iopub.status.idle": "2023-06-29T20:00:08.036618Z",
     "shell.execute_reply": "2023-06-29T20:00:08.036208Z",
     "shell.execute_reply.started": "2023-06-29T20:00:07.744759Z"
    },
    "tags": []
   },
   "outputs": [
    {
     "name": "stdout",
     "output_type": "stream",
     "text": [
      "(1000000,)\n",
      "(1000000, 100)\n",
      "(100,)\n"
     ]
    }
   ],
   "source": [
    "data_dir = os.path.expanduser(\"~m2d/git/analysis_playground/ml/data/training_data\")\n",
    "\n",
    "pars = np.load(os.path.join(data_dir, \"orhs4_pars.npy\"))\n",
    "refl = np.load(os.path.join(data_dir, \"orhs4_data.npy\"))\n",
    "q_values = np.load(os.path.join(data_dir, \"orhs4_q_values.npy\"))\n",
    "\n",
    "print(pars.shape)\n",
    "print(refl.shape)\n",
    "print(q_values.shape)\n",
    "\n",
    "idx = 0\n",
    "nset=10000\n",
    "\n",
    "refl= np.asarray(refl[:-nset])\n",
    "pars= np.asarray (pars[:-nset])\n",
    "\n",
    "testset= np.asarray(refl[-nset:])\n",
    "testpars = np.asarray (pars[-nset:])"
   ]
  },
  {
   "cell_type": "code",
   "execution_count": 33,
   "id": "e7a2c2e2-daef-4fdc-b984-60ec5af23903",
   "metadata": {
    "execution": {
     "iopub.execute_input": "2023-06-29T20:00:09.206247Z",
     "iopub.status.busy": "2023-06-29T20:00:09.206012Z",
     "iopub.status.idle": "2023-06-29T20:00:16.690732Z",
     "shell.execute_reply": "2023-06-29T20:00:16.690041Z",
     "shell.execute_reply.started": "2023-06-29T20:00:09.206232Z"
    },
    "tags": []
   },
   "outputs": [],
   "source": [
    "from sklearn.neighbors import KNeighborsClassifier\n",
    "neigh = KNeighborsClassifier(n_neighbors=3)\n",
    "neigh.fit(refl, pars)\n",
    "\n",
    "pred_class = neigh.predict(testset)\n",
    "prob_class = neigh.predict_proba(testset)"
   ]
  },
  {
   "cell_type": "code",
   "execution_count": 34,
   "id": "5bd0a7af-191d-4958-b846-7f6125692a5a",
   "metadata": {
    "execution": {
     "iopub.execute_input": "2023-06-29T20:00:17.450146Z",
     "iopub.status.busy": "2023-06-29T20:00:17.449867Z",
     "iopub.status.idle": "2023-06-29T20:00:17.452569Z",
     "shell.execute_reply": "2023-06-29T20:00:17.452213Z",
     "shell.execute_reply.started": "2023-06-29T20:00:17.450129Z"
    },
    "tags": []
   },
   "outputs": [],
   "source": [
    "import importlib"
   ]
  },
  {
   "cell_type": "code",
   "execution_count": 35,
   "id": "c5530b0a-1f8f-4aeb-8514-1e47ca22aced",
   "metadata": {
    "execution": {
     "iopub.execute_input": "2023-06-29T20:00:19.198930Z",
     "iopub.status.busy": "2023-06-29T20:00:19.198546Z",
     "iopub.status.idle": "2023-06-29T20:00:19.204825Z",
     "shell.execute_reply": "2023-06-29T20:00:19.204484Z",
     "shell.execute_reply.started": "2023-06-29T20:00:19.198915Z"
    },
    "tags": []
   },
   "outputs": [
    {
     "data": {
      "text/plain": [
       "<module 'models' from '/SNS/users/imeliamb/git/machine_learning/src/models.py'>"
      ]
     },
     "execution_count": 35,
     "metadata": {},
     "output_type": "execute_result"
    }
   ],
   "source": [
    "importlib.reload(models)"
   ]
  },
  {
   "cell_type": "code",
   "execution_count": 36,
   "id": "ecff4068-c2e7-400b-a186-ff6da9ae2269",
   "metadata": {
    "execution": {
     "iopub.execute_input": "2023-06-29T20:00:20.466093Z",
     "iopub.status.busy": "2023-06-29T20:00:20.465847Z",
     "iopub.status.idle": "2023-06-29T20:00:20.529785Z",
     "shell.execute_reply": "2023-06-29T20:00:20.529414Z",
     "shell.execute_reply.started": "2023-06-29T20:00:20.466073Z"
    },
    "tags": []
   },
   "outputs": [
    {
     "name": "stdout",
     "output_type": "stream",
     "text": [
      "[2444, 60, 1, 0]\n",
      "Layer Accuracy : 0.975649\n",
      "[652, 1640, 120, 42]\n",
      "Layer Accuracy : 0.668297\n",
      "[490, 608, 1296, 163]\n",
      "Layer Accuracy : 0.506844\n",
      "[256, 711, 242, 1275]\n",
      "Layer Accuracy : 0.513285\n",
      "Accuracy: 0.6655\n"
     ]
    }
   ],
   "source": [
    "accuracy_knn=models.accuracy(testpars, pred_class)"
   ]
  },
  {
   "cell_type": "code",
   "execution_count": null,
   "id": "2227b7b7-6bb1-4426-9e73-8f0de0363473",
   "metadata": {},
   "outputs": [],
   "source": []
  }
 ],
 "metadata": {
  "kernelspec": {
   "display_name": "tensorflow",
   "language": "",
   "name": "tensorflow"
  },
  "language_info": {
   "codemirror_mode": {
    "name": "ipython",
    "version": 3
   },
   "file_extension": ".py",
   "mimetype": "text/x-python",
   "name": "python",
   "nbconvert_exporter": "python",
   "pygments_lexer": "ipython3",
   "version": "3.11.0"
  }
 },
 "nbformat": 4,
 "nbformat_minor": 5
}
