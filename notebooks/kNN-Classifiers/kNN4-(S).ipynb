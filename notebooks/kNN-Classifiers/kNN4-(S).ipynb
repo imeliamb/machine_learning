{
 "cells": [
  {
   "cell_type": "code",
   "execution_count": 1,
   "id": "eb1e3d53-1db4-4f08-b3b7-ddcca2854b02",
   "metadata": {
    "execution": {
     "iopub.execute_input": "2023-08-06T16:09:59.323731Z",
     "iopub.status.busy": "2023-08-06T16:09:59.323326Z",
     "iopub.status.idle": "2023-08-06T16:10:01.783158Z",
     "shell.execute_reply": "2023-08-06T16:10:01.782666Z",
     "shell.execute_reply.started": "2023-08-06T16:09:59.323714Z"
    },
    "tags": []
   },
   "outputs": [
    {
     "name": "stderr",
     "output_type": "stream",
     "text": [
      "2023-08-06 12:09:59.569746: I tensorflow/core/util/port.cc:110] oneDNN custom operations are on. You may see slightly different numerical results due to floating-point round-off errors from different computation orders. To turn them off, set the environment variable `TF_ENABLE_ONEDNN_OPTS=0`.\n",
      "2023-08-06 12:09:59.606109: I tensorflow/core/platform/cpu_feature_guard.cc:182] This TensorFlow binary is optimized to use available CPU instructions in performance-critical operations.\n",
      "To enable the following instructions: SSE4.1 SSE4.2 AVX AVX2 AVX512F AVX512_VNNI FMA, in other operations, rebuild TensorFlow with the appropriate compiler flags.\n"
     ]
    }
   ],
   "source": [
    "import sys\n",
    "import numpy as np\n",
    "import os\n",
    "sys.path.append(os.path.expanduser(\"~/git/machine_learning/src\"))\n",
    "import importlib\n",
    "import models\n",
    "import matplotlib\n",
    "import matplotlib.pyplot as plt\n",
    "import tensorflow as tf\n",
    "sys.path.insert(0,os.path.expanduser(\"~/git/machine_learning/src\"))"
   ]
  },
  {
   "cell_type": "code",
   "execution_count": 2,
   "id": "e0386ee0-8298-4252-a4fb-05ceec89eaa3",
   "metadata": {
    "execution": {
     "iopub.execute_input": "2023-08-06T16:10:02.358482Z",
     "iopub.status.busy": "2023-08-06T16:10:02.358286Z",
     "iopub.status.idle": "2023-08-06T16:10:02.910871Z",
     "shell.execute_reply": "2023-08-06T16:10:02.910444Z",
     "shell.execute_reply.started": "2023-08-06T16:10:02.358467Z"
    },
    "tags": []
   },
   "outputs": [
    {
     "name": "stdout",
     "output_type": "stream",
     "text": [
      "(1000000,)\n",
      "(1000000, 100)\n",
      "(100,)\n"
     ]
    }
   ],
   "source": [
    "data_dir = os.path.expanduser(\"~m2d/git/analysis_playground/ml/data/training_data\")\n",
    "\n",
    "pars = np.load(os.path.join(data_dir, \"orhs4_pars.npy\"))\n",
    "refl = np.load(os.path.join(data_dir, \"orhs4_data.npy\"))\n",
    "q_values = np.load(os.path.join(data_dir, \"orhs4_q_values.npy\"))\n",
    "\n",
    "print(pars.shape)\n",
    "print(refl.shape)\n",
    "print(q_values.shape)\n",
    "\n",
    "idx = 0\n",
    "nset=10000\n",
    "\n",
    "refl= np.asarray(refl[:-nset])\n",
    "pars= np.asarray (pars[:-nset])\n",
    "\n",
    "testset= np.asarray(refl[-nset:])\n",
    "testpars = np.asarray (pars[-nset:])"
   ]
  },
  {
   "cell_type": "code",
   "execution_count": 13,
   "id": "e7a2c2e2-daef-4fdc-b984-60ec5af23903",
   "metadata": {
    "execution": {
     "iopub.execute_input": "2023-08-06T16:16:33.231567Z",
     "iopub.status.busy": "2023-08-06T16:16:33.231241Z",
     "iopub.status.idle": "2023-08-06T16:16:41.120085Z",
     "shell.execute_reply": "2023-08-06T16:16:41.119248Z",
     "shell.execute_reply.started": "2023-08-06T16:16:33.231550Z"
    },
    "tags": []
   },
   "outputs": [],
   "source": [
    "from sklearn.neighbors import KNeighborsClassifier\n",
    "neigh = KNeighborsClassifier(n_neighbors=3)\n",
    "neigh.fit(refl, pars)\n",
    "\n",
    "pred_class = neigh.predict(testset)\n",
    "prob_class = neigh.predict_proba(testset)"
   ]
  },
  {
   "cell_type": "code",
   "execution_count": 4,
   "id": "5bd0a7af-191d-4958-b846-7f6125692a5a",
   "metadata": {
    "execution": {
     "iopub.execute_input": "2023-07-31T23:28:15.037262Z",
     "iopub.status.busy": "2023-07-31T23:28:15.036227Z",
     "iopub.status.idle": "2023-07-31T23:28:15.040781Z",
     "shell.execute_reply": "2023-07-31T23:28:15.040368Z",
     "shell.execute_reply.started": "2023-07-31T23:28:15.037231Z"
    },
    "tags": []
   },
   "outputs": [],
   "source": [
    "import importlib"
   ]
  },
  {
   "cell_type": "code",
   "execution_count": 5,
   "id": "c5530b0a-1f8f-4aeb-8514-1e47ca22aced",
   "metadata": {
    "execution": {
     "iopub.execute_input": "2023-07-31T23:28:16.241397Z",
     "iopub.status.busy": "2023-07-31T23:28:16.241081Z",
     "iopub.status.idle": "2023-07-31T23:28:16.247460Z",
     "shell.execute_reply": "2023-07-31T23:28:16.247100Z",
     "shell.execute_reply.started": "2023-07-31T23:28:16.241379Z"
    },
    "tags": []
   },
   "outputs": [
    {
     "data": {
      "text/plain": [
       "<module 'models' from '/SNS/users/imeliamb/git/machine_learning/src/models.py'>"
      ]
     },
     "execution_count": 5,
     "metadata": {},
     "output_type": "execute_result"
    }
   ],
   "source": [
    "importlib.reload(models)"
   ]
  },
  {
   "cell_type": "code",
   "execution_count": 14,
   "id": "ecff4068-c2e7-400b-a186-ff6da9ae2269",
   "metadata": {
    "execution": {
     "iopub.execute_input": "2023-08-06T16:16:41.979158Z",
     "iopub.status.busy": "2023-08-06T16:16:41.978803Z",
     "iopub.status.idle": "2023-08-06T16:16:42.043703Z",
     "shell.execute_reply": "2023-08-06T16:16:42.043189Z",
     "shell.execute_reply.started": "2023-08-06T16:16:41.979141Z"
    },
    "tags": []
   },
   "outputs": [
    {
     "name": "stdout",
     "output_type": "stream",
     "text": [
      "[2444, 60, 1, 0]\n",
      "Layer Accuracy : 0.975649\n",
      "[652, 1640, 120, 42]\n",
      "Layer Accuracy : 0.668297\n",
      "[490, 608, 1296, 163]\n",
      "Layer Accuracy : 0.506844\n",
      "[256, 711, 242, 1275]\n",
      "Layer Accuracy : 0.513285\n",
      "Accuracy: 0.6655\n"
     ]
    }
   ],
   "source": [
    "accuracy_knn=models.accuracy(testpars, pred_class)"
   ]
  },
  {
   "cell_type": "code",
   "execution_count": 7,
   "id": "2227b7b7-6bb1-4426-9e73-8f0de0363473",
   "metadata": {
    "execution": {
     "iopub.execute_input": "2023-07-31T23:28:19.906550Z",
     "iopub.status.busy": "2023-07-31T23:28:19.906077Z",
     "iopub.status.idle": "2023-07-31T23:28:23.907452Z",
     "shell.execute_reply": "2023-07-31T23:28:23.906951Z",
     "shell.execute_reply.started": "2023-07-31T23:28:19.906531Z"
    },
    "tags": []
   },
   "outputs": [],
   "source": [
    "output_dir = os.path.expanduser(\"~imeliamb/git/machine_learning/data\")\n",
    "models.save_knn(neigh,\"knn4layer\",output_dir)"
   ]
  }
 ],
 "metadata": {
  "kernelspec": {
   "display_name": "tensorflow",
   "language": "",
   "name": "tensorflow"
  },
  "language_info": {
   "codemirror_mode": {
    "name": "ipython",
    "version": 3
   },
   "file_extension": ".py",
   "mimetype": "text/x-python",
   "name": "python",
   "nbconvert_exporter": "python",
   "pygments_lexer": "ipython3",
   "version": "3.11.4"
  }
 },
 "nbformat": 4,
 "nbformat_minor": 5
}
