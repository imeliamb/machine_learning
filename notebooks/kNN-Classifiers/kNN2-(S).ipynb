{
 "cells": [
  {
   "cell_type": "code",
   "execution_count": 1,
   "id": "eb1e3d53-1db4-4f08-b3b7-ddcca2854b02",
   "metadata": {
    "execution": {
     "iopub.execute_input": "2023-06-29T19:07:20.119514Z",
     "iopub.status.busy": "2023-06-29T19:07:20.119180Z",
     "iopub.status.idle": "2023-06-29T19:07:22.035087Z",
     "shell.execute_reply": "2023-06-29T19:07:22.034629Z",
     "shell.execute_reply.started": "2023-06-29T19:07:20.119495Z"
    },
    "tags": []
   },
   "outputs": [
    {
     "name": "stderr",
     "output_type": "stream",
     "text": [
      "2023-06-29 15:07:20.359182: I tensorflow/core/platform/cpu_feature_guard.cc:182] This TensorFlow binary is optimized to use available CPU instructions in performance-critical operations.\n",
      "To enable the following instructions: SSE4.1 SSE4.2 AVX AVX2 AVX512F AVX512_VNNI FMA, in other operations, rebuild TensorFlow with the appropriate compiler flags.\n"
     ]
    }
   ],
   "source": [
    "import sys\n",
    "import numpy as np\n",
    "import os\n",
    "sys.path.append(os.path.expanduser(\"~/git/machine_learning/src\"))\n",
    "import importlib\n",
    "import models\n",
    "import matplotlib\n",
    "import matplotlib.pyplot as plt\n",
    "import tensorflow as tf\n",
    "sys.path.insert(0,os.path.expanduser(\"~/git/machine_learning/src\"))"
   ]
  },
  {
   "cell_type": "code",
   "execution_count": 2,
   "id": "e0386ee0-8298-4252-a4fb-05ceec89eaa3",
   "metadata": {
    "execution": {
     "iopub.execute_input": "2023-06-29T19:07:26.151148Z",
     "iopub.status.busy": "2023-06-29T19:07:26.150568Z",
     "iopub.status.idle": "2023-06-29T19:07:27.121730Z",
     "shell.execute_reply": "2023-06-29T19:07:27.121200Z",
     "shell.execute_reply.started": "2023-06-29T19:07:26.151127Z"
    },
    "tags": []
   },
   "outputs": [
    {
     "name": "stdout",
     "output_type": "stream",
     "text": [
      "(3000000,)\n",
      "(3000000, 100)\n",
      "(100,)\n"
     ]
    }
   ],
   "source": [
    "data_dir = os.path.expanduser(\"~m2d/git/analysis_playground/ml/data/training_data\")\n",
    "\n",
    "pars = np.load(os.path.join(data_dir, \"orhs2_pars.npy\"))\n",
    "refl = np.load(os.path.join(data_dir, \"orhs2_data.npy\"))\n",
    "q_values = np.load(os.path.join(data_dir, \"orhs2_q_values.npy\"))\n",
    "\n",
    "print(pars.shape)\n",
    "print(refl.shape)\n",
    "print(q_values.shape)\n",
    "\n",
    "idx = 0\n",
    "nset=10000\n",
    "\n",
    "refl= np.asarray(refl[:-nset])\n",
    "pars= np.asarray (pars[:-nset])\n",
    "\n",
    "testset= np.asarray(refl[-nset:])\n",
    "testpars = np.asarray (pars[-nset:])"
   ]
  },
  {
   "cell_type": "code",
   "execution_count": 7,
   "id": "e7a2c2e2-daef-4fdc-b984-60ec5af23903",
   "metadata": {
    "execution": {
     "iopub.execute_input": "2023-06-29T19:08:12.843367Z",
     "iopub.status.busy": "2023-06-29T19:08:12.842953Z",
     "iopub.status.idle": "2023-06-29T19:08:30.041269Z",
     "shell.execute_reply": "2023-06-29T19:08:30.040554Z",
     "shell.execute_reply.started": "2023-06-29T19:08:12.843351Z"
    },
    "tags": []
   },
   "outputs": [],
   "source": [
    "from sklearn.neighbors import KNeighborsClassifier\n",
    "neigh = KNeighborsClassifier(n_neighbors=3)\n",
    "neigh.fit(refl, pars)\n",
    "\n",
    "pred_class = neigh.predict(testset)\n",
    "prob_class = neigh.predict_proba(testset)"
   ]
  },
  {
   "cell_type": "code",
   "execution_count": 8,
   "id": "5bd0a7af-191d-4958-b846-7f6125692a5a",
   "metadata": {
    "execution": {
     "iopub.execute_input": "2023-06-29T19:08:31.336079Z",
     "iopub.status.busy": "2023-06-29T19:08:31.335825Z",
     "iopub.status.idle": "2023-06-29T19:08:31.338680Z",
     "shell.execute_reply": "2023-06-29T19:08:31.338327Z",
     "shell.execute_reply.started": "2023-06-29T19:08:31.336060Z"
    },
    "tags": []
   },
   "outputs": [],
   "source": [
    "import importlib"
   ]
  },
  {
   "cell_type": "code",
   "execution_count": 9,
   "id": "c5530b0a-1f8f-4aeb-8514-1e47ca22aced",
   "metadata": {
    "execution": {
     "iopub.execute_input": "2023-06-29T19:08:32.881105Z",
     "iopub.status.busy": "2023-06-29T19:08:32.880833Z",
     "iopub.status.idle": "2023-06-29T19:08:32.885923Z",
     "shell.execute_reply": "2023-06-29T19:08:32.885565Z",
     "shell.execute_reply.started": "2023-06-29T19:08:32.881090Z"
    },
    "tags": []
   },
   "outputs": [
    {
     "data": {
      "text/plain": [
       "<module 'models' from '/SNS/users/imeliamb/git/machine_learning/src/models.py'>"
      ]
     },
     "execution_count": 9,
     "metadata": {},
     "output_type": "execute_result"
    }
   ],
   "source": [
    "importlib.reload(models)"
   ]
  },
  {
   "cell_type": "code",
   "execution_count": 11,
   "id": "ecff4068-c2e7-400b-a186-ff6da9ae2269",
   "metadata": {
    "execution": {
     "iopub.execute_input": "2023-06-29T19:33:18.465120Z",
     "iopub.status.busy": "2023-06-29T19:33:18.464875Z",
     "iopub.status.idle": "2023-06-29T19:33:18.528110Z",
     "shell.execute_reply": "2023-06-29T19:33:18.527737Z",
     "shell.execute_reply.started": "2023-06-29T19:33:18.465105Z"
    },
    "tags": []
   },
   "outputs": [
    {
     "name": "stdout",
     "output_type": "stream",
     "text": [
      "[4972, 63, 0, 0]\n",
      "Layer Accuracy : 0.987488\n",
      "[1031, 3934, 0, 0]\n",
      "Layer Accuracy : 0.792346\n",
      "[0, 0, 0, 0]\n",
      "Layer Accuracy : nan\n",
      "[0, 0, 0, 0]\n",
      "Layer Accuracy : nan\n",
      "Accuracy: 0.8906\n"
     ]
    }
   ],
   "source": [
    "accuracy_knn=models.accuracy(testpars, pred_class)"
   ]
  },
  {
   "cell_type": "code",
   "execution_count": null,
   "id": "e74bac64-94ff-4723-8c3b-94015c841418",
   "metadata": {},
   "outputs": [],
   "source": []
  }
 ],
 "metadata": {
  "kernelspec": {
   "display_name": "tensorflow",
   "language": "",
   "name": "tensorflow"
  },
  "language_info": {
   "codemirror_mode": {
    "name": "ipython",
    "version": 3
   },
   "file_extension": ".py",
   "mimetype": "text/x-python",
   "name": "python",
   "nbconvert_exporter": "python",
   "pygments_lexer": "ipython3",
   "version": "3.11.0"
  }
 },
 "nbformat": 4,
 "nbformat_minor": 5
}
