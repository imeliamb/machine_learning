{
 "cells": [
  {
   "cell_type": "code",
   "execution_count": 19,
   "id": "eb1e3d53-1db4-4f08-b3b7-ddcca2854b02",
   "metadata": {
    "execution": {
     "iopub.execute_input": "2023-06-29T20:02:43.293322Z",
     "iopub.status.busy": "2023-06-29T20:02:43.292863Z",
     "iopub.status.idle": "2023-06-29T20:02:43.296000Z",
     "shell.execute_reply": "2023-06-29T20:02:43.295631Z",
     "shell.execute_reply.started": "2023-06-29T20:02:43.293305Z"
    },
    "tags": []
   },
   "outputs": [],
   "source": [
    "import sys\n",
    "import numpy as np\n",
    "import os\n",
    "sys.path.append(os.path.expanduser(\"~/git/machine_learning/src\"))\n",
    "import importlib\n",
    "import models\n",
    "import matplotlib\n",
    "import matplotlib.pyplot as plt\n",
    "import tensorflow as tf\n",
    "sys.path.insert(0,os.path.expanduser(\"~/git/machine_learning/src\"))"
   ]
  },
  {
   "cell_type": "code",
   "execution_count": 20,
   "id": "e0386ee0-8298-4252-a4fb-05ceec89eaa3",
   "metadata": {
    "execution": {
     "iopub.execute_input": "2023-06-29T20:02:44.367963Z",
     "iopub.status.busy": "2023-06-29T20:02:44.367783Z",
     "iopub.status.idle": "2023-06-29T20:02:44.673760Z",
     "shell.execute_reply": "2023-06-29T20:02:44.673349Z",
     "shell.execute_reply.started": "2023-06-29T20:02:44.367950Z"
    },
    "tags": []
   },
   "outputs": [
    {
     "name": "stdout",
     "output_type": "stream",
     "text": [
      "(1000000,)\n",
      "(1000000, 100)\n",
      "(100,)\n"
     ]
    }
   ],
   "source": [
    "data_dir = os.path.expanduser(\"~m2d/git/analysis_playground/ml/data/training_data\")\n",
    "\n",
    "pars = np.load(os.path.join(data_dir, \"orhs4-noise_pars.npy\"))\n",
    "refl = np.load(os.path.join(data_dir, \"orhs4-noise_data.npy\"))\n",
    "q_values = np.load(os.path.join(data_dir, \"orhs4-noise_q_values.npy\"))\n",
    "\n",
    "print(pars.shape)\n",
    "print(refl.shape)\n",
    "print(q_values.shape)\n",
    "\n",
    "idx = 0\n",
    "nset=10000\n",
    "\n",
    "refl= np.asarray(refl[:-nset])\n",
    "pars= np.asarray (pars[:-nset])\n",
    "\n",
    "testset= np.asarray(refl[-nset:])\n",
    "testpars = np.asarray (pars[-nset:])"
   ]
  },
  {
   "cell_type": "code",
   "execution_count": 21,
   "id": "e7a2c2e2-daef-4fdc-b984-60ec5af23903",
   "metadata": {
    "execution": {
     "iopub.execute_input": "2023-06-29T20:02:45.712881Z",
     "iopub.status.busy": "2023-06-29T20:02:45.712623Z",
     "iopub.status.idle": "2023-06-29T20:02:53.159048Z",
     "shell.execute_reply": "2023-06-29T20:02:53.158188Z",
     "shell.execute_reply.started": "2023-06-29T20:02:45.712867Z"
    },
    "tags": []
   },
   "outputs": [],
   "source": [
    "from sklearn.neighbors import KNeighborsClassifier\n",
    "neigh = KNeighborsClassifier(n_neighbors=3)\n",
    "neigh.fit(refl, pars)\n",
    "\n",
    "pred_class = neigh.predict(testset)\n",
    "prob_class = neigh.predict_proba(testset)"
   ]
  },
  {
   "cell_type": "code",
   "execution_count": 22,
   "id": "5bd0a7af-191d-4958-b846-7f6125692a5a",
   "metadata": {
    "execution": {
     "iopub.execute_input": "2023-06-29T20:02:53.979188Z",
     "iopub.status.busy": "2023-06-29T20:02:53.978832Z",
     "iopub.status.idle": "2023-06-29T20:02:53.982216Z",
     "shell.execute_reply": "2023-06-29T20:02:53.981737Z",
     "shell.execute_reply.started": "2023-06-29T20:02:53.979166Z"
    },
    "tags": []
   },
   "outputs": [],
   "source": [
    "import importlib"
   ]
  },
  {
   "cell_type": "code",
   "execution_count": 23,
   "id": "c5530b0a-1f8f-4aeb-8514-1e47ca22aced",
   "metadata": {
    "execution": {
     "iopub.execute_input": "2023-06-29T20:02:54.845973Z",
     "iopub.status.busy": "2023-06-29T20:02:54.845685Z",
     "iopub.status.idle": "2023-06-29T20:02:54.851569Z",
     "shell.execute_reply": "2023-06-29T20:02:54.851226Z",
     "shell.execute_reply.started": "2023-06-29T20:02:54.845955Z"
    },
    "tags": []
   },
   "outputs": [
    {
     "data": {
      "text/plain": [
       "<module 'models' from '/SNS/users/imeliamb/git/machine_learning/src/models.py'>"
      ]
     },
     "execution_count": 23,
     "metadata": {},
     "output_type": "execute_result"
    }
   ],
   "source": [
    "importlib.reload(models)"
   ]
  },
  {
   "cell_type": "code",
   "execution_count": 24,
   "id": "ecff4068-c2e7-400b-a186-ff6da9ae2269",
   "metadata": {
    "execution": {
     "iopub.execute_input": "2023-06-29T20:02:55.522393Z",
     "iopub.status.busy": "2023-06-29T20:02:55.522199Z",
     "iopub.status.idle": "2023-06-29T20:02:55.586510Z",
     "shell.execute_reply": "2023-06-29T20:02:55.586153Z",
     "shell.execute_reply.started": "2023-06-29T20:02:55.522380Z"
    },
    "tags": []
   },
   "outputs": [
    {
     "name": "stdout",
     "output_type": "stream",
     "text": [
      "[2443, 60, 2, 0]\n",
      "Layer Accuracy : 0.97525\n",
      "[653, 1643, 111, 47]\n",
      "Layer Accuracy : 0.669519\n",
      "[500, 615, 1275, 167]\n",
      "Layer Accuracy : 0.498631\n",
      "[262, 710, 243, 1269]\n",
      "Layer Accuracy : 0.51087\n",
      "Accuracy: 0.663\n"
     ]
    }
   ],
   "source": [
    "accuracy_knn=models.accuracy(testpars, pred_class)"
   ]
  },
  {
   "cell_type": "code",
   "execution_count": null,
   "id": "2227b7b7-6bb1-4426-9e73-8f0de0363473",
   "metadata": {},
   "outputs": [],
   "source": []
  }
 ],
 "metadata": {
  "kernelspec": {
   "display_name": "tensorflow",
   "language": "",
   "name": "tensorflow"
  },
  "language_info": {
   "codemirror_mode": {
    "name": "ipython",
    "version": 3
   },
   "file_extension": ".py",
   "mimetype": "text/x-python",
   "name": "python",
   "nbconvert_exporter": "python",
   "pygments_lexer": "ipython3",
   "version": "3.11.6"
  }
 },
 "nbformat": 4,
 "nbformat_minor": 5
}
