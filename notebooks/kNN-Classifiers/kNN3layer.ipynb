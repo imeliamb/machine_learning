{
 "cells": [
  {
   "cell_type": "code",
   "execution_count": 2,
   "id": "7ddffe41-e7f2-4b1a-bcaf-0af15e1dc428",
   "metadata": {
    "execution": {
     "iopub.execute_input": "2023-06-11T22:37:26.148905Z",
     "iopub.status.busy": "2023-06-11T22:37:26.148581Z",
     "iopub.status.idle": "2023-06-11T22:37:31.816717Z",
     "shell.execute_reply": "2023-06-11T22:37:31.796708Z",
     "shell.execute_reply.started": "2023-06-11T22:37:26.148880Z"
    }
   },
   "outputs": [
    {
     "name": "stderr",
     "output_type": "stream",
     "text": [
      "2023-06-11 18:37:26.511764: I tensorflow/core/platform/cpu_feature_guard.cc:182] This TensorFlow binary is optimized to use available CPU instructions in performance-critical operations.\n",
      "To enable the following instructions: SSE4.1 SSE4.2 AVX AVX2 AVX512F AVX512_VNNI FMA, in other operations, rebuild TensorFlow with the appropriate compiler flags.\n"
     ]
    }
   ],
   "source": [
    "import sys\n",
    "import numpy as np\n",
    "sys.path.append(\"/SNS/users/m2d/git/machine_learning/src\")\n",
    "import importlib\n",
    "import models\n",
    "import os\n",
    "import matplotlib\n",
    "import matplotlib.pyplot as plt"
   ]
  },
  {
   "cell_type": "code",
   "execution_count": 13,
   "id": "807d4105-6121-4dd3-b4a2-0923bb92a3d8",
   "metadata": {
    "execution": {
     "iopub.execute_input": "2023-06-11T23:29:31.677296Z",
     "iopub.status.busy": "2023-06-11T23:29:31.677011Z",
     "iopub.status.idle": "2023-06-11T23:29:32.336699Z",
     "shell.execute_reply": "2023-06-11T23:29:32.336117Z",
     "shell.execute_reply.started": "2023-06-11T23:29:31.677276Z"
    },
    "tags": []
   },
   "outputs": [
    {
     "name": "stdout",
     "output_type": "stream",
     "text": [
      "(1000000,)\n",
      "(1000000, 100)\n",
      "(100,)\n"
     ]
    }
   ],
   "source": [
    "data_dir = os.path.expanduser(\"~m2d/git/analysis_playground/ml/data/training_data\")\n",
    "\n",
    "pars = np.load(os.path.join(data_dir, \"orhs3-noise_pars.npy\"))[:1000000]\n",
    "refl = np.load(os.path.join(data_dir, \"orhs3-noise_data.npy\"))[:1000000]\n",
    "q_values = np.load(os.path.join(data_dir, \"orhs3_q_values.npy\"))\n",
    "\n",
    "print(pars.shape)\n",
    "print(refl.shape)\n",
    "print(q_values.shape)\n",
    "#refl = np.power(10, refl)/q_values**2*q_values[0]**2\n",
    "\n",
    "nset=10000\n",
    "idx = 0\n",
    "\n",
    "refl= np.asarray(refl[:-nset])\n",
    "pars= np.asarray (pars[:-nset])\n",
    "\n",
    "testset= np.asarray(refl[-nset:])\n",
    "testsetout= np.asarray(pars[-nset:])\n",
    "testpars = np.asarray (pars[-nset:])"
   ]
  },
  {
   "cell_type": "code",
   "execution_count": 14,
   "id": "e7a2c2e2-daef-4fdc-b984-60ec5af23903",
   "metadata": {
    "execution": {
     "iopub.execute_input": "2023-06-11T23:29:38.218604Z",
     "iopub.status.busy": "2023-06-11T23:29:38.218018Z",
     "iopub.status.idle": "2023-06-11T23:29:44.481285Z",
     "shell.execute_reply": "2023-06-11T23:29:44.480725Z",
     "shell.execute_reply.started": "2023-06-11T23:29:38.218585Z"
    },
    "tags": []
   },
   "outputs": [
    {
     "name": "stdout",
     "output_type": "stream",
     "text": [
      "[0, 0, 0, 0]\n",
      "[0, 3131, 82, 4]\n",
      "[0, 864, 2237, 231]\n",
      "[0, 599, 732, 2120]\n",
      "Accuracy: 0.7488\n"
     ]
    }
   ],
   "source": [
    "from sklearn.neighbors import KNeighborsClassifier\n",
    "neigh = KNeighborsClassifier(n_neighbors=3)\n",
    "neigh.fit(refl, pars)\n",
    "\n",
    "pred_class = neigh.predict(testset)\n",
    "prob_class = neigh.predict_proba(testset)\n",
    "\n",
    "count = 0\n",
    "class_counts = []\n",
    "for i in range(4):\n",
    "    _counts = []\n",
    "    for j in range(4):\n",
    "        _c = np.sum([int(testpars[idx]==i and pred_class[idx]==j) for idx in range(len(testpars))])\n",
    "        _counts.append(_c)\n",
    "    print(_counts)\n",
    "\n",
    "for idx in range(len(pred_class)):\n",
    "    if testpars[idx]==pred_class[idx]:\n",
    "        count += 1\n",
    "                 \n",
    "    if testpars[idx]==0 and pred_class[idx]==1:\n",
    "        count_1_when_0 += 1\n",
    "                 \n",
    "    if testpars[idx]==1 and pred_class[idx]==0:\n",
    "        count_0_when_1 += 1\n",
    "                 \n",
    "                 \n",
    "    #status = '' if testpars[idx]==pred_class[idx] else 'FAIL'\n",
    "    #print(testpars[idx], pred_class[idx], prob_class[idx], status)\n",
    "\n",
    "\n",
    "\n",
    "print(\"Accuracy: %g\" % (count/len(pred_class)))\n"
   ]
  },
  {
   "cell_type": "code",
   "execution_count": null,
   "id": "317d4faa-0c32-4bf1-b933-24b05b8583a3",
   "metadata": {},
   "outputs": [],
   "source": []
  }
 ],
 "metadata": {
  "kernelspec": {
   "display_name": "tensorflow",
   "language": "",
   "name": "tensorflow"
  },
  "language_info": {
   "codemirror_mode": {
    "name": "ipython",
    "version": 3
   },
   "file_extension": ".py",
   "mimetype": "text/x-python",
   "name": "python",
   "nbconvert_exporter": "python",
   "pygments_lexer": "ipython3",
   "version": "3.11.0"
  }
 },
 "nbformat": 4,
 "nbformat_minor": 5
}
