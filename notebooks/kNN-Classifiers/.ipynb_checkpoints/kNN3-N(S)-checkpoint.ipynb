{
 "cells": [
  {
   "cell_type": "code",
   "execution_count": 38,
   "id": "eb1e3d53-1db4-4f08-b3b7-ddcca2854b02",
   "metadata": {
    "execution": {
     "iopub.execute_input": "2023-06-29T19:52:27.097001Z",
     "iopub.status.busy": "2023-06-29T19:52:27.096734Z",
     "iopub.status.idle": "2023-06-29T19:52:27.099943Z",
     "shell.execute_reply": "2023-06-29T19:52:27.099565Z",
     "shell.execute_reply.started": "2023-06-29T19:52:27.096987Z"
    },
    "tags": []
   },
   "outputs": [],
   "source": [
    "import sys\n",
    "import numpy as np\n",
    "import os\n",
    "sys.path.append(os.path.expanduser(\"~/git/machine_learning/src\"))\n",
    "import importlib\n",
    "import models\n",
    "import matplotlib\n",
    "import matplotlib.pyplot as plt\n",
    "import tensorflow as tf\n",
    "sys.path.insert(0,os.path.expanduser(\"~/git/machine_learning/src\"))"
   ]
  },
  {
   "cell_type": "code",
   "execution_count": 39,
   "id": "e0386ee0-8298-4252-a4fb-05ceec89eaa3",
   "metadata": {
    "execution": {
     "iopub.execute_input": "2023-06-29T19:52:28.502527Z",
     "iopub.status.busy": "2023-06-29T19:52:28.502264Z",
     "iopub.status.idle": "2023-06-29T19:52:29.182510Z",
     "shell.execute_reply": "2023-06-29T19:52:29.182094Z",
     "shell.execute_reply.started": "2023-06-29T19:52:28.502511Z"
    },
    "tags": []
   },
   "outputs": [
    {
     "name": "stdout",
     "output_type": "stream",
     "text": [
      "(1999998,)\n",
      "(1999998, 100)\n",
      "(100,)\n"
     ]
    }
   ],
   "source": [
    "data_dir = os.path.expanduser(\"~m2d/git/analysis_playground/ml/data/training_data\")\n",
    "\n",
    "pars = np.load(os.path.join(data_dir, \"orhs3-noise_pars.npy\"))\n",
    "refl = np.load(os.path.join(data_dir, \"orhs3-noise_data.npy\"))\n",
    "q_values = np.load(os.path.join(data_dir, \"orhs3-noise_q_values.npy\"))\n",
    "\n",
    "print(pars.shape)\n",
    "print(refl.shape)\n",
    "print(q_values.shape)\n",
    "\n",
    "idx = 0\n",
    "nset=10000\n",
    "\n",
    "refl= np.asarray(refl[:-nset])\n",
    "pars= np.asarray (pars[:-nset])\n",
    "\n",
    "testset= np.asarray(refl[-nset:])\n",
    "testpars = np.asarray (pars[-nset:])"
   ]
  },
  {
   "cell_type": "code",
   "execution_count": 40,
   "id": "e7a2c2e2-daef-4fdc-b984-60ec5af23903",
   "metadata": {
    "execution": {
     "iopub.execute_input": "2023-06-29T19:52:30.645062Z",
     "iopub.status.busy": "2023-06-29T19:52:30.644660Z",
     "iopub.status.idle": "2023-06-29T19:52:43.060969Z",
     "shell.execute_reply": "2023-06-29T19:52:43.059991Z",
     "shell.execute_reply.started": "2023-06-29T19:52:30.645048Z"
    },
    "tags": []
   },
   "outputs": [],
   "source": [
    "from sklearn.neighbors import KNeighborsClassifier\n",
    "neigh = KNeighborsClassifier(n_neighbors=3)\n",
    "neigh.fit(refl, pars)\n",
    "\n",
    "pred_class = neigh.predict(testset)\n",
    "prob_class = neigh.predict_proba(testset)"
   ]
  },
  {
   "cell_type": "code",
   "execution_count": 41,
   "id": "5bd0a7af-191d-4958-b846-7f6125692a5a",
   "metadata": {
    "execution": {
     "iopub.execute_input": "2023-06-29T19:52:43.951504Z",
     "iopub.status.busy": "2023-06-29T19:52:43.951110Z",
     "iopub.status.idle": "2023-06-29T19:52:43.954516Z",
     "shell.execute_reply": "2023-06-29T19:52:43.954033Z",
     "shell.execute_reply.started": "2023-06-29T19:52:43.951485Z"
    },
    "tags": []
   },
   "outputs": [],
   "source": [
    "import importlib"
   ]
  },
  {
   "cell_type": "code",
   "execution_count": 42,
   "id": "c5530b0a-1f8f-4aeb-8514-1e47ca22aced",
   "metadata": {
    "execution": {
     "iopub.execute_input": "2023-06-29T19:52:45.063437Z",
     "iopub.status.busy": "2023-06-29T19:52:45.063087Z",
     "iopub.status.idle": "2023-06-29T19:52:45.069434Z",
     "shell.execute_reply": "2023-06-29T19:52:45.068984Z",
     "shell.execute_reply.started": "2023-06-29T19:52:45.063422Z"
    },
    "tags": []
   },
   "outputs": [
    {
     "data": {
      "text/plain": [
       "<module 'models' from '/SNS/users/imeliamb/git/machine_learning/src/models.py'>"
      ]
     },
     "execution_count": 42,
     "metadata": {},
     "output_type": "execute_result"
    }
   ],
   "source": [
    "importlib.reload(models)"
   ]
  },
  {
   "cell_type": "code",
   "execution_count": 44,
   "id": "ecff4068-c2e7-400b-a186-ff6da9ae2269",
   "metadata": {
    "execution": {
     "iopub.execute_input": "2023-06-29T19:52:52.997035Z",
     "iopub.status.busy": "2023-06-29T19:52:52.996404Z",
     "iopub.status.idle": "2023-06-29T19:52:53.065881Z",
     "shell.execute_reply": "2023-06-29T19:52:53.065375Z",
     "shell.execute_reply.started": "2023-06-29T19:52:52.997016Z"
    },
    "tags": []
   },
   "outputs": [
    {
     "name": "stdout",
     "output_type": "stream",
     "text": [
      "[3292, 50, 4, 0]\n",
      "Layer Accuracy : 0.983861\n",
      "[809, 2247, 227, 0]\n",
      "Layer Accuracy : 0.684435\n",
      "[507, 717, 2147, 0]\n",
      "Layer Accuracy : 0.636903\n",
      "[0, 0, 0, 0]\n",
      "Layer Accuracy : nan\n",
      "Accuracy: 0.7686\n"
     ]
    }
   ],
   "source": [
    "accuracy_knn=models.accuracy(testpars, pred_class)"
   ]
  }
 ],
 "metadata": {
  "kernelspec": {
   "display_name": "tensorflow",
   "language": "",
   "name": "tensorflow"
  },
  "language_info": {
   "codemirror_mode": {
    "name": "ipython",
    "version": 3
   },
   "file_extension": ".py",
   "mimetype": "text/x-python",
   "name": "python",
   "nbconvert_exporter": "python",
   "pygments_lexer": "ipython3",
   "version": "3.11.0"
  }
 },
 "nbformat": 4,
 "nbformat_minor": 5
}
