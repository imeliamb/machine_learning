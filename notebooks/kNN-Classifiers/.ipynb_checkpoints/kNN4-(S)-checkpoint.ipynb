{
 "cells": [
  {
   "cell_type": "code",
   "execution_count": 1,
   "id": "eb1e3d53-1db4-4f08-b3b7-ddcca2854b02",
   "metadata": {
    "execution": {
     "iopub.execute_input": "2023-11-20T16:45:57.122637Z",
     "iopub.status.busy": "2023-11-20T16:45:57.122238Z",
     "iopub.status.idle": "2023-11-20T16:46:01.157233Z",
     "shell.execute_reply": "2023-11-20T16:46:01.156563Z",
     "shell.execute_reply.started": "2023-11-20T16:45:57.122616Z"
    },
    "tags": []
   },
   "outputs": [
    {
     "name": "stderr",
     "output_type": "stream",
     "text": [
      "2023-11-20 11:45:57.382689: I tensorflow/core/util/port.cc:111] oneDNN custom operations are on. You may see slightly different numerical results due to floating-point round-off errors from different computation orders. To turn them off, set the environment variable `TF_ENABLE_ONEDNN_OPTS=0`.\n",
      "2023-11-20 11:45:57.420896: I tensorflow/core/platform/cpu_feature_guard.cc:182] This TensorFlow binary is optimized to use available CPU instructions in performance-critical operations.\n",
      "To enable the following instructions: SSE4.1 SSE4.2 AVX AVX2 AVX512F AVX512_VNNI FMA, in other operations, rebuild TensorFlow with the appropriate compiler flags.\n",
      "/opt/anaconda/envs/tensorflow/lib/python3.11/site-packages/sklearn/base.py:348: InconsistentVersionWarning: Trying to unpickle estimator KNeighborsClassifier from version 1.3.0 when using version 1.3.2. This might lead to breaking code or invalid results. Use at your own risk. For more info please refer to:\n",
      "https://scikit-learn.org/stable/model_persistence.html#security-maintainability-limitations\n",
      "  warnings.warn(\n"
     ]
    }
   ],
   "source": [
    "import sys\n",
    "import numpy as np\n",
    "import os\n",
    "sys.path.append(os.path.expanduser(\"~/git/machine_learning/src\"))\n",
    "import importlib\n",
    "import models\n",
    "import matplotlib\n",
    "import matplotlib.pyplot as plt\n",
    "import tensorflow as tf\n",
    "sys.path.insert(0,os.path.expanduser(\"~/git/machine_learning/src\"))"
   ]
  },
  {
   "cell_type": "code",
   "execution_count": 2,
   "id": "e0386ee0-8298-4252-a4fb-05ceec89eaa3",
   "metadata": {
    "execution": {
     "iopub.execute_input": "2023-11-20T16:46:02.285358Z",
     "iopub.status.busy": "2023-11-20T16:46:02.284988Z",
     "iopub.status.idle": "2023-11-20T16:46:02.885546Z",
     "shell.execute_reply": "2023-11-20T16:46:02.884812Z",
     "shell.execute_reply.started": "2023-11-20T16:46:02.285338Z"
    },
    "tags": []
   },
   "outputs": [
    {
     "name": "stdout",
     "output_type": "stream",
     "text": [
      "(1000000,)\n",
      "(1000000, 100)\n",
      "(100,)\n"
     ]
    }
   ],
   "source": [
    "data_dir = os.path.expanduser(\"~m2d/git/analysis_playground/ml/data/training_data\")\n",
    "\n",
    "pars = np.load(os.path.join(data_dir, \"orhs4_pars.npy\"))\n",
    "refl = np.load(os.path.join(data_dir, \"orhs4_data.npy\"))\n",
    "q_values = np.load(os.path.join(data_dir, \"orhs4_q_values.npy\"))\n",
    "\n",
    "print(pars.shape)\n",
    "print(refl.shape)\n",
    "print(q_values.shape)\n",
    "\n",
    "idx = 0\n",
    "nset=10000\n"
   ]
  },
  {
   "cell_type": "code",
   "execution_count": 38,
   "id": "6ef1402e-28ca-4e95-bbfc-642e74747262",
   "metadata": {
    "execution": {
     "iopub.execute_input": "2023-11-20T16:49:22.107488Z",
     "iopub.status.busy": "2023-11-20T16:49:22.107139Z",
     "iopub.status.idle": "2023-11-20T16:49:22.110004Z",
     "shell.execute_reply": "2023-11-20T16:49:22.109558Z",
     "shell.execute_reply.started": "2023-11-20T16:49:22.107468Z"
    },
    "tags": []
   },
   "outputs": [],
   "source": [
    "x=3\n",
    "y=2"
   ]
  },
  {
   "cell_type": "code",
   "execution_count": 39,
   "id": "f5d080e9-7f14-4324-bcab-357e3d1ff050",
   "metadata": {
    "execution": {
     "iopub.execute_input": "2023-11-20T16:49:23.003946Z",
     "iopub.status.busy": "2023-11-20T16:49:23.003640Z",
     "iopub.status.idle": "2023-11-20T16:49:24.055901Z",
     "shell.execute_reply": "2023-11-20T16:49:24.054967Z",
     "shell.execute_reply.started": "2023-11-20T16:49:23.003928Z"
    },
    "tags": []
   },
   "outputs": [],
   "source": [
    "refl_=[]\n",
    "pars_=[]\n",
    "for i in range (len(refl)):\n",
    "    if pars[i]==x or pars[i]==y:\n",
    "        pars_.append(pars[i])\n",
    "        refl_.append(refl[i])\n",
    "\n",
    "refl_= np.asarray(refl_[:-nset])\n",
    "pars_= np.asarray (pars_[:-nset])\n",
    "\n",
    "testset= np.asarray(refl_[-nset:])\n",
    "testpars = np.asarray (pars_[-nset:])"
   ]
  },
  {
   "cell_type": "code",
   "execution_count": 40,
   "id": "e7a2c2e2-daef-4fdc-b984-60ec5af23903",
   "metadata": {
    "execution": {
     "iopub.execute_input": "2023-11-20T16:49:30.726796Z",
     "iopub.status.busy": "2023-11-20T16:49:30.726352Z",
     "iopub.status.idle": "2023-11-20T16:49:34.271324Z",
     "shell.execute_reply": "2023-11-20T16:49:34.270426Z",
     "shell.execute_reply.started": "2023-11-20T16:49:30.726777Z"
    },
    "tags": []
   },
   "outputs": [],
   "source": [
    "from sklearn.neighbors import KNeighborsClassifier\n",
    "neigh = KNeighborsClassifier(n_neighbors=3)\n",
    "neigh.fit(refl_, pars_)\n",
    "\n",
    "pred_class = neigh.predict(testset)\n",
    "prob_class = neigh.predict_proba(testset)"
   ]
  },
  {
   "cell_type": "code",
   "execution_count": 41,
   "id": "ecff4068-c2e7-400b-a186-ff6da9ae2269",
   "metadata": {
    "execution": {
     "iopub.execute_input": "2023-11-20T16:49:35.473383Z",
     "iopub.status.busy": "2023-11-20T16:49:35.473041Z",
     "iopub.status.idle": "2023-11-20T16:49:35.541769Z",
     "shell.execute_reply": "2023-11-20T16:49:35.541241Z",
     "shell.execute_reply.started": "2023-11-20T16:49:35.473365Z"
    },
    "tags": []
   },
   "outputs": [
    {
     "name": "stdout",
     "output_type": "stream",
     "text": [
      "[nan, nan, nan, nan]\n",
      "[0.0, 90.34550839091806, 9.654491609081935, 0.0]\n",
      "[0.0, 32.239108409321176, 67.76089159067882, 0.0]\n",
      "[nan, nan, nan, nan]\n",
      "Accuracy: 0.792\n"
     ]
    },
    {
     "name": "stderr",
     "output_type": "stream",
     "text": [
      "/SNS/users/imeliamb/git/machine_learning/src/models.py:229: RuntimeWarning: invalid value encountered in scalar divide\n",
      "  confusion=_counts[idx]/f*100\n"
     ]
    }
   ],
   "source": [
    "accuracy_knn=models.accuracy(testpars, pred_class)"
   ]
  },
  {
   "cell_type": "code",
   "execution_count": 42,
   "id": "2227b7b7-6bb1-4426-9e73-8f0de0363473",
   "metadata": {
    "execution": {
     "iopub.execute_input": "2023-11-20T16:49:36.969774Z",
     "iopub.status.busy": "2023-11-20T16:49:36.969198Z",
     "iopub.status.idle": "2023-11-20T16:49:40.630204Z",
     "shell.execute_reply": "2023-11-20T16:49:40.629503Z",
     "shell.execute_reply.started": "2023-11-20T16:49:36.969753Z"
    },
    "tags": []
   },
   "outputs": [],
   "source": [
    "output_dir = os.path.expanduser(\"~imeliamb/git/machine_learning/data\")\n",
    "models.save_knn(neigh,\"knn3-2layer\",output_dir)\n"
   ]
  },
  {
   "cell_type": "code",
   "execution_count": null,
   "id": "2ce9cc2f-ee5f-4f55-8d21-7e07b2625bb0",
   "metadata": {},
   "outputs": [],
   "source": [
    "#add max(prob_class[i]) to chi layer preds to find layer"
   ]
  },
  {
   "cell_type": "code",
   "execution_count": null,
   "id": "974ca549-d3c5-4997-97e4-546bd2a56e88",
   "metadata": {},
   "outputs": [],
   "source": []
  },
  {
   "cell_type": "code",
   "execution_count": null,
   "id": "5fe925bb-179d-45b8-a13b-da35ce112e3a",
   "metadata": {},
   "outputs": [],
   "source": []
  }
 ],
 "metadata": {
  "kernelspec": {
   "display_name": "tensorflow",
   "language": "",
   "name": "tensorflow"
  },
  "language_info": {
   "codemirror_mode": {
    "name": "ipython",
    "version": 3
   },
   "file_extension": ".py",
   "mimetype": "text/x-python",
   "name": "python",
   "nbconvert_exporter": "python",
   "pygments_lexer": "ipython3",
   "version": "3.11.6"
  }
 },
 "nbformat": 4,
 "nbformat_minor": 5
}
