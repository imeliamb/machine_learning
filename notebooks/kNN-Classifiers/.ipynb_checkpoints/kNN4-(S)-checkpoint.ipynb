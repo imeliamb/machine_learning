{
 "cells": [
  {
   "cell_type": "code",
   "execution_count": 1,
   "id": "eb1e3d53-1db4-4f08-b3b7-ddcca2854b02",
   "metadata": {
    "execution": {
     "iopub.execute_input": "2023-07-31T00:13:14.032760Z",
     "iopub.status.busy": "2023-07-31T00:13:14.032479Z",
     "iopub.status.idle": "2023-07-31T00:13:16.325534Z",
     "shell.execute_reply": "2023-07-31T00:13:16.324941Z",
     "shell.execute_reply.started": "2023-07-31T00:13:14.032742Z"
    },
    "tags": []
   },
   "outputs": [
    {
     "name": "stderr",
     "output_type": "stream",
     "text": [
      "2023-07-30 20:13:14.301760: I tensorflow/core/util/port.cc:110] oneDNN custom operations are on. You may see slightly different numerical results due to floating-point round-off errors from different computation orders. To turn them off, set the environment variable `TF_ENABLE_ONEDNN_OPTS=0`.\n",
      "2023-07-30 20:13:14.339206: I tensorflow/core/platform/cpu_feature_guard.cc:182] This TensorFlow binary is optimized to use available CPU instructions in performance-critical operations.\n",
      "To enable the following instructions: SSE4.1 SSE4.2 AVX AVX2 AVX512F AVX512_VNNI FMA, in other operations, rebuild TensorFlow with the appropriate compiler flags.\n"
     ]
    }
   ],
   "source": [
    "import sys\n",
    "import numpy as np\n",
    "import os\n",
    "sys.path.append(os.path.expanduser(\"~/git/machine_learning/src\"))\n",
    "import importlib\n",
    "import models\n",
    "import matplotlib\n",
    "import matplotlib.pyplot as plt\n",
    "import tensorflow as tf\n",
    "sys.path.insert(0,os.path.expanduser(\"~/git/machine_learning/src\"))"
   ]
  },
  {
   "cell_type": "code",
   "execution_count": 2,
   "id": "e0386ee0-8298-4252-a4fb-05ceec89eaa3",
   "metadata": {
    "execution": {
     "iopub.execute_input": "2023-07-31T00:13:16.836668Z",
     "iopub.status.busy": "2023-07-31T00:13:16.835820Z",
     "iopub.status.idle": "2023-07-31T00:13:18.006110Z",
     "shell.execute_reply": "2023-07-31T00:13:18.005693Z",
     "shell.execute_reply.started": "2023-07-31T00:13:16.836632Z"
    },
    "tags": []
   },
   "outputs": [
    {
     "name": "stdout",
     "output_type": "stream",
     "text": [
      "(1000000,)\n",
      "(1000000, 100)\n",
      "(100,)\n"
     ]
    }
   ],
   "source": [
    "data_dir = os.path.expanduser(\"~m2d/git/analysis_playground/ml/data/training_data\")\n",
    "\n",
    "pars = np.load(os.path.join(data_dir, \"orhs4_pars.npy\"))\n",
    "refl = np.load(os.path.join(data_dir, \"orhs4_data.npy\"))\n",
    "q_values = np.load(os.path.join(data_dir, \"orhs4_q_values.npy\"))\n",
    "\n",
    "print(pars.shape)\n",
    "print(refl.shape)\n",
    "print(q_values.shape)\n",
    "\n",
    "idx = 0\n",
    "nset=10000\n",
    "\n",
    "refl= np.asarray(refl[:-nset])\n",
    "pars= np.asarray (pars[:-nset])\n",
    "\n",
    "testset= np.asarray(refl[-nset:])\n",
    "testpars = np.asarray (pars[-nset:])"
   ]
  },
  {
   "cell_type": "code",
   "execution_count": 3,
   "id": "e7a2c2e2-daef-4fdc-b984-60ec5af23903",
   "metadata": {
    "execution": {
     "iopub.execute_input": "2023-07-31T00:13:22.913162Z",
     "iopub.status.busy": "2023-07-31T00:13:22.912846Z",
     "iopub.status.idle": "2023-07-31T00:13:31.520811Z",
     "shell.execute_reply": "2023-07-31T00:13:31.520045Z",
     "shell.execute_reply.started": "2023-07-31T00:13:22.913145Z"
    },
    "tags": []
   },
   "outputs": [],
   "source": [
    "from sklearn.neighbors import KNeighborsClassifier\n",
    "neigh = KNeighborsClassifier(n_neighbors=3)\n",
    "neigh.fit(refl, pars)\n",
    "\n",
    "pred_class = neigh.predict(testset)\n",
    "prob_class = neigh.predict_proba(testset)"
   ]
  },
  {
   "cell_type": "code",
   "execution_count": 4,
   "id": "5bd0a7af-191d-4958-b846-7f6125692a5a",
   "metadata": {
    "execution": {
     "iopub.execute_input": "2023-07-31T00:13:35.037984Z",
     "iopub.status.busy": "2023-07-31T00:13:35.037012Z",
     "iopub.status.idle": "2023-07-31T00:13:35.041326Z",
     "shell.execute_reply": "2023-07-31T00:13:35.040907Z",
     "shell.execute_reply.started": "2023-07-31T00:13:35.037958Z"
    },
    "tags": []
   },
   "outputs": [],
   "source": [
    "import importlib"
   ]
  },
  {
   "cell_type": "code",
   "execution_count": 5,
   "id": "c5530b0a-1f8f-4aeb-8514-1e47ca22aced",
   "metadata": {
    "execution": {
     "iopub.execute_input": "2023-07-31T00:13:35.641440Z",
     "iopub.status.busy": "2023-07-31T00:13:35.641151Z",
     "iopub.status.idle": "2023-07-31T00:13:35.648152Z",
     "shell.execute_reply": "2023-07-31T00:13:35.647765Z",
     "shell.execute_reply.started": "2023-07-31T00:13:35.641424Z"
    },
    "tags": []
   },
   "outputs": [
    {
     "data": {
      "text/plain": [
       "<module 'models' from '/SNS/users/imeliamb/git/machine_learning/src/models.py'>"
      ]
     },
     "execution_count": 5,
     "metadata": {},
     "output_type": "execute_result"
    }
   ],
   "source": [
    "importlib.reload(models)"
   ]
  },
  {
   "cell_type": "code",
   "execution_count": 6,
   "id": "ecff4068-c2e7-400b-a186-ff6da9ae2269",
   "metadata": {
    "execution": {
     "iopub.execute_input": "2023-07-31T00:13:36.153319Z",
     "iopub.status.busy": "2023-07-31T00:13:36.153063Z",
     "iopub.status.idle": "2023-07-31T00:13:36.217118Z",
     "shell.execute_reply": "2023-07-31T00:13:36.216717Z",
     "shell.execute_reply.started": "2023-07-31T00:13:36.153304Z"
    },
    "tags": []
   },
   "outputs": [
    {
     "name": "stdout",
     "output_type": "stream",
     "text": [
      "[2444, 60, 1, 0]\n",
      "Layer Accuracy : 0.975649\n",
      "[652, 1640, 120, 42]\n",
      "Layer Accuracy : 0.668297\n",
      "[490, 608, 1296, 163]\n",
      "Layer Accuracy : 0.506844\n",
      "[256, 711, 242, 1275]\n",
      "Layer Accuracy : 0.513285\n",
      "Accuracy: 0.6655\n"
     ]
    }
   ],
   "source": [
    "accuracy_knn=models.accuracy(testpars, pred_class)"
   ]
  },
  {
   "cell_type": "code",
   "execution_count": 18,
   "id": "2227b7b7-6bb1-4426-9e73-8f0de0363473",
   "metadata": {
    "execution": {
     "iopub.execute_input": "2023-07-31T00:26:55.490399Z",
     "iopub.status.busy": "2023-07-31T00:26:55.490148Z",
     "iopub.status.idle": "2023-07-31T00:27:00.871272Z",
     "shell.execute_reply": "2023-07-31T00:27:00.870797Z",
     "shell.execute_reply.started": "2023-07-31T00:26:55.490383Z"
    },
    "tags": []
   },
   "outputs": [],
   "source": [
    "output_dir = os.path.expanduser(\"~imeliamb/git/machine_learning/src\")\n",
    "models.save_knn(neigh,\"settings.json\",output_dir)"
   ]
  },
  {
   "cell_type": "code",
   "execution_count": 21,
   "id": "c08e2543-f756-43bb-93c4-9d458b0c40c5",
   "metadata": {
    "execution": {
     "iopub.execute_input": "2023-07-31T00:30:08.021479Z",
     "iopub.status.busy": "2023-07-31T00:30:08.021216Z",
     "iopub.status.idle": "2023-07-31T00:30:12.800527Z",
     "shell.execute_reply": "2023-07-31T00:30:12.800021Z",
     "shell.execute_reply.started": "2023-07-31T00:30:08.021464Z"
    },
    "tags": []
   },
   "outputs": [],
   "source": [
    "import pickle\n",
    "output_dir=os.path.expanduser(\"~imeliamb/git/machine_learning/src/settings.json\")\n",
    "filepath = output_dir\n",
    "pickle.dump(neigh, open(filepath, 'wb'))"
   ]
  },
  {
   "cell_type": "code",
   "execution_count": null,
   "id": "182b053c-c718-46b3-9f25-8eb4dfefbe86",
   "metadata": {},
   "outputs": [],
   "source": []
  }
 ],
 "metadata": {
  "kernelspec": {
   "display_name": "tensorflow",
   "language": "",
   "name": "tensorflow"
  },
  "language_info": {
   "codemirror_mode": {
    "name": "ipython",
    "version": 3
   },
   "file_extension": ".py",
   "mimetype": "text/x-python",
   "name": "python",
   "nbconvert_exporter": "python",
   "pygments_lexer": "ipython3",
   "version": "3.11.4"
  }
 },
 "nbformat": 4,
 "nbformat_minor": 5
}
