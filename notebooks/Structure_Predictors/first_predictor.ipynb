{
 "cells": [
  {
   "cell_type": "code",
   "execution_count": 2,
   "id": "8ad81e79-137d-424d-bd8c-cac9d0d9c7a6",
   "metadata": {
    "execution": {
     "iopub.execute_input": "2023-08-30T19:38:11.290096Z",
     "iopub.status.busy": "2023-08-30T19:38:11.289836Z",
     "iopub.status.idle": "2023-08-30T19:38:14.915232Z",
     "shell.execute_reply": "2023-08-30T19:38:14.914681Z",
     "shell.execute_reply.started": "2023-08-30T19:38:11.290081Z"
    },
    "tags": []
   },
   "outputs": [
    {
     "name": "stderr",
     "output_type": "stream",
     "text": [
      "2023-08-30 15:38:11.738148: I tensorflow/core/util/port.cc:110] oneDNN custom operations are on. You may see slightly different numerical results due to floating-point round-off errors from different computation orders. To turn them off, set the environment variable `TF_ENABLE_ONEDNN_OPTS=0`.\n",
      "2023-08-30 15:38:12.016793: I tensorflow/core/platform/cpu_feature_guard.cc:182] This TensorFlow binary is optimized to use available CPU instructions in performance-critical operations.\n",
      "To enable the following instructions: SSE4.1 SSE4.2 AVX AVX2 AVX512F AVX512_VNNI FMA, in other operations, rebuild TensorFlow with the appropriate compiler flags.\n"
     ]
    }
   ],
   "source": [
    "import sys\n",
    "import numpy as np\n",
    "import os\n",
    "sys.path.append(os.path.expanduser(\"~/git/machine_learning/src\"))\n",
    "import importlib\n",
    "import models\n",
    "import matplotlib\n",
    "import matplotlib.pyplot as plt\n",
    "import tensorflow as tf\n",
    "import structure_predictor as sp"
   ]
  },
  {
   "cell_type": "code",
   "execution_count": 3,
   "id": "da0151d1-6513-4d7e-b1ea-dd9d99f245ca",
   "metadata": {
    "execution": {
     "iopub.execute_input": "2023-08-30T19:38:14.916515Z",
     "iopub.status.busy": "2023-08-30T19:38:14.916145Z",
     "iopub.status.idle": "2023-08-30T19:38:17.337943Z",
     "shell.execute_reply": "2023-08-30T19:38:17.337190Z",
     "shell.execute_reply.started": "2023-08-30T19:38:14.916499Z"
    },
    "tags": []
   },
   "outputs": [
    {
     "name": "stdout",
     "output_type": "stream",
     "text": [
      "(2000000, 7)\n",
      "(2000000, 100)\n",
      "(100,)\n"
     ]
    }
   ],
   "source": [
    "data_dir = os.path.expanduser(\"~m2d/git/analysis_playground/ml/data/training_data\")\n",
    "\n",
    "pars = np.load(os.path.join(data_dir, \"orhs2-pars_pars.npy\"))\n",
    "refl = np.load(os.path.join(data_dir, \"orhs2-pars_data.npy\"))\n",
    "q_values = np.load(os.path.join(data_dir, \"orhs_q_values.npy\"))\n",
    "\n",
    "print(pars.shape)\n",
    "print(refl.shape)\n",
    "print(q_values.shape)\n",
    "\n",
    "idx = 0\n",
    "nset=1000000"
   ]
  },
  {
   "cell_type": "code",
   "execution_count": 4,
   "id": "007720fe-e308-4ac6-a790-34800c18bc1e",
   "metadata": {
    "execution": {
     "iopub.execute_input": "2023-08-30T19:38:18.147185Z",
     "iopub.status.busy": "2023-08-30T19:38:18.146849Z",
     "iopub.status.idle": "2023-08-30T19:38:21.458217Z",
     "shell.execute_reply": "2023-08-30T19:38:21.457776Z",
     "shell.execute_reply.started": "2023-08-30T19:38:18.147166Z"
    },
    "tags": []
   },
   "outputs": [
    {
     "name": "stdout",
     "output_type": "stream",
     "text": [
      "1/1 [==============================] - 0s 126ms/step\n",
      "1/1 [==============================] - 0s 57ms/step\n",
      "1/1 [==============================] - 0s 16ms/step\n",
      "1/1 [==============================] - 0s 17ms/step\n",
      "1/1 [==============================] - 0s 16ms/step\n",
      "1/1 [==============================] - 0s 16ms/step\n",
      "1/1 [==============================] - 0s 17ms/step\n",
      "1/1 [==============================] - 0s 18ms/step\n",
      "1/1 [==============================] - 0s 17ms/step\n",
      "1/1 [==============================] - 0s 16ms/step\n",
      "1/1 [==============================] - 0s 16ms/step\n",
      "1/1 [==============================] - 0s 17ms/step\n",
      "1/1 [==============================] - 0s 16ms/step\n",
      "1/1 [==============================] - 0s 16ms/step\n",
      "1/1 [==============================] - 0s 17ms/step\n",
      "1/1 [==============================] - 0s 17ms/step\n",
      "1/1 [==============================] - 0s 16ms/step\n",
      "1/1 [==============================] - 0s 16ms/step\n",
      "1/1 [==============================] - 0s 16ms/step\n",
      "1/1 [==============================] - 0s 17ms/step\n",
      "1/1 [==============================] - 0s 16ms/step\n",
      "1/1 [==============================] - 0s 17ms/step\n",
      "1/1 [==============================] - 0s 16ms/step\n",
      "1/1 [==============================] - 0s 17ms/step\n",
      "1/1 [==============================] - 0s 16ms/step\n",
      "Predicted: [7.958082139492035, -0.8958134651184082, 785.646442770958, 46.57557129859924, 4.212605237960815, 881.9464564323425, 43.654567897319794]\n",
      "Real: [9.14537505082082, -0.6485389560478412, 806.9588221429703, 44.374603280317395, 3.858002201321245, 856.156685841003, 45.19547520786289]\n",
      "\n",
      "Predicted: [24.910809218883514, 5.374511003494263, 427.4369150400162, 20.946972370147705]\n",
      "Real: [27.184773797857453, 1.069062803191163, 676.2576595740911, 27.500352519230145, 5.398474508977148, 540.3624360709196, 20.132991846172857]\n",
      "\n",
      "Predicted: [11.707404494285583, 5.029947519302368, 769.4406655430794, 44.42968249320984, 6.6408162117004395, 768.6606228351593, 44.425425827503204]\n",
      "Real: [11.897375693004964, 5.646799015642043, 754.8373738336196, 59.248633384735825, 6.109701718918273, 788.5187715823577, 45.27523630427389]\n",
      "\n",
      "Predicted: [14.69012725353241, 3.2763208746910095, 142.8609138727188, 45.45367956161499, 4.427014470100403, 401.23219937086105, 36.6692590713501]\n",
      "Real: [15.247253038105356, -0.5062727076351488, 57.73257373747562, 51.84563312221839, 6.215821865961608, 445.9900734818971, 36.19215684008505]\n",
      "\n",
      "Predicted: [11.872621774673462, 2.50147807598114, 646.3997213542461, 17.25109338760376, 2.727712869644165, 133.2491159439087, 19.824659824371338]\n",
      "Real: [12.488664040094097, 2.643733819315221, 834.0534342289609, 20.597095999861246, 1.2555950720630928, 122.97174680600267, 23.497169009562995]\n",
      "\n",
      "Predicted: [13.847614198923111, 3.1085080802440643, 673.0257576704025, 39.838247522711754]\n",
      "Real: [12.479563304915668, 3.029657785943278, 663.870534214095, 40.17918373624286, 5.052210501300084, 50.92789134777317, 51.84079710453741]\n",
      "\n",
      "Predicted: [9.94059419631958, 5.355108261108398, 1133.3674705028534, 43.37274581193924]\n",
      "Real: [10.11437877445616, 4.954299654375517, 421.830171238517, 23.290323194002646, 5.651858609805056, 812.7818627777141, 54.86740085292355]\n",
      "\n",
      "Predicted: [31.320754170417786, 5.238886117935181, 999.0431886911392, 47.695263624191284]\n",
      "Real: [29.612894713693713, 5.298816611444782, 749.9664592729059, 33.54756213236603, 4.613481919616752, 311.8372518860777, 58.932422673638165]\n",
      "\n",
      "Predicted: [22.988996624946594, 1.2043753862380981, 251.09174191951752, 57.450047731399536, 2.523128032684326, 922.3207026720047, 45.96995234489441]\n",
      "Real: [22.801736344142025, 0.6013951371335358, 212.32225434404444, 52.06427259056977, 2.3480931493959547, 924.0285146029676, 45.9839305544431]\n",
      "\n",
      "Predicted: [5.052420020103455, 4.422997355461121, 807.1865552663803, 51.499056816101074, 3.3836880028247833, 396.691957116127, 27.1273410320282]\n",
      "Real: [4.544929171527551, 4.59996279231609, 774.950811476943, 53.08378759820747, 3.3964113043943893, 432.4436054744869, 27.44197133176858]\n",
      "\n",
      "Predicted: [23.620369911193848, 5.554586887359619, 264.06493067741394, 36.62161082029343]\n",
      "Real: [23.633379600223844, 5.679950208892059, 309.9469155315964, 34.32228627129791, 1.2661374228907611, 891.897800444916, 55.22686961461303]\n",
      "\n",
      "Predicted: [16.791856229305267, 3.78118497133255, 565.9356570243835, 35.202587246894836]\n",
      "Real: [14.170514125452911, 4.57959560861267, 105.33982103403531, 50.60226843149114, 3.815403869913615, 539.5457566025118, 36.46790301114464]\n",
      "\n",
      "Predicted: [18.562281154096127, 3.7038984894752502, 873.150826394558, 36.55492842197418]\n",
      "Real: [18.456707057831284, 3.5294712476784618, 458.2849086105337, 47.92956315041224, 3.6863604581365843, 433.20435849785355, 36.77068596559967]\n",
      "\n"
     ]
    }
   ],
   "source": [
    "importlib.reload(sp)\n",
    "idx+=1\n",
    "predictor = sp.StructurePredictor(os.path.expanduser(\"~vogtdan000/git/machine_learning/src/settings.json\"),2)\n",
    "test_pars=[]\n",
    "test_refl=[]\n",
    "\n",
    "for i in range (100):\n",
    "    if pars[i][5]>1:\n",
    "        test_pars.append(pars[i])\n",
    "        test_refl.append(refl[i])\n",
    "test_refl=np.asarray([test_refl])\n",
    "test_pars=np.asarray([test_pars])\n",
    "predicted_layers, predicted_pars = predictor.predict([refl[100:125]])\n",
    "\n",
    "real_parameters = predictor.rescale_real_pars(pars[100:125],2)\n",
    "\n",
    "for i in range (len(predicted_pars)):\n",
    "    if real_parameters[i][4]>1:\n",
    "        print (\"Predicted: %s\" %predicted_pars[i])\n",
    "        print (\"Real: %s\" %real_parameters[i])\n",
    "        print(\"\")"
   ]
  },
  {
   "cell_type": "code",
   "execution_count": 38,
   "id": "2c1a39d6-cbb5-4414-8b8e-3bf60b0759a7",
   "metadata": {
    "execution": {
     "iopub.execute_input": "2023-08-30T19:57:10.148048Z",
     "iopub.status.busy": "2023-08-30T19:57:10.147729Z",
     "iopub.status.idle": "2023-08-30T19:57:11.353864Z",
     "shell.execute_reply": "2023-08-30T19:57:11.353440Z",
     "shell.execute_reply.started": "2023-08-30T19:57:10.148032Z"
    },
    "tags": []
   },
   "outputs": [
    {
     "name": "stdout",
     "output_type": "stream",
     "text": [
      "1/1 [==============================] - 0s 58ms/step\n",
      "1/1 [==============================] - 0s 59ms/step\n",
      "1/1 [==============================] - 0s 61ms/step\n",
      "1/1 [==============================] - 0s 59ms/step\n",
      " 0 24.616  6.650   1163.200  24.585 \n",
      "*1 20.576  5.567   770.051  36.573  5.309   701.833  26.082 \n",
      " 2 22.150  5.274   646.174  39.622  4.126   427.484  42.882  4.512   523.624  23.886 \n",
      " 3 21.388  4.750   414.166  46.495  4.213   374.034  43.230  5.352   351.491  41.211  5.176   347.096  25.715 \n",
      "\n",
      "24.045  6.696   701.662  37.831  3.649   832.390  20.701 \n"
     ]
    }
   ],
   "source": [
    "importlib.reload(sp)\n",
    "idx+=1\n",
    "predictor = sp.StructurePredictor(os.path.expanduser(\"~vogtdan000/git/machine_learning/src/settings.json\"),2)\n",
    "number_of_layers, predicted_pars = predictor.big_predict([[refl[idx]]])\n",
    "\n",
    "#print(predicted_pars)\n",
    "real_parameters = predictor.rescale_real_pars([pars[idx]],2) \n",
    "#print(real_parameters)\n",
    "fig, ax = plt.subplots(dpi=150, figsize=(5, 4.1))\n",
    "for i in range(len(predicted_pars)):\n",
    "    label = '*' if i == number_of_layers[0]-1 else ' '\n",
    "    par_str = ' '.join(['%-6.3f ' % p for p in predicted_pars[i]])\n",
    "    print('%s%s %s' % (label, i, par_str))\n",
    "\n",
    "print()\n",
    "\n",
    "plt.plot(q_values, r)\n",
    "plt.xlabel('Q ($1/\\AA$)', fontsize=10)\n",
    "plt.ylabel('Reflectivity', fontsize=10)\n",
    "plt.yscale('log')\n",
    "plt.xscale('log')\n",
    "print(' '.join(['%-6.3f ' % p for p in real_parameters[0]]))\n",
    "\n"
   ]
  },
  {
   "cell_type": "code",
   "execution_count": null,
   "id": "a0abe9e5-40e3-4315-a149-a9e8f34de254",
   "metadata": {},
   "outputs": [],
   "source": []
  },
  {
   "cell_type": "code",
   "execution_count": null,
   "id": "a0a03acc-8f5c-43c4-9b9c-65d2edc7b8e9",
   "metadata": {},
   "outputs": [],
   "source": []
  }
 ],
 "metadata": {
  "kernelspec": {
   "display_name": "tensorflow",
   "language": "",
   "name": "tensorflow"
  },
  "language_info": {
   "codemirror_mode": {
    "name": "ipython",
    "version": 3
   },
   "file_extension": ".py",
   "mimetype": "text/x-python",
   "name": "python",
   "nbconvert_exporter": "python",
   "pygments_lexer": "ipython3",
   "version": "3.11.4"
  }
 },
 "nbformat": 4,
 "nbformat_minor": 5
}
