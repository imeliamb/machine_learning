{
 "cells": [
  {
   "cell_type": "code",
   "execution_count": 2,
   "id": "90522417-7514-4170-99d6-e870968a6052",
   "metadata": {
    "execution": {
     "iopub.execute_input": "2023-04-24T18:36:55.708203Z",
     "iopub.status.busy": "2023-04-24T18:36:55.707741Z",
     "iopub.status.idle": "2023-04-24T18:36:55.726120Z",
     "shell.execute_reply": "2023-04-24T18:36:55.725229Z",
     "shell.execute_reply.started": "2023-04-24T18:36:55.708163Z"
    },
    "tags": []
   },
   "outputs": [],
   "source": [
    "import sys\n",
    "sys.path.append(\"/SNS/users/imeliamb/scripts\")\n",
    "\n",
    "import models"
   ]
  },
  {
   "cell_type": "code",
   "execution_count": null,
   "id": "eb7f3fde-53ba-45a6-a7b3-04307167f643",
   "metadata": {},
   "outputs": [],
   "source": [
    "#create training data"
   ]
  },
  {
   "cell_type": "code",
   "execution_count": 5,
   "id": "42a695b9-d937-4c3a-9f09-ca8583538e48",
   "metadata": {
    "execution": {
     "iopub.execute_input": "2023-04-24T18:48:50.501283Z",
     "iopub.status.busy": "2023-04-24T18:48:50.500573Z",
     "iopub.status.idle": "2023-04-24T18:48:50.615435Z",
     "shell.execute_reply": "2023-04-24T18:48:50.614479Z",
     "shell.execute_reply.started": "2023-04-24T18:48:50.501235Z"
    },
    "tags": []
   },
   "outputs": [
    {
     "ename": "NameError",
     "evalue": "name 'trainset' is not defined",
     "output_type": "error",
     "traceback": [
      "\u001b[0;31m---------------------------------------------------------------------------\u001b[0m",
      "\u001b[0;31mNameError\u001b[0m                                 Traceback (most recent call last)",
      "Cell \u001b[0;32mIn[5], line 4\u001b[0m\n\u001b[1;32m      1\u001b[0m \u001b[38;5;28;01mimport\u001b[39;00m \u001b[38;5;21;01mimportlib\u001b[39;00m\n\u001b[1;32m      2\u001b[0m importlib\u001b[38;5;241m.\u001b[39mreload(models)\n\u001b[0;32m----> 4\u001b[0m ae_model, encoder, decoder, history\u001b[38;5;241m=\u001b[39m\u001b[43mmodels\u001b[49m\u001b[38;5;241;43m.\u001b[39;49m\u001b[43mauto_encoder\u001b[49m\u001b[43m(\u001b[49m\u001b[43m)\u001b[49m\n\u001b[1;32m      5\u001b[0m history \u001b[38;5;241m=\u001b[39m ae_model\u001b[38;5;241m.\u001b[39mfit(trainset, trainset,\n\u001b[1;32m      6\u001b[0m                         epochs\u001b[38;5;241m=\u001b[39m\u001b[38;5;241m20\u001b[39m, batch_size\u001b[38;5;241m=\u001b[39m\u001b[38;5;241m128\u001b[39m,\n\u001b[1;32m      7\u001b[0m                         validation_data\u001b[38;5;241m=\u001b[39m(testset, testset))\n",
      "File \u001b[0;32m~/scripts/models.py:65\u001b[0m, in \u001b[0;36mauto_encoder\u001b[0;34m()\u001b[0m\n\u001b[1;32m     64\u001b[0m \u001b[38;5;28;01mdef\u001b[39;00m \u001b[38;5;21mauto_encoder\u001b[39m():\n\u001b[0;32m---> 65\u001b[0m     encoder \u001b[38;5;241m=\u001b[39m \u001b[43mcnn_encoder\u001b[49m\u001b[43m(\u001b[49m\u001b[38;5;28;43;01mFalse\u001b[39;49;00m\u001b[43m)\u001b[49m\n\u001b[1;32m     66\u001b[0m     decoder \u001b[38;5;241m=\u001b[39m cnn_decoder(\u001b[38;5;28;01mFalse\u001b[39;00m)\n\u001b[1;32m     68\u001b[0m     ae_model \u001b[38;5;241m=\u001b[39m tf\u001b[38;5;241m.\u001b[39mkeras\u001b[38;5;241m.\u001b[39mmodels\u001b[38;5;241m.\u001b[39mSequential([encoder, decoder]) \n",
      "File \u001b[0;32m~/scripts/models.py:2\u001b[0m, in \u001b[0;36mcnn_encoder\u001b[0;34m(fit)\u001b[0m\n\u001b[1;32m      1\u001b[0m \u001b[38;5;28;01mdef\u001b[39;00m \u001b[38;5;21mcnn_encoder\u001b[39m(fit\u001b[38;5;241m=\u001b[39m\u001b[38;5;28;01mTrue\u001b[39;00m):\n\u001b[0;32m----> 2\u001b[0m     n_data \u001b[38;5;241m=\u001b[39m \u001b[43mtrainset\u001b[49m\u001b[38;5;241m.\u001b[39mshape[\u001b[38;5;241m0\u001b[39m]\n\u001b[1;32m      3\u001b[0m     n_features \u001b[38;5;241m=\u001b[39m trainset\u001b[38;5;241m.\u001b[39mshape[\u001b[38;5;241m1\u001b[39m]\n\u001b[1;32m      4\u001b[0m     n_outputs \u001b[38;5;241m=\u001b[39m trainsetout\u001b[38;5;241m.\u001b[39mshape[\u001b[38;5;241m1\u001b[39m]\n",
      "\u001b[0;31mNameError\u001b[0m: name 'trainset' is not defined"
     ]
    }
   ],
   "source": [
    "import importlib\n",
    "importlib.reload(models)\n",
    "\n",
    "ae_model, encoder, decoder, history=models.auto_encoder()\n",
    "history = ae_model.fit(trainset, trainset,\n",
    "                        epochs=20, batch_size=128,\n",
    "                        validation_data=(testset, testset))"
   ]
  },
  {
   "cell_type": "code",
   "execution_count": null,
   "id": "5da3b97f-2bf7-464a-9af8-5cea4748cc74",
   "metadata": {},
   "outputs": [],
   "source": []
  }
 ],
 "metadata": {
  "kernelspec": {
   "display_name": "tensorflow",
   "language": "",
   "name": "tensorflow"
  },
  "language_info": {
   "codemirror_mode": {
    "name": "ipython",
    "version": 3
   },
   "file_extension": ".py",
   "mimetype": "text/x-python",
   "name": "python",
   "nbconvert_exporter": "python",
   "pygments_lexer": "ipython3",
   "version": "3.10.9"
  }
 },
 "nbformat": 4,
 "nbformat_minor": 5
}
