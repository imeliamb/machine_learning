{
 "cells": [
  {
   "cell_type": "code",
   "execution_count": 25,
   "id": "90522417-7514-4170-99d6-e870968a6052",
   "metadata": {
    "execution": {
     "iopub.execute_input": "2023-05-12T12:48:09.434510Z",
     "iopub.status.busy": "2023-05-12T12:48:09.433851Z",
     "iopub.status.idle": "2023-05-12T12:48:09.441064Z",
     "shell.execute_reply": "2023-05-12T12:48:09.439863Z",
     "shell.execute_reply.started": "2023-05-12T12:48:09.434465Z"
    },
    "tags": []
   },
   "outputs": [],
   "source": [
    "import sys\n",
    "import numpy as np\n",
    "sys.path.append(\"/SNS/users/imeliamb/git/machine_learning/src\")\n",
    "import importlib\n",
    "import models\n",
    "import os\n",
    "import matplotlib\n",
    "import matplotlib.pyplot as plt"
   ]
  },
  {
   "cell_type": "code",
   "execution_count": 26,
   "id": "24778278-be62-44c5-a4e0-40a1f08d3ed8",
   "metadata": {
    "execution": {
     "iopub.execute_input": "2023-05-12T12:48:15.488676Z",
     "iopub.status.busy": "2023-05-12T12:48:15.488025Z",
     "iopub.status.idle": "2023-05-12T12:48:24.817176Z",
     "shell.execute_reply": "2023-05-12T12:48:24.816331Z",
     "shell.execute_reply.started": "2023-05-12T12:48:15.488630Z"
    },
    "tags": []
   },
   "outputs": [
    {
     "name": "stdout",
     "output_type": "stream",
     "text": [
      "(1000000,)\n",
      "(1000000, 100)\n",
      "(100,)\n"
     ]
    }
   ],
   "source": [
    "data_dir = os.path.expanduser(\"~m2d/git/analysis_playground/ml/data/training_data\")\n",
    "\n",
    "pars = np.load(os.path.join(data_dir, \"orhs_pars.npy\"))[:1000000]\n",
    "refl = np.load(os.path.join(data_dir, \"orhs_data.npy\"))[:1000000]\n",
    "q_values = np.load(os.path.join(data_dir, \"orhs_q_values.npy\"))\n",
    "\n",
    "print(pars.shape)\n",
    "print(refl.shape)\n",
    "print(q_values.shape)\n",
    "\n",
    "#refl = np.power(10, refl)/q_values**2*q_values[0]**2\n",
    "\n",
    "idx = 0\n",
    "\n",
    "#refl= np.asarray(refl[:-nset])\n",
    "#pars= np.asarray (pars[:-nset])\n",
    "\n",
    "testset= np.asarray(refl[:10000])\n",
    "testsetout= np.asarray (pars[:10000])\n",
    "    "
   ]
  },
  {
   "cell_type": "code",
   "execution_count": 12,
   "id": "42a695b9-d937-4c3a-9f09-ca8583538e48",
   "metadata": {
    "execution": {
     "iopub.execute_input": "2023-05-11T22:39:43.461542Z",
     "iopub.status.busy": "2023-05-11T22:39:43.461012Z",
     "iopub.status.idle": "2023-05-11T23:19:01.863003Z",
     "shell.execute_reply": "2023-05-11T23:19:01.861960Z",
     "shell.execute_reply.started": "2023-05-11T22:39:43.461501Z"
    },
    "tags": []
   },
   "outputs": [
    {
     "name": "stdout",
     "output_type": "stream",
     "text": [
      "Auto-encoder ready\n",
      "Epoch 1/75\n",
      "3907/3907 [==============================] - 32s 8ms/step - loss: 0.0639 - val_loss: 0.0109\n",
      "Epoch 2/75\n",
      "3907/3907 [==============================] - 31s 8ms/step - loss: 0.0095 - val_loss: 0.0083\n",
      "Epoch 3/75\n",
      "3907/3907 [==============================] - 31s 8ms/step - loss: 0.0079 - val_loss: 0.0068\n",
      "Epoch 4/75\n",
      "3907/3907 [==============================] - 31s 8ms/step - loss: 0.0070 - val_loss: 0.0064\n",
      "Epoch 5/75\n",
      "3907/3907 [==============================] - 31s 8ms/step - loss: 0.0064 - val_loss: 0.0059\n",
      "Epoch 6/75\n",
      "3907/3907 [==============================] - 31s 8ms/step - loss: 0.0060 - val_loss: 0.0064\n",
      "Epoch 7/75\n",
      "3907/3907 [==============================] - 31s 8ms/step - loss: 0.0056 - val_loss: 0.0052\n",
      "Epoch 8/75\n",
      "3907/3907 [==============================] - 31s 8ms/step - loss: 0.0052 - val_loss: 0.0048\n",
      "Epoch 9/75\n",
      "3907/3907 [==============================] - 31s 8ms/step - loss: 0.0049 - val_loss: 0.0049\n",
      "Epoch 10/75\n",
      "3907/3907 [==============================] - 31s 8ms/step - loss: 0.0047 - val_loss: 0.0045\n",
      "Epoch 11/75\n",
      "3907/3907 [==============================] - 31s 8ms/step - loss: 0.0044 - val_loss: 0.0044\n",
      "Epoch 12/75\n",
      "3907/3907 [==============================] - 31s 8ms/step - loss: 0.0041 - val_loss: 0.0037\n",
      "Epoch 13/75\n",
      "3907/3907 [==============================] - 32s 8ms/step - loss: 0.0039 - val_loss: 0.0041\n",
      "Epoch 14/75\n",
      "3907/3907 [==============================] - 31s 8ms/step - loss: 0.0037 - val_loss: 0.0035\n",
      "Epoch 15/75\n",
      "3907/3907 [==============================] - 31s 8ms/step - loss: 0.0036 - val_loss: 0.0036\n",
      "Epoch 16/75\n",
      "3907/3907 [==============================] - 31s 8ms/step - loss: 0.0034 - val_loss: 0.0037\n",
      "Epoch 17/75\n",
      "3907/3907 [==============================] - 31s 8ms/step - loss: 0.0033 - val_loss: 0.0035\n",
      "Epoch 18/75\n",
      "3907/3907 [==============================] - 31s 8ms/step - loss: 0.0032 - val_loss: 0.0038\n",
      "Epoch 19/75\n",
      "3907/3907 [==============================] - 31s 8ms/step - loss: 0.0032 - val_loss: 0.0029\n",
      "Epoch 20/75\n",
      "3907/3907 [==============================] - 32s 8ms/step - loss: 0.0030 - val_loss: 0.0031\n",
      "Epoch 21/75\n",
      "3907/3907 [==============================] - 32s 8ms/step - loss: 0.0030 - val_loss: 0.0028\n",
      "Epoch 22/75\n",
      "3907/3907 [==============================] - 32s 8ms/step - loss: 0.0029 - val_loss: 0.0028\n",
      "Epoch 23/75\n",
      "3907/3907 [==============================] - 31s 8ms/step - loss: 0.0029 - val_loss: 0.0028\n",
      "Epoch 24/75\n",
      "3907/3907 [==============================] - 32s 8ms/step - loss: 0.0028 - val_loss: 0.0028\n",
      "Epoch 25/75\n",
      "3907/3907 [==============================] - 31s 8ms/step - loss: 0.0027 - val_loss: 0.0026\n",
      "Epoch 26/75\n",
      "3907/3907 [==============================] - 31s 8ms/step - loss: 0.0027 - val_loss: 0.0027\n",
      "Epoch 27/75\n",
      "3907/3907 [==============================] - 32s 8ms/step - loss: 0.0027 - val_loss: 0.0027\n",
      "Epoch 28/75\n",
      "3907/3907 [==============================] - 32s 8ms/step - loss: 0.0026 - val_loss: 0.0025\n",
      "Epoch 29/75\n",
      "3907/3907 [==============================] - 31s 8ms/step - loss: 0.0026 - val_loss: 0.0026\n",
      "Epoch 30/75\n",
      "3907/3907 [==============================] - 31s 8ms/step - loss: 0.0025 - val_loss: 0.0024\n",
      "Epoch 31/75\n",
      "3907/3907 [==============================] - 31s 8ms/step - loss: 0.0025 - val_loss: 0.0024\n",
      "Epoch 32/75\n",
      "3907/3907 [==============================] - 32s 8ms/step - loss: 0.0025 - val_loss: 0.0023\n",
      "Epoch 33/75\n",
      "3907/3907 [==============================] - 31s 8ms/step - loss: 0.0024 - val_loss: 0.0023\n",
      "Epoch 34/75\n",
      "3907/3907 [==============================] - 31s 8ms/step - loss: 0.0024 - val_loss: 0.0023\n",
      "Epoch 35/75\n",
      "3907/3907 [==============================] - 32s 8ms/step - loss: 0.0024 - val_loss: 0.0024\n",
      "Epoch 36/75\n",
      "3907/3907 [==============================] - 31s 8ms/step - loss: 0.0023 - val_loss: 0.0027\n",
      "Epoch 37/75\n",
      "3907/3907 [==============================] - 32s 8ms/step - loss: 0.0023 - val_loss: 0.0024\n",
      "Epoch 38/75\n",
      "3907/3907 [==============================] - 31s 8ms/step - loss: 0.0023 - val_loss: 0.0022\n",
      "Epoch 39/75\n",
      "3907/3907 [==============================] - 32s 8ms/step - loss: 0.0023 - val_loss: 0.0022\n",
      "Epoch 40/75\n",
      "3907/3907 [==============================] - 32s 8ms/step - loss: 0.0023 - val_loss: 0.0021\n",
      "Epoch 41/75\n",
      "3907/3907 [==============================] - 31s 8ms/step - loss: 0.0022 - val_loss: 0.0024\n",
      "Epoch 42/75\n",
      "3907/3907 [==============================] - 31s 8ms/step - loss: 0.0022 - val_loss: 0.0023\n",
      "Epoch 43/75\n",
      "3907/3907 [==============================] - 32s 8ms/step - loss: 0.0022 - val_loss: 0.0021\n",
      "Epoch 44/75\n",
      "3907/3907 [==============================] - 32s 8ms/step - loss: 0.0022 - val_loss: 0.0021\n",
      "Epoch 45/75\n",
      "3907/3907 [==============================] - 32s 8ms/step - loss: 0.0022 - val_loss: 0.0021\n",
      "Epoch 46/75\n",
      "3907/3907 [==============================] - 31s 8ms/step - loss: 0.0021 - val_loss: 0.0022\n",
      "Epoch 47/75\n",
      "3907/3907 [==============================] - 32s 8ms/step - loss: 0.0021 - val_loss: 0.0020\n",
      "Epoch 48/75\n",
      "3907/3907 [==============================] - 31s 8ms/step - loss: 0.0021 - val_loss: 0.0021\n",
      "Epoch 49/75\n",
      "3907/3907 [==============================] - 31s 8ms/step - loss: 0.0021 - val_loss: 0.0021\n",
      "Epoch 50/75\n",
      "3907/3907 [==============================] - 32s 8ms/step - loss: 0.0021 - val_loss: 0.0020\n",
      "Epoch 51/75\n",
      "3907/3907 [==============================] - 31s 8ms/step - loss: 0.0021 - val_loss: 0.0021\n",
      "Epoch 52/75\n",
      "3907/3907 [==============================] - 31s 8ms/step - loss: 0.0021 - val_loss: 0.0019\n",
      "Epoch 53/75\n",
      "3907/3907 [==============================] - 31s 8ms/step - loss: 0.0020 - val_loss: 0.0020\n",
      "Epoch 54/75\n",
      "3907/3907 [==============================] - 32s 8ms/step - loss: 0.0020 - val_loss: 0.0020\n",
      "Epoch 55/75\n",
      "3907/3907 [==============================] - 31s 8ms/step - loss: 0.0020 - val_loss: 0.0020\n",
      "Epoch 56/75\n",
      "3907/3907 [==============================] - 32s 8ms/step - loss: 0.0020 - val_loss: 0.0019\n",
      "Epoch 57/75\n",
      "3907/3907 [==============================] - 31s 8ms/step - loss: 0.0020 - val_loss: 0.0020\n",
      "Epoch 58/75\n",
      "3907/3907 [==============================] - 32s 8ms/step - loss: 0.0020 - val_loss: 0.0019\n",
      "Epoch 59/75\n",
      "3907/3907 [==============================] - 32s 8ms/step - loss: 0.0020 - val_loss: 0.0020\n",
      "Epoch 60/75\n",
      "3907/3907 [==============================] - 32s 8ms/step - loss: 0.0020 - val_loss: 0.0020\n",
      "Epoch 61/75\n",
      "3907/3907 [==============================] - 31s 8ms/step - loss: 0.0020 - val_loss: 0.0019\n",
      "Epoch 62/75\n",
      "3907/3907 [==============================] - 31s 8ms/step - loss: 0.0020 - val_loss: 0.0019\n",
      "Epoch 63/75\n",
      "3907/3907 [==============================] - 31s 8ms/step - loss: 0.0019 - val_loss: 0.0019\n",
      "Epoch 64/75\n",
      "3907/3907 [==============================] - 32s 8ms/step - loss: 0.0019 - val_loss: 0.0019\n",
      "Epoch 65/75\n",
      "3907/3907 [==============================] - 32s 8ms/step - loss: 0.0019 - val_loss: 0.0019\n",
      "Epoch 66/75\n",
      "3907/3907 [==============================] - 32s 8ms/step - loss: 0.0019 - val_loss: 0.0019\n",
      "Epoch 67/75\n",
      "3907/3907 [==============================] - 32s 8ms/step - loss: 0.0019 - val_loss: 0.0018\n",
      "Epoch 68/75\n",
      "3907/3907 [==============================] - 32s 8ms/step - loss: 0.0019 - val_loss: 0.0018\n",
      "Epoch 69/75\n",
      "3907/3907 [==============================] - 32s 8ms/step - loss: 0.0019 - val_loss: 0.0018\n",
      "Epoch 70/75\n",
      "3907/3907 [==============================] - 31s 8ms/step - loss: 0.0019 - val_loss: 0.0019\n",
      "Epoch 71/75\n",
      "3907/3907 [==============================] - 31s 8ms/step - loss: 0.0019 - val_loss: 0.0019\n",
      "Epoch 72/75\n",
      "3907/3907 [==============================] - 32s 8ms/step - loss: 0.0019 - val_loss: 0.0019\n",
      "Epoch 73/75\n",
      "3907/3907 [==============================] - 31s 8ms/step - loss: 0.0019 - val_loss: 0.0019\n",
      "Epoch 74/75\n",
      "3907/3907 [==============================] - 32s 8ms/step - loss: 0.0018 - val_loss: 0.0018\n",
      "Epoch 75/75\n",
      "3907/3907 [==============================] - 32s 8ms/step - loss: 0.0018 - val_loss: 0.0018\n"
     ]
    },
    {
     "ename": "AttributeError",
     "evalue": "module 'models' has no attribute 'savemodel'",
     "output_type": "error",
     "traceback": [
      "\u001b[0;31m---------------------------------------------------------------------------\u001b[0m",
      "\u001b[0;31mAttributeError\u001b[0m                            Traceback (most recent call last)",
      "Cell \u001b[0;32mIn[12], line 11\u001b[0m\n\u001b[1;32m      7\u001b[0m ae_model, encoder, decoder \u001b[38;5;241m=\u001b[39mmodels\u001b[38;5;241m.\u001b[39mauto_encoder(n_data, n_features, n_outputs)\n\u001b[1;32m      8\u001b[0m history \u001b[38;5;241m=\u001b[39m ae_model\u001b[38;5;241m.\u001b[39mfit(refl, refl,\n\u001b[1;32m      9\u001b[0m                         epochs\u001b[38;5;241m=\u001b[39m\u001b[38;5;241m75\u001b[39m, batch_size\u001b[38;5;241m=\u001b[39m\u001b[38;5;241m256\u001b[39m,\n\u001b[1;32m     10\u001b[0m                         validation_data\u001b[38;5;241m=\u001b[39m(testset, testset))\n\u001b[0;32m---> 11\u001b[0m \u001b[43mmodels\u001b[49m\u001b[38;5;241;43m.\u001b[39;49m\u001b[43msavemodel\u001b[49m(ae_model, encoder, decoder, \u001b[38;5;124m\"\u001b[39m\u001b[38;5;124m/SNS/users/imeliamb/git/machine_learning/data\u001b[39m\u001b[38;5;124m\"\u001b[39m)\n",
      "\u001b[0;31mAttributeError\u001b[0m: module 'models' has no attribute 'savemodel'"
     ]
    }
   ],
   "source": [
    "import importlib\n",
    "importlib.reload(models)\n",
    "n_data = refl.shape[0]\n",
    "n_features = refl.shape[1]\n",
    "n_outputs = 10\n",
    "\n",
    "ae_model, encoder, decoder =models.auto_encoder(n_data, n_features, n_outputs)\n",
    "history = ae_model.fit(refl, refl,\n",
    "                        epochs=75, batch_size=256,\n",
    "                        validation_data=(testset, testset))\n",
    "#models.save_model(ae_model, encoder, decoder, \"/SNS/users/imeliamb/git/machine_learning/data\")"
   ]
  },
  {
   "cell_type": "code",
   "execution_count": 47,
   "id": "8f0616c9-7964-429f-a80a-0e9f8dd2bb56",
   "metadata": {
    "execution": {
     "iopub.execute_input": "2023-05-03T18:34:11.507675Z",
     "iopub.status.busy": "2023-05-03T18:34:11.507095Z",
     "iopub.status.idle": "2023-05-03T18:34:11.651995Z",
     "shell.execute_reply": "2023-05-03T18:34:11.650893Z",
     "shell.execute_reply.started": "2023-05-03T18:34:11.507630Z"
    },
    "tags": []
   },
   "outputs": [],
   "source": [
    "importlib.reload(models)\n",
    "models.save_model(ae_model, encoder, decoder, \"/SNS/users/imeliamb/data/ml\")"
   ]
  },
  {
   "cell_type": "code",
   "execution_count": 13,
   "id": "a884764c-1812-4d09-83cd-47e81228bc37",
   "metadata": {
    "execution": {
     "iopub.execute_input": "2023-05-12T01:50:16.776514Z",
     "iopub.status.busy": "2023-05-12T01:50:16.775744Z",
     "iopub.status.idle": "2023-05-12T01:50:18.776434Z",
     "shell.execute_reply": "2023-05-12T01:50:18.775888Z",
     "shell.execute_reply.started": "2023-05-12T01:50:16.776463Z"
    },
    "tags": []
   },
   "outputs": [
    {
     "name": "stdout",
     "output_type": "stream",
     "text": [
      "313/313 [==============================] - 1s 3ms/step\n",
      "313/313 [==============================] - 1s 2ms/step\n",
      "(10000, 100)\n",
      "(10000, 10)\n"
     ]
    }
   ],
   "source": [
    "y_pred = ae_model.predict(testset)\n",
    "latent_space = encoder.predict(testset)\n",
    "print(y_pred.shape)\n",
    "print(latent_space.shape)\n",
    "idx=0"
   ]
  },
  {
   "cell_type": "code",
   "execution_count": 24,
   "id": "5da3b97f-2bf7-464a-9af8-5cea4748cc74",
   "metadata": {
    "execution": {
     "iopub.execute_input": "2023-05-12T12:43:25.989291Z",
     "iopub.status.busy": "2023-05-12T12:43:25.988665Z",
     "iopub.status.idle": "2023-05-12T12:43:26.184765Z",
     "shell.execute_reply": "2023-05-12T12:43:26.183977Z",
     "shell.execute_reply.started": "2023-05-12T12:43:25.989247Z"
    },
    "tags": []
   },
   "outputs": [
    {
     "data": {
      "image/png": "[encoded data removed]",
      "text/plain": [
       "<Figure size 800x400 with 1 Axes>"
      ]
     },
     "metadata": {},
     "output_type": "display_data"
    }
   ],
   "source": [
    "fig=plt.figure(dpi=100, figsize=[8,4])\n",
    "plt.plot(q_values, testset[idx], marker='.', linestyle='', label='truth')\n",
    "plt.plot(q_values, y_pred[idx], marker='.', linestyle='-', label='prediction')\n",
    "\n",
    "plt.legend()\n",
    "plt.show()\n",
    "\n",
    "idx=idx+1"
   ]
  },
  {
   "cell_type": "code",
   "execution_count": 51,
   "id": "28acca52-4041-4994-a3db-bd936d419a45",
   "metadata": {
    "execution": {
     "iopub.execute_input": "2023-05-03T18:34:46.094565Z",
     "iopub.status.busy": "2023-05-03T18:34:46.094024Z",
     "iopub.status.idle": "2023-05-03T18:34:48.961086Z",
     "shell.execute_reply": "2023-05-03T18:34:48.960051Z",
     "shell.execute_reply.started": "2023-05-03T18:34:46.094518Z"
    },
    "tags": []
   },
   "outputs": [],
   "source": [
    "from sklearn.manifold import TSNE\n",
    "tsne1 = TSNE(n_components=2, learning_rate='auto', init='random').fit_transform(latent_space).T\n"
   ]
  },
  {
   "cell_type": "code",
   "execution_count": 34,
   "id": "0d3eb2f3-6846-4deb-b17b-9a073ad21d7a",
   "metadata": {
    "execution": {
     "iopub.execute_input": "2023-05-03T18:11:53.930513Z",
     "iopub.status.busy": "2023-05-03T18:11:53.929968Z",
     "iopub.status.idle": "2023-05-03T18:11:54.109763Z",
     "shell.execute_reply": "2023-05-03T18:11:54.108954Z",
     "shell.execute_reply.started": "2023-05-03T18:11:53.930463Z"
    },
    "tags": []
   },
   "outputs": [
    {
     "name": "stdout",
     "output_type": "stream",
     "text": [
      "(2, 1000)\n"
     ]
    },
    {
     "data": {
      "image/png": "[encoded data removed]",
      "text/plain": [
       "<Figure size 640x480 with 1 Axes>"
      ]
     },
     "metadata": {},
     "output_type": "display_data"
    }
   ],
   "source": [
    "print(tsne1.shape)\n",
    "fig = plt.figure()\n",
    "plt.scatter(tsne1[0], tsne1[1], c='green', s=1)\n",
    "plt.show()"
   ]
  },
  {
   "cell_type": "code",
   "execution_count": null,
   "id": "4e0d81fd-7d79-430c-b56f-88c1b00c1f24",
   "metadata": {},
   "outputs": [],
   "source": []
  }
 ],
 "metadata": {
  "kernelspec": {
   "display_name": "tensorflow",
   "language": "",
   "name": "tensorflow"
  },
  "language_info": {
   "codemirror_mode": {
    "name": "ipython",
    "version": 3
   },
   "file_extension": ".py",
   "mimetype": "text/x-python",
   "name": "python",
   "nbconvert_exporter": "python",
   "pygments_lexer": "ipython3",
   "version": "3.10.9"
  }
 },
 "nbformat": 4,
 "nbformat_minor": 5
}
