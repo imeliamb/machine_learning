{
 "cells": [
  {
   "cell_type": "code",
   "execution_count": 4,
   "id": "90522417-7514-4170-99d6-e870968a6052",
   "metadata": {
    "execution": {
     "iopub.execute_input": "2023-05-12T13:27:51.011161Z",
     "iopub.status.busy": "2023-05-12T13:27:51.010684Z",
     "iopub.status.idle": "2023-05-12T13:27:51.016065Z",
     "shell.execute_reply": "2023-05-12T13:27:51.015399Z",
     "shell.execute_reply.started": "2023-05-12T13:27:51.011133Z"
    },
    "tags": []
   },
   "outputs": [],
   "source": [
    "import sys\n",
    "import numpy as np\n",
    "sys.path.append(\"/SNS/users/imeliamb/git/machine_learning/src\")\n",
    "import importlib\n",
    "import models\n",
    "import os\n",
    "import matplotlib\n",
    "import matplotlib.pyplot as plt"
   ]
  },
  {
   "cell_type": "code",
   "execution_count": 9,
   "id": "24778278-be62-44c5-a4e0-40a1f08d3ed8",
   "metadata": {
    "execution": {
     "iopub.execute_input": "2023-05-12T13:31:59.224990Z",
     "iopub.status.busy": "2023-05-12T13:31:59.224536Z",
     "iopub.status.idle": "2023-05-12T13:31:59.580014Z",
     "shell.execute_reply": "2023-05-12T13:31:59.579320Z",
     "shell.execute_reply.started": "2023-05-12T13:31:59.224945Z"
    },
    "tags": []
   },
   "outputs": [
    {
     "name": "stdout",
     "output_type": "stream",
     "text": [
      "(1000000,)\n",
      "(1000000, 100)\n",
      "(100,)\n"
     ]
    }
   ],
   "source": [
    "data_dir = os.path.expanduser(\"~m2d/git/analysis_playground/ml/data/training_data\")\n",
    "\n",
    "pars = np.load(os.path.join(data_dir, \"orhs_pars.npy\"))[:1000000]\n",
    "refl = np.load(os.path.join(data_dir, \"orhs_data.npy\"))[:1000000]\n",
    "q_values = np.load(os.path.join(data_dir, \"orhs_q_values.npy\"))\n",
    "\n",
    "print(pars.shape)\n",
    "print(refl.shape)\n",
    "print(q_values.shape)\n",
    "\n",
    "#refl = np.power(10, refl)/q_values**2*q_values[0]**2\n",
    "\n",
    "idx = 0\n",
    "\n",
    "#refl= np.asarray(refl[:-nset])\n",
    "#pars= np.asarray (pars[:-nset])\n",
    "\n",
    "testset= np.asarray(refl[:1000000])\n",
    "testsetout= np.asarray (pars[:1000000])\n",
    "    "
   ]
  },
  {
   "cell_type": "code",
   "execution_count": 10,
   "id": "42a695b9-d937-4c3a-9f09-ca8583538e48",
   "metadata": {
    "execution": {
     "iopub.execute_input": "2023-05-12T13:32:30.910054Z",
     "iopub.status.busy": "2023-05-12T13:32:30.909407Z",
     "iopub.status.idle": "2023-05-12T14:35:05.787068Z",
     "shell.execute_reply": "2023-05-12T14:35:05.786332Z",
     "shell.execute_reply.started": "2023-05-12T13:32:30.910016Z"
    },
    "tags": []
   },
   "outputs": [
    {
     "name": "stdout",
     "output_type": "stream",
     "text": [
      "Auto-encoder ready\n",
      "Epoch 1/75\n",
      "3907/3907 [==============================] - 55s 14ms/step - loss: 0.0543 - val_loss: 0.0118\n",
      "Epoch 2/75\n",
      "3907/3907 [==============================] - 53s 13ms/step - loss: 0.0092 - val_loss: 0.0072\n",
      "Epoch 3/75\n",
      "3907/3907 [==============================] - 54s 14ms/step - loss: 0.0071 - val_loss: 0.0061\n",
      "Epoch 4/75\n",
      "3907/3907 [==============================] - 54s 14ms/step - loss: 0.0062 - val_loss: 0.0054\n",
      "Epoch 5/75\n",
      "3907/3907 [==============================] - 55s 14ms/step - loss: 0.0056 - val_loss: 0.0052\n",
      "Epoch 6/75\n",
      "3907/3907 [==============================] - 56s 14ms/step - loss: 0.0051 - val_loss: 0.0047\n",
      "Epoch 7/75\n",
      "3907/3907 [==============================] - 56s 14ms/step - loss: 0.0047 - val_loss: 0.0046\n",
      "Epoch 8/75\n",
      "3907/3907 [==============================] - 56s 14ms/step - loss: 0.0044 - val_loss: 0.0041\n",
      "Epoch 9/75\n",
      "3907/3907 [==============================] - 56s 14ms/step - loss: 0.0044 - val_loss: 0.0040\n",
      "Epoch 10/75\n",
      "3907/3907 [==============================] - 56s 14ms/step - loss: 0.0040 - val_loss: 0.0038\n",
      "Epoch 11/75\n",
      "3907/3907 [==============================] - 57s 15ms/step - loss: 0.0038 - val_loss: 0.0043\n",
      "Epoch 12/75\n",
      "3907/3907 [==============================] - 57s 15ms/step - loss: 0.0036 - val_loss: 0.0042\n",
      "Epoch 13/75\n",
      "3907/3907 [==============================] - 56s 14ms/step - loss: 0.0034 - val_loss: 0.0032\n",
      "Epoch 14/75\n",
      "3907/3907 [==============================] - 58s 15ms/step - loss: 0.0032 - val_loss: 0.0031\n",
      "Epoch 15/75\n",
      "3907/3907 [==============================] - 59s 15ms/step - loss: 0.0031 - val_loss: 0.0029\n",
      "Epoch 16/75\n",
      "3907/3907 [==============================] - 59s 15ms/step - loss: 0.0030 - val_loss: 0.0037\n",
      "Epoch 17/75\n",
      "3907/3907 [==============================] - 59s 15ms/step - loss: 0.0029 - val_loss: 0.0027\n",
      "Epoch 18/75\n",
      "3907/3907 [==============================] - 59s 15ms/step - loss: 0.0028 - val_loss: 0.0027\n",
      "Epoch 19/75\n",
      "3907/3907 [==============================] - 59s 15ms/step - loss: 0.0028 - val_loss: 0.0026\n",
      "Epoch 20/75\n",
      "3907/3907 [==============================] - 60s 15ms/step - loss: 0.0027 - val_loss: 0.0027\n",
      "Epoch 21/75\n",
      "3907/3907 [==============================] - 59s 15ms/step - loss: 0.0027 - val_loss: 0.0028\n",
      "Epoch 22/75\n",
      "3907/3907 [==============================] - 59s 15ms/step - loss: 0.0026 - val_loss: 0.0026\n",
      "Epoch 23/75\n",
      "3907/3907 [==============================] - 59s 15ms/step - loss: 0.0026 - val_loss: 0.0027\n",
      "Epoch 24/75\n",
      "3907/3907 [==============================] - 56s 14ms/step - loss: 0.0025 - val_loss: 0.0025\n",
      "Epoch 25/75\n",
      "3907/3907 [==============================] - 52s 13ms/step - loss: 0.0025 - val_loss: 0.0026\n",
      "Epoch 26/75\n",
      "3907/3907 [==============================] - 51s 13ms/step - loss: 0.0024 - val_loss: 0.0023\n",
      "Epoch 27/75\n",
      "3907/3907 [==============================] - 52s 13ms/step - loss: 0.0024 - val_loss: 0.0028\n",
      "Epoch 28/75\n",
      "3907/3907 [==============================] - 53s 13ms/step - loss: 0.0024 - val_loss: 0.0024\n",
      "Epoch 29/75\n",
      "3907/3907 [==============================] - 52s 13ms/step - loss: 0.0024 - val_loss: 0.0023\n",
      "Epoch 30/75\n",
      "3907/3907 [==============================] - 46s 12ms/step - loss: 0.0023 - val_loss: 0.0023\n",
      "Epoch 31/75\n",
      "3907/3907 [==============================] - 46s 12ms/step - loss: 0.0023 - val_loss: 0.0023\n",
      "Epoch 32/75\n",
      "3907/3907 [==============================] - 47s 12ms/step - loss: 0.0023 - val_loss: 0.0023\n",
      "Epoch 33/75\n",
      "3907/3907 [==============================] - 47s 12ms/step - loss: 0.0022 - val_loss: 0.0021\n",
      "Epoch 34/75\n",
      "3907/3907 [==============================] - 46s 12ms/step - loss: 0.0022 - val_loss: 0.0021\n",
      "Epoch 35/75\n",
      "3907/3907 [==============================] - 46s 12ms/step - loss: 0.0025 - val_loss: 0.0024\n",
      "Epoch 36/75\n",
      "3907/3907 [==============================] - 46s 12ms/step - loss: 0.0022 - val_loss: 0.0021\n",
      "Epoch 37/75\n",
      "3907/3907 [==============================] - 46s 12ms/step - loss: 0.0022 - val_loss: 0.0021\n",
      "Epoch 38/75\n",
      "3907/3907 [==============================] - 47s 12ms/step - loss: 0.0021 - val_loss: 0.0022\n",
      "Epoch 39/75\n",
      "3907/3907 [==============================] - 46s 12ms/step - loss: 0.0021 - val_loss: 0.0021\n",
      "Epoch 40/75\n",
      "3907/3907 [==============================] - 46s 12ms/step - loss: 0.0021 - val_loss: 0.0020\n",
      "Epoch 41/75\n",
      "3907/3907 [==============================] - 46s 12ms/step - loss: 0.0021 - val_loss: 0.0020\n",
      "Epoch 42/75\n",
      "3907/3907 [==============================] - 46s 12ms/step - loss: 0.0021 - val_loss: 0.0020\n",
      "Epoch 43/75\n",
      "3907/3907 [==============================] - 46s 12ms/step - loss: 0.0020 - val_loss: 0.0022\n",
      "Epoch 44/75\n",
      "3907/3907 [==============================] - 46s 12ms/step - loss: 0.0021 - val_loss: 0.0020\n",
      "Epoch 45/75\n",
      "3907/3907 [==============================] - 46s 12ms/step - loss: 0.0020 - val_loss: 0.0020\n",
      "Epoch 46/75\n",
      "3907/3907 [==============================] - 46s 12ms/step - loss: 0.0020 - val_loss: 0.0021\n",
      "Epoch 47/75\n",
      "3907/3907 [==============================] - 46s 12ms/step - loss: 0.0020 - val_loss: 0.0021\n",
      "Epoch 48/75\n",
      "3907/3907 [==============================] - 46s 12ms/step - loss: 0.0020 - val_loss: 0.0020\n",
      "Epoch 49/75\n",
      "3907/3907 [==============================] - 47s 12ms/step - loss: 0.0020 - val_loss: 0.0019\n",
      "Epoch 50/75\n",
      "3907/3907 [==============================] - 46s 12ms/step - loss: 0.0019 - val_loss: 0.0019\n",
      "Epoch 51/75\n",
      "3907/3907 [==============================] - 46s 12ms/step - loss: 0.0019 - val_loss: 0.0020\n",
      "Epoch 52/75\n",
      "3907/3907 [==============================] - 46s 12ms/step - loss: 0.0019 - val_loss: 0.0018\n",
      "Epoch 53/75\n",
      "3907/3907 [==============================] - 46s 12ms/step - loss: 0.0019 - val_loss: 0.0019\n",
      "Epoch 54/75\n",
      "3907/3907 [==============================] - 46s 12ms/step - loss: 0.0019 - val_loss: 0.0021\n",
      "Epoch 55/75\n",
      "3907/3907 [==============================] - 46s 12ms/step - loss: 0.0019 - val_loss: 0.0020\n",
      "Epoch 56/75\n",
      "3907/3907 [==============================] - 46s 12ms/step - loss: 0.0019 - val_loss: 0.0019\n",
      "Epoch 57/75\n",
      "3907/3907 [==============================] - 46s 12ms/step - loss: 0.0019 - val_loss: 0.0019\n",
      "Epoch 58/75\n",
      "3907/3907 [==============================] - 46s 12ms/step - loss: 0.0019 - val_loss: 0.0018\n",
      "Epoch 59/75\n",
      "3907/3907 [==============================] - 46s 12ms/step - loss: 0.0019 - val_loss: 0.0019\n",
      "Epoch 60/75\n",
      "3907/3907 [==============================] - 46s 12ms/step - loss: 0.0018 - val_loss: 0.0018\n",
      "Epoch 61/75\n",
      "3907/3907 [==============================] - 46s 12ms/step - loss: 0.0018 - val_loss: 0.0018\n",
      "Epoch 62/75\n",
      "3907/3907 [==============================] - 46s 12ms/step - loss: 0.0018 - val_loss: 0.0019\n",
      "Epoch 63/75\n",
      "3907/3907 [==============================] - 46s 12ms/step - loss: 0.0018 - val_loss: 0.0018\n",
      "Epoch 64/75\n",
      "3907/3907 [==============================] - 46s 12ms/step - loss: 0.0018 - val_loss: 0.0018\n",
      "Epoch 65/75\n",
      "3907/3907 [==============================] - 46s 12ms/step - loss: 0.0018 - val_loss: 0.0019\n",
      "Epoch 66/75\n",
      "3907/3907 [==============================] - 46s 12ms/step - loss: 0.0018 - val_loss: 0.0020\n",
      "Epoch 67/75\n",
      "3907/3907 [==============================] - 46s 12ms/step - loss: 0.0018 - val_loss: 0.0019\n",
      "Epoch 68/75\n",
      "3907/3907 [==============================] - 46s 12ms/step - loss: 0.0018 - val_loss: 0.0018\n",
      "Epoch 69/75\n",
      "3907/3907 [==============================] - 47s 12ms/step - loss: 0.0018 - val_loss: 0.0020\n",
      "Epoch 70/75\n",
      "3907/3907 [==============================] - 46s 12ms/step - loss: 0.0018 - val_loss: 0.0019\n",
      "Epoch 71/75\n",
      "3907/3907 [==============================] - 46s 12ms/step - loss: 0.0019 - val_loss: 0.0018\n",
      "Epoch 72/75\n",
      "3907/3907 [==============================] - 46s 12ms/step - loss: 0.0018 - val_loss: 0.0018\n",
      "Epoch 73/75\n",
      "3907/3907 [==============================] - 46s 12ms/step - loss: 0.0018 - val_loss: 0.0020\n",
      "Epoch 74/75\n",
      "3907/3907 [==============================] - 47s 12ms/step - loss: 0.0018 - val_loss: 0.0018\n",
      "Epoch 75/75\n",
      "3907/3907 [==============================] - 46s 12ms/step - loss: 0.0018 - val_loss: 0.0017\n"
     ]
    }
   ],
   "source": [
    "import importlib\n",
    "importlib.reload(models)\n",
    "n_data = refl.shape[0]\n",
    "n_features = refl.shape[1]\n",
    "n_outputs = 10\n",
    "\n",
    "ae_model, encoder, decoder =models.auto_encoder(n_data, n_features, n_outputs)\n",
    "history = ae_model.fit(refl, refl,\n",
    "                        epochs=75, batch_size=256,\n",
    "                        validation_data=(testset, testset))\n",
    "#models.save_model(ae_model, encoder, decoder, \"/SNS/users/imeliamb/git/machine_learning/data\")\n",
    "importlib.reload(models)\n",
    "models.save_model(ae_model, encoder, decoder, \"/SNS/users/vogtdan000/data/ml\")"
   ]
  },
  {
   "cell_type": "code",
   "execution_count": 8,
   "id": "8f0616c9-7964-429f-a80a-0e9f8dd2bb56",
   "metadata": {
    "execution": {
     "iopub.execute_input": "2023-05-12T13:29:57.679976Z",
     "iopub.status.busy": "2023-05-12T13:29:57.679518Z",
     "iopub.status.idle": "2023-05-12T13:30:12.766044Z",
     "shell.execute_reply": "2023-05-12T13:30:12.765430Z",
     "shell.execute_reply.started": "2023-05-12T13:29:57.679942Z"
    },
    "tags": []
   },
   "outputs": [],
   "source": [
    "importlib.reload(models)\n",
    "models.save_model(ae_model, encoder, decoder, \"/SNS/users/vogtdan000/data/ml\")"
   ]
  },
  {
   "cell_type": "code",
   "execution_count": 11,
   "id": "a884764c-1812-4d09-83cd-47e81228bc37",
   "metadata": {
    "execution": {
     "iopub.execute_input": "2023-05-12T18:18:41.771876Z",
     "iopub.status.busy": "2023-05-12T18:18:41.770324Z",
     "iopub.status.idle": "2023-05-12T18:21:14.211847Z",
     "shell.execute_reply": "2023-05-12T18:21:14.210492Z",
     "shell.execute_reply.started": "2023-05-12T18:18:41.770918Z"
    },
    "tags": []
   },
   "outputs": [
    {
     "name": "stdout",
     "output_type": "stream",
     "text": [
      "31250/31250 [==============================] - 89s 3ms/step\n",
      "31250/31250 [==============================] - 48s 2ms/step\n",
      "(1000000, 100)\n",
      "(1000000, 10)\n"
     ]
    }
   ],
   "source": [
    "y_pred = ae_model.predict(testset)\n",
    "latent_space = encoder.predict(testset)\n",
    "print(y_pred.shape)\n",
    "print(latent_space.shape)\n",
    "idx=0"
   ]
  },
  {
   "cell_type": "code",
   "execution_count": 29,
   "id": "5da3b97f-2bf7-464a-9af8-5cea4748cc74",
   "metadata": {
    "execution": {
     "iopub.execute_input": "2023-05-12T18:26:30.542836Z",
     "iopub.status.busy": "2023-05-12T18:26:30.542579Z",
     "iopub.status.idle": "2023-05-12T18:26:30.756557Z",
     "shell.execute_reply": "2023-05-12T18:26:30.755898Z",
     "shell.execute_reply.started": "2023-05-12T18:26:30.542815Z"
    },
    "tags": []
   },
   "outputs": [
    {
     "data": {
      "image/png": "[encoded data removed]",
      "text/plain": [
       "<Figure size 800x400 with 1 Axes>"
      ]
     },
     "metadata": {},
     "output_type": "display_data"
    }
   ],
   "source": [
    "fig=plt.figure(dpi=100, figsize=[8,4])\n",
    "plt.plot(q_values, testset[idx], marker='.', linestyle='', label='truth')\n",
    "plt.plot(q_values, y_pred[idx], marker='.', linestyle='-', label='prediction')\n",
    "\n",
    "plt.legend()\n",
    "plt.show()\n",
    "\n",
    "idx=idx+1"
   ]
  },
  {
   "cell_type": "code",
   "execution_count": 51,
   "id": "28acca52-4041-4994-a3db-bd936d419a45",
   "metadata": {
    "execution": {
     "iopub.execute_input": "2023-05-03T18:34:46.094565Z",
     "iopub.status.busy": "2023-05-03T18:34:46.094024Z",
     "iopub.status.idle": "2023-05-03T18:34:48.961086Z",
     "shell.execute_reply": "2023-05-03T18:34:48.960051Z",
     "shell.execute_reply.started": "2023-05-03T18:34:46.094518Z"
    },
    "tags": []
   },
   "outputs": [],
   "source": [
    "from sklearn.manifold import TSNE\n",
    "tsne1 = TSNE(n_components=2, learning_rate='auto', init='random').fit_transform(latent_space).T\n"
   ]
  },
  {
   "cell_type": "code",
   "execution_count": 34,
   "id": "0d3eb2f3-6846-4deb-b17b-9a073ad21d7a",
   "metadata": {
    "execution": {
     "iopub.execute_input": "2023-05-03T18:11:53.930513Z",
     "iopub.status.busy": "2023-05-03T18:11:53.929968Z",
     "iopub.status.idle": "2023-05-03T18:11:54.109763Z",
     "shell.execute_reply": "2023-05-03T18:11:54.108954Z",
     "shell.execute_reply.started": "2023-05-03T18:11:53.930463Z"
    },
    "tags": []
   },
   "outputs": [
    {
     "name": "stdout",
     "output_type": "stream",
     "text": [
      "(2, 1000)\n"
     ]
    },
    {
     "data": {
      "image/png": "[encoded data removed]",
      "text/plain": [
       "<Figure size 640x480 with 1 Axes>"
      ]
     },
     "metadata": {},
     "output_type": "display_data"
    }
   ],
   "source": [
    "print(tsne1.shape)\n",
    "fig = plt.figure()\n",
    "plt.scatter(tsne1[0], tsne1[1], c='green', s=1)\n",
    "plt.show()"
   ]
  },
  {
   "cell_type": "code",
   "execution_count": null,
   "id": "4e0d81fd-7d79-430c-b56f-88c1b00c1f24",
   "metadata": {},
   "outputs": [],
   "source": []
  }
 ],
 "metadata": {
  "kernelspec": {
   "display_name": "tensorflow",
   "language": "",
   "name": "tensorflow"
  },
  "language_info": {
   "codemirror_mode": {
    "name": "ipython",
    "version": 3
   },
   "file_extension": ".py",
   "mimetype": "text/x-python",
   "name": "python",
   "nbconvert_exporter": "python",
   "pygments_lexer": "ipython3",
   "version": "3.10.9"
  }
 },
 "nbformat": 4,
 "nbformat_minor": 5
}
