{
 "cells": [
  {
   "cell_type": "code",
   "execution_count": 25,
   "id": "90522417-7514-4170-99d6-e870968a6052",
   "metadata": {
    "execution": {
     "iopub.execute_input": "2023-05-03T17:59:00.273407Z",
     "iopub.status.busy": "2023-05-03T17:59:00.272818Z",
     "iopub.status.idle": "2023-05-03T17:59:00.616082Z",
     "shell.execute_reply": "2023-05-03T17:59:00.615399Z",
     "shell.execute_reply.started": "2023-05-03T17:59:00.273347Z"
    },
    "tags": []
   },
   "outputs": [],
   "source": [
    "import sys\n",
    "import numpy as np\n",
    "sys.path.append(\"/SNS/users/imeliamb/git/machine_learning/src\")\n",
    "import importlib\n",
    "import models\n",
    "import os\n",
    "import matplotlib\n",
    "import matplotlib.pyplot as plt"
   ]
  },
  {
   "cell_type": "code",
   "execution_count": 42,
   "id": "24778278-be62-44c5-a4e0-40a1f08d3ed8",
   "metadata": {
    "execution": {
     "iopub.execute_input": "2023-05-03T18:19:03.088512Z",
     "iopub.status.busy": "2023-05-03T18:19:03.087917Z",
     "iopub.status.idle": "2023-05-03T18:19:03.462966Z",
     "shell.execute_reply": "2023-05-03T18:19:03.462112Z",
     "shell.execute_reply.started": "2023-05-03T18:19:03.088466Z"
    },
    "tags": []
   },
   "outputs": [
    {
     "name": "stdout",
     "output_type": "stream",
     "text": [
      "(1000000,)\n",
      "(1000000, 100)\n",
      "(100,)\n"
     ]
    }
   ],
   "source": [
    "data_dir = os.path.expanduser(\"~m2d/git/analysis_playground/ml/data/training_data\")\n",
    "\n",
    "pars = np.load(os.path.join(data_dir, \"orhs_pars.npy\"))[:1000000]\n",
    "refl = np.load(os.path.join(data_dir, \"orhs_data.npy\"))[:1000000]\n",
    "q_values = np.load(os.path.join(data_dir, \"orhs_q_values.npy\"))\n",
    "\n",
    "print(pars.shape)\n",
    "print(refl.shape)\n",
    "print(q_values.shape)\n",
    "\n",
    "#refl = np.power(10, refl)/q_values**2*q_values[0]**2\n",
    "\n",
    "idx = 0\n",
    "\n",
    "refl= np.asarray(refl[:-nset])\n",
    "pars= np.asarray (pars[:-nset])\n",
    "\n",
    "testset= np.asarray(refl[-nset:])\n",
    "testsetout= np.asarray (pars[-nset:])\n",
    "    "
   ]
  },
  {
   "cell_type": "code",
   "execution_count": 52,
   "id": "42a695b9-d937-4c3a-9f09-ca8583538e48",
   "metadata": {
    "execution": {
     "iopub.execute_input": "2023-05-03T18:36:12.388256Z",
     "iopub.status.busy": "2023-05-03T18:36:12.387667Z",
     "iopub.status.idle": "2023-05-03T18:46:44.249929Z",
     "shell.execute_reply": "2023-05-03T18:46:44.249038Z",
     "shell.execute_reply.started": "2023-05-03T18:36:12.388207Z"
    },
    "tags": []
   },
   "outputs": [
    {
     "name": "stdout",
     "output_type": "stream",
     "text": [
      "Auto-encoder ready\n",
      "Epoch 1/20\n",
      "3903/3903 [==============================] - 32s 8ms/step - loss: 0.0561 - val_loss: 0.0145\n",
      "Epoch 2/20\n",
      "3903/3903 [==============================] - 31s 8ms/step - loss: 0.0102 - val_loss: 0.0080\n",
      "Epoch 3/20\n",
      "3903/3903 [==============================] - 31s 8ms/step - loss: 0.0080 - val_loss: 0.0067\n",
      "Epoch 4/20\n",
      "3903/3903 [==============================] - 32s 8ms/step - loss: 0.0067 - val_loss: 0.0067\n",
      "Epoch 5/20\n",
      "3903/3903 [==============================] - 31s 8ms/step - loss: 0.0060 - val_loss: 0.0051\n",
      "Epoch 6/20\n",
      "3903/3903 [==============================] - 32s 8ms/step - loss: 0.0055 - val_loss: 0.0051\n",
      "Epoch 7/20\n",
      "3903/3903 [==============================] - 31s 8ms/step - loss: 0.0051 - val_loss: 0.0047\n",
      "Epoch 8/20\n",
      "3903/3903 [==============================] - 31s 8ms/step - loss: 0.0047 - val_loss: 0.0041\n",
      "Epoch 9/20\n",
      "3903/3903 [==============================] - 31s 8ms/step - loss: 0.0044 - val_loss: 0.0039\n",
      "Epoch 10/20\n",
      "3903/3903 [==============================] - 32s 8ms/step - loss: 0.0041 - val_loss: 0.0039\n",
      "Epoch 11/20\n",
      "3903/3903 [==============================] - 32s 8ms/step - loss: 0.0039 - val_loss: 0.0040\n",
      "Epoch 12/20\n",
      "3903/3903 [==============================] - 31s 8ms/step - loss: 0.0037 - val_loss: 0.0034\n",
      "Epoch 13/20\n",
      "3903/3903 [==============================] - 31s 8ms/step - loss: 0.0036 - val_loss: 0.0040\n",
      "Epoch 14/20\n",
      "3903/3903 [==============================] - 31s 8ms/step - loss: 0.0034 - val_loss: 0.0033\n",
      "Epoch 15/20\n",
      "3903/3903 [==============================] - 31s 8ms/step - loss: 0.0033 - val_loss: 0.0033\n",
      "Epoch 16/20\n",
      "3903/3903 [==============================] - 32s 8ms/step - loss: 0.0032 - val_loss: 0.0030\n",
      "Epoch 17/20\n",
      "3903/3903 [==============================] - 32s 8ms/step - loss: 0.0031 - val_loss: 0.0029\n",
      "Epoch 18/20\n",
      "3903/3903 [==============================] - 31s 8ms/step - loss: 0.0030 - val_loss: 0.0029\n",
      "Epoch 19/20\n",
      "3903/3903 [==============================] - 32s 8ms/step - loss: 0.0030 - val_loss: 0.0028\n",
      "Epoch 20/20\n",
      "3903/3903 [==============================] - 32s 8ms/step - loss: 0.0029 - val_loss: 0.0031\n"
     ]
    },
    {
     "ename": "AttributeError",
     "evalue": "module 'models' has no attribute 'save'",
     "output_type": "error",
     "traceback": [
      "\u001b[0;31m---------------------------------------------------------------------------\u001b[0m",
      "\u001b[0;31mAttributeError\u001b[0m                            Traceback (most recent call last)",
      "Cell \u001b[0;32mIn[52], line 11\u001b[0m\n\u001b[1;32m      7\u001b[0m ae_model, encoder, decoder \u001b[38;5;241m=\u001b[39mmodels\u001b[38;5;241m.\u001b[39mauto_encoder(n_data, n_features, n_outputs)\n\u001b[1;32m      8\u001b[0m history \u001b[38;5;241m=\u001b[39m ae_model\u001b[38;5;241m.\u001b[39mfit(refl, refl,\n\u001b[1;32m      9\u001b[0m                         epochs\u001b[38;5;241m=\u001b[39m\u001b[38;5;241m20\u001b[39m, batch_size\u001b[38;5;241m=\u001b[39m\u001b[38;5;241m256\u001b[39m,\n\u001b[1;32m     10\u001b[0m                         validation_data\u001b[38;5;241m=\u001b[39m(testset, testset))\n\u001b[0;32m---> 11\u001b[0m \u001b[43mmodels\u001b[49m\u001b[38;5;241;43m.\u001b[39;49m\u001b[43msave\u001b[49m(ae_model, encoder, decoder, \u001b[38;5;124m\"\u001b[39m\u001b[38;5;124m/SNS/users/imeliamb/git/machine_learning/data\u001b[39m\u001b[38;5;124m\"\u001b[39m)\n",
      "\u001b[0;31mAttributeError\u001b[0m: module 'models' has no attribute 'save'"
     ]
    }
   ],
   "source": [
    "import importlib\n",
    "importlib.reload(models)\n",
    "n_data = refl.shape[0]\n",
    "n_features = refl.shape[1]\n",
    "n_outputs = 10\n",
    "\n",
    "ae_model, encoder, decoder =models.auto_encoder(n_data, n_features, n_outputs)\n",
    "history = ae_model.fit(refl, refl,\n",
    "                        epochs=20, batch_size=256,\n",
    "                        validation_data=(testset, testset))\n",
    "models.save(ae_model, encoder, decoder, \"/SNS/users/imeliamb/git/machine_learning/data\")"
   ]
  },
  {
   "cell_type": "code",
   "execution_count": 47,
   "id": "8f0616c9-7964-429f-a80a-0e9f8dd2bb56",
   "metadata": {
    "execution": {
     "iopub.execute_input": "2023-05-03T18:34:11.507675Z",
     "iopub.status.busy": "2023-05-03T18:34:11.507095Z",
     "iopub.status.idle": "2023-05-03T18:34:11.651995Z",
     "shell.execute_reply": "2023-05-03T18:34:11.650893Z",
     "shell.execute_reply.started": "2023-05-03T18:34:11.507630Z"
    },
    "tags": []
   },
   "outputs": [],
   "source": [
    "importlib.reload(models)\n",
    "models.save_model(ae_model, encoder, decoder, \"/SNS/users/imeliamb/data/ml\")"
   ]
  },
  {
   "cell_type": "code",
   "execution_count": 48,
   "id": "a884764c-1812-4d09-83cd-47e81228bc37",
   "metadata": {
    "execution": {
     "iopub.execute_input": "2023-05-03T18:34:30.515524Z",
     "iopub.status.busy": "2023-05-03T18:34:30.514944Z",
     "iopub.status.idle": "2023-05-03T18:34:31.116343Z",
     "shell.execute_reply": "2023-05-03T18:34:31.115432Z",
     "shell.execute_reply.started": "2023-05-03T18:34:30.515477Z"
    },
    "tags": []
   },
   "outputs": [
    {
     "name": "stdout",
     "output_type": "stream",
     "text": [
      "32/32 [==============================] - 0s 5ms/step\n",
      "32/32 [==============================] - 0s 3ms/step\n",
      "(1000, 100)\n",
      "(1000, 4)\n"
     ]
    }
   ],
   "source": [
    "y_pred = ae_model.predict(testset)\n",
    "latent_space = encoder.predict(testset)\n",
    "print(y_pred.shape)\n",
    "print(latent_space.shape)\n",
    "idx=0"
   ]
  },
  {
   "cell_type": "code",
   "execution_count": 50,
   "id": "5da3b97f-2bf7-464a-9af8-5cea4748cc74",
   "metadata": {
    "execution": {
     "iopub.execute_input": "2023-05-03T18:34:42.459485Z",
     "iopub.status.busy": "2023-05-03T18:34:42.458904Z",
     "iopub.status.idle": "2023-05-03T18:34:42.674641Z",
     "shell.execute_reply": "2023-05-03T18:34:42.673929Z",
     "shell.execute_reply.started": "2023-05-03T18:34:42.459438Z"
    },
    "tags": []
   },
   "outputs": [
    {
     "data": {
      "image/png": "[encoded data removed]",
      "text/plain": [
       "<Figure size 800x400 with 1 Axes>"
      ]
     },
     "metadata": {},
     "output_type": "display_data"
    }
   ],
   "source": [
    "fig=plt.figure(dpi=100, figsize=[8,4])\n",
    "plt.plot(q_values, testset[idx], marker='.', linestyle='', label='truth')\n",
    "plt.plot(q_values, y_pred[idx], marker='.', linestyle='-', label='prediction')\n",
    "\n",
    "plt.legend()\n",
    "plt.show()\n",
    "\n",
    "idx=idx+1"
   ]
  },
  {
   "cell_type": "code",
   "execution_count": 51,
   "id": "28acca52-4041-4994-a3db-bd936d419a45",
   "metadata": {
    "execution": {
     "iopub.execute_input": "2023-05-03T18:34:46.094565Z",
     "iopub.status.busy": "2023-05-03T18:34:46.094024Z",
     "iopub.status.idle": "2023-05-03T18:34:48.961086Z",
     "shell.execute_reply": "2023-05-03T18:34:48.960051Z",
     "shell.execute_reply.started": "2023-05-03T18:34:46.094518Z"
    },
    "tags": []
   },
   "outputs": [],
   "source": [
    "from sklearn.manifold import TSNE\n",
    "tsne1 = TSNE(n_components=2, learning_rate='auto', init='random').fit_transform(latent_space).T\n"
   ]
  },
  {
   "cell_type": "code",
   "execution_count": 34,
   "id": "0d3eb2f3-6846-4deb-b17b-9a073ad21d7a",
   "metadata": {
    "execution": {
     "iopub.execute_input": "2023-05-03T18:11:53.930513Z",
     "iopub.status.busy": "2023-05-03T18:11:53.929968Z",
     "iopub.status.idle": "2023-05-03T18:11:54.109763Z",
     "shell.execute_reply": "2023-05-03T18:11:54.108954Z",
     "shell.execute_reply.started": "2023-05-03T18:11:53.930463Z"
    },
    "tags": []
   },
   "outputs": [
    {
     "name": "stdout",
     "output_type": "stream",
     "text": [
      "(2, 1000)\n"
     ]
    },
    {
     "data": {
      "image/png": "[encoded data removed]",
      "text/plain": [
       "<Figure size 640x480 with 1 Axes>"
      ]
     },
     "metadata": {},
     "output_type": "display_data"
    }
   ],
   "source": [
    "print(tsne1.shape)\n",
    "fig = plt.figure()\n",
    "plt.scatter(tsne1[0], tsne1[1], c='green', s=1)\n",
    "plt.show()"
   ]
  },
  {
   "cell_type": "code",
   "execution_count": null,
   "id": "4e0d81fd-7d79-430c-b56f-88c1b00c1f24",
   "metadata": {},
   "outputs": [],
   "source": []
  }
 ],
 "metadata": {
  "kernelspec": {
   "display_name": "tensorflow",
   "language": "",
   "name": "tensorflow"
  },
  "language_info": {
   "codemirror_mode": {
    "name": "ipython",
    "version": 3
   },
   "file_extension": ".py",
   "mimetype": "text/x-python",
   "name": "python",
   "nbconvert_exporter": "python",
   "pygments_lexer": "ipython3",
   "version": "3.10.9"
  }
 },
 "nbformat": 4,
 "nbformat_minor": 5
}
