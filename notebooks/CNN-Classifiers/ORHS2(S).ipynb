{
 "cells": [
  {
   "cell_type": "code",
   "execution_count": 16,
   "id": "f968928a",
   "metadata": {
    "execution": {
     "iopub.execute_input": "2023-06-22T19:04:02.004051Z",
     "iopub.status.busy": "2023-06-22T19:04:02.003701Z",
     "iopub.status.idle": "2023-06-22T19:04:02.007262Z",
     "shell.execute_reply": "2023-06-22T19:04:02.006860Z",
     "shell.execute_reply.started": "2023-06-22T19:04:02.004033Z"
    },
    "tags": []
   },
   "outputs": [],
   "source": [
    "import sys\n",
    "import numpy as np\n",
    "import os\n",
    "sys.path.append(os.path.expanduser(\"~/git/machine_learning/src\"))\n",
    "import importlib\n",
    "import models\n",
    "import matplotlib\n",
    "import matplotlib.pyplot as plt\n",
    "import tensorflow as tf\n",
    "sys.path.insert(0,os.path.expanduser(\"~/git/machine_learning/src\"))"
   ]
  },
  {
   "cell_type": "code",
   "execution_count": 17,
   "id": "34daa1ad",
   "metadata": {
    "execution": {
     "iopub.execute_input": "2023-06-22T19:04:02.985207Z",
     "iopub.status.busy": "2023-06-22T19:04:02.984858Z",
     "iopub.status.idle": "2023-06-22T19:04:03.935078Z",
     "shell.execute_reply": "2023-06-22T19:04:03.934448Z",
     "shell.execute_reply.started": "2023-06-22T19:04:02.985191Z"
    },
    "tags": []
   },
   "outputs": [
    {
     "name": "stdout",
     "output_type": "stream",
     "text": [
      "(3000000,)\n",
      "(3000000, 100)\n",
      "(100,)\n"
     ]
    }
   ],
   "source": [
    "data_dir = os.path.expanduser(\"~m2d/git/analysis_playground/ml/data/training_data\")\n",
    "\n",
    "pars = np.load(os.path.join(data_dir, \"orhs2_pars.npy\"))\n",
    "refl = np.load(os.path.join(data_dir, \"orhs2_data.npy\"))\n",
    "q_values = np.load(os.path.join(data_dir, \"orhs_q_values.npy\"))\n",
    "\n",
    "print(pars.shape)\n",
    "print(refl.shape)\n",
    "print(q_values.shape)\n",
    "\n",
    "idx = 0\n",
    "nset=1000000"
   ]
  },
  {
   "cell_type": "code",
   "execution_count": 24,
   "id": "d675268d-2bd0-4f70-8002-7304df05ce8b",
   "metadata": {
    "execution": {
     "iopub.execute_input": "2023-06-22T19:08:05.669398Z",
     "iopub.status.busy": "2023-06-22T19:08:05.669060Z",
     "iopub.status.idle": "2023-06-22T19:08:05.672262Z",
     "shell.execute_reply": "2023-06-22T19:08:05.671788Z",
     "shell.execute_reply.started": "2023-06-22T19:08:05.669381Z"
    },
    "tags": []
   },
   "outputs": [],
   "source": [
    "\n",
    "\n",
    "testset= np.asarray(refl[-nset:])\n",
    "testsetout= np.asarray(pars[-nset:])\n",
    "testpars = np.asarray (pars[-nset:])\n"
   ]
  },
  {
   "cell_type": "code",
   "execution_count": null,
   "id": "e99aa3a2-69e7-4a8a-b49d-b26f391d38a2",
   "metadata": {},
   "outputs": [],
   "source": []
  },
  {
   "cell_type": "code",
   "execution_count": 9,
   "id": "d5b086b5",
   "metadata": {
    "execution": {
     "iopub.execute_input": "2023-06-21T19:11:55.995415Z",
     "iopub.status.busy": "2023-06-21T19:11:55.995179Z",
     "iopub.status.idle": "2023-06-21T20:24:00.374295Z",
     "shell.execute_reply": "2023-06-21T20:24:00.373090Z",
     "shell.execute_reply.started": "2023-06-21T19:11:55.995402Z"
    },
    "tags": []
   },
   "outputs": [
    {
     "name": "stderr",
     "output_type": "stream",
     "text": [
      "2023-06-21 15:11:56.017087: I tensorflow/core/common_runtime/process_util.cc:146] Creating new thread pool with default inter op setting: 2. Tune using inter_op_parallelism_threads for best performance.\n"
     ]
    },
    {
     "name": "stdout",
     "output_type": "stream",
     "text": [
      "Epoch 1/20\n",
      "1460/1460 [==============================] - 204s 139ms/step - loss: 0.1639 - val_loss: 0.1365\n",
      "Epoch 2/20\n",
      "1460/1460 [==============================] - 199s 137ms/step - loss: 0.1221 - val_loss: 0.1126\n",
      "Epoch 3/20\n",
      "1460/1460 [==============================] - 199s 136ms/step - loss: 0.1051 - val_loss: 0.1006\n",
      "Epoch 4/20\n",
      "1460/1460 [==============================] - 200s 137ms/step - loss: 0.0958 - val_loss: 0.0908\n",
      "Epoch 5/20\n",
      "1460/1460 [==============================] - 194s 133ms/step - loss: 0.0901 - val_loss: 0.0916\n",
      "Epoch 6/20\n",
      "1460/1460 [==============================] - 198s 135ms/step - loss: 0.0863 - val_loss: 0.0906\n",
      "Epoch 7/20\n",
      "1460/1460 [==============================] - 213s 146ms/step - loss: 0.0833 - val_loss: 0.0809\n",
      "Epoch 8/20\n",
      "1460/1460 [==============================] - 217s 149ms/step - loss: 0.0809 - val_loss: 0.0813\n",
      "Epoch 9/20\n",
      "1460/1460 [==============================] - 208s 142ms/step - loss: 0.0784 - val_loss: 0.0797\n",
      "Epoch 10/20\n",
      "1460/1460 [==============================] - 216s 148ms/step - loss: 0.0765 - val_loss: 0.0747\n",
      "Epoch 11/20\n",
      "1460/1460 [==============================] - 214s 146ms/step - loss: 0.0746 - val_loss: 0.0735\n",
      "Epoch 12/20\n",
      "1460/1460 [==============================] - 211s 145ms/step - loss: 0.0727 - val_loss: 0.0772\n",
      "Epoch 13/20\n",
      "1460/1460 [==============================] - 209s 143ms/step - loss: 0.0712 - val_loss: 0.0751\n",
      "Epoch 14/20\n",
      "1460/1460 [==============================] - 199s 136ms/step - loss: 0.0699 - val_loss: 0.0696\n",
      "Epoch 15/20\n",
      "1460/1460 [==============================] - 239s 164ms/step - loss: 0.0686 - val_loss: 0.0704\n",
      "Epoch 16/20\n",
      "1460/1460 [==============================] - 351s 241ms/step - loss: 0.0674 - val_loss: 0.0689\n",
      "Epoch 17/20\n",
      "1460/1460 [==============================] - 246s 169ms/step - loss: 0.0665 - val_loss: 0.0655\n",
      "Epoch 18/20\n",
      "1460/1460 [==============================] - 208s 143ms/step - loss: 0.0651 - val_loss: 0.0704\n",
      "Epoch 19/20\n",
      "1460/1460 [==============================] - 199s 137ms/step - loss: 0.0644 - val_loss: 0.0643\n",
      "Epoch 20/20\n",
      "1460/1460 [==============================] - 198s 135ms/step - loss: 0.0634 - val_loss: 0.0666\n"
     ]
    }
   ],
   "source": [
    "import importlib\n",
    "importlib.reload(models)\n",
    "n_data = refl.shape[0]\n",
    "n_features = refl.shape[1]\n",
    "n_outputs = 1\n",
    "\n",
    "encoder=models.cnn_encoder(n_data, n_features, n_outputs)\n",
    "encoder.compile(loss='mean_squared_error', optimizer=tf.keras.optimizers.Adam())\n",
    "history = encoder.fit(refl, pars,\n",
    "                        epochs=20, batch_size=2056,\n",
    "                        validation_data=(testset, testsetout))"
   ]
  },
  {
   "cell_type": "code",
   "execution_count": 34,
   "id": "aff8a673-ad3f-4375-acd3-24da8d37be90",
   "metadata": {
    "execution": {
     "iopub.execute_input": "2023-06-23T20:05:19.179488Z",
     "iopub.status.busy": "2023-06-23T20:05:19.179214Z",
     "iopub.status.idle": "2023-06-23T20:05:19.223428Z",
     "shell.execute_reply": "2023-06-23T20:05:19.222987Z",
     "shell.execute_reply.started": "2023-06-23T20:05:19.179468Z"
    },
    "tags": []
   },
   "outputs": [],
   "source": [
    "importlib.reload(models)\n",
    "data_dir = os.path.expanduser(\"~/git/machine_learning/data\")\n",
    "models.save_model(encoder, \"layeronecnn\", data_dir)"
   ]
  },
  {
   "cell_type": "code",
   "execution_count": 35,
   "id": "6827cdd8-e88f-4764-b89b-a39b4a352a4b",
   "metadata": {
    "execution": {
     "iopub.execute_input": "2023-06-23T20:05:30.110364Z",
     "iopub.status.busy": "2023-06-23T20:05:30.110105Z",
     "iopub.status.idle": "2023-06-23T20:05:30.113902Z",
     "shell.execute_reply": "2023-06-23T20:05:30.113521Z",
     "shell.execute_reply.started": "2023-06-23T20:05:30.110351Z"
    },
    "tags": []
   },
   "outputs": [
    {
     "data": {
      "text/plain": [
       "<module 'models' from '/SNS/users/vogtdan000/git/machine_learning/src/models.py'>"
      ]
     },
     "execution_count": 35,
     "metadata": {},
     "output_type": "execute_result"
    }
   ],
   "source": [
    "importlib.reload(models)"
   ]
  },
  {
   "cell_type": "code",
   "execution_count": 36,
   "id": "0fee110a-39c5-4fe0-8803-ac1b4ae3c55d",
   "metadata": {
    "execution": {
     "iopub.execute_input": "2023-06-23T20:05:31.048411Z",
     "iopub.status.busy": "2023-06-23T20:05:31.048157Z",
     "iopub.status.idle": "2023-06-23T20:05:31.097760Z",
     "shell.execute_reply": "2023-06-23T20:05:31.097320Z",
     "shell.execute_reply.started": "2023-06-23T20:05:31.048397Z"
    },
    "tags": []
   },
   "outputs": [],
   "source": [
    "model=models.load_model(\"layeronecnn\", data_dir)\n",
    "idx=0"
   ]
  },
  {
   "cell_type": "code",
   "execution_count": 37,
   "id": "159d4434-4e54-4f46-95e6-544089a17f86",
   "metadata": {
    "execution": {
     "iopub.execute_input": "2023-06-23T20:05:32.472515Z",
     "iopub.status.busy": "2023-06-23T20:05:32.472232Z",
     "iopub.status.idle": "2023-06-23T20:05:33.379853Z",
     "shell.execute_reply": "2023-06-23T20:05:33.379091Z",
     "shell.execute_reply.started": "2023-06-23T20:05:32.472500Z"
    },
    "tags": []
   },
   "outputs": [
    {
     "name": "stdout",
     "output_type": "stream",
     "text": [
      "32/32 [==============================] - 1s 26ms/step\n"
     ]
    }
   ],
   "source": [
    "preds=model.predict(testset[-1000:])\n"
   ]
  },
  {
   "cell_type": "code",
   "execution_count": 38,
   "id": "41e08421-99de-4548-bb4f-39e99fcb227b",
   "metadata": {
    "execution": {
     "iopub.execute_input": "2023-06-23T20:05:36.869230Z",
     "iopub.status.busy": "2023-06-23T20:05:36.868965Z",
     "iopub.status.idle": "2023-06-23T20:05:36.895942Z",
     "shell.execute_reply": "2023-06-23T20:05:36.895535Z",
     "shell.execute_reply.started": "2023-06-23T20:05:36.869215Z"
    },
    "tags": []
   },
   "outputs": [
    {
     "name": "stdout",
     "output_type": "stream",
     "text": [
      "[0, 487, 11, 0]\n",
      "Layer Accuracy : 0.977912\n",
      "[0, 65, 437, 0]\n",
      "Layer Accuracy : 0.870518\n",
      "[0, 0, 0, 0]\n",
      "Layer Accuracy : nan\n",
      "[0, 0, 0, 0]\n",
      "Layer Accuracy : nan\n",
      "Accuracy: 0.924\n"
     ]
    }
   ],
   "source": [
    "_preds = [np.around(p) for p in preds]\n",
    "models.accuracy(testpars[-1000:], _preds)"
   ]
  },
  {
   "cell_type": "code",
   "execution_count": null,
   "id": "27b9065e-04c9-4791-9e7f-b8ea56f51f20",
   "metadata": {},
   "outputs": [],
   "source": []
  }
 ],
 "metadata": {
  "kernelspec": {
   "display_name": "tensorflow",
   "language": "",
   "name": "tensorflow"
  },
  "language_info": {
   "codemirror_mode": {
    "name": "ipython",
    "version": 3
   },
   "file_extension": ".py",
   "mimetype": "text/x-python",
   "name": "python",
   "nbconvert_exporter": "python",
   "pygments_lexer": "ipython3",
   "version": "3.11.4"
  }
 },
 "nbformat": 4,
 "nbformat_minor": 5
}
