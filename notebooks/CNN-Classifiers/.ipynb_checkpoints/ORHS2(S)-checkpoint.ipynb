{
 "cells": [
  {
   "cell_type": "code",
   "execution_count": 2,
   "id": "f968928a",
   "metadata": {
    "execution": {
     "iopub.execute_input": "2023-06-12T15:08:36.588049Z",
     "iopub.status.busy": "2023-06-12T15:08:36.587825Z",
     "iopub.status.idle": "2023-06-12T15:08:38.525234Z",
     "shell.execute_reply": "2023-06-12T15:08:38.524640Z",
     "shell.execute_reply.started": "2023-06-12T15:08:36.588033Z"
    },
    "tags": []
   },
   "outputs": [
    {
     "name": "stderr",
     "output_type": "stream",
     "text": [
      "2023-06-12 11:08:36.862698: I tensorflow/core/platform/cpu_feature_guard.cc:182] This TensorFlow binary is optimized to use available CPU instructions in performance-critical operations.\n",
      "To enable the following instructions: SSE4.1 SSE4.2 AVX AVX2 AVX512F AVX512_VNNI FMA, in other operations, rebuild TensorFlow with the appropriate compiler flags.\n"
     ]
    }
   ],
   "source": [
    "import sys\n",
    "import numpy as np\n",
    "sys.path.append(\"/SNS/users/m2d/git/machine_learning/src\")\n",
    "import importlib\n",
    "import models\n",
    "import os\n",
    "import matplotlib\n",
    "import matplotlib.pyplot as plt\n",
    "import tensorflow as tf"
   ]
  },
  {
   "cell_type": "code",
   "execution_count": 3,
   "id": "34daa1ad",
   "metadata": {
    "execution": {
     "iopub.execute_input": "2023-06-12T15:08:38.526482Z",
     "iopub.status.busy": "2023-06-12T15:08:38.526175Z",
     "iopub.status.idle": "2023-06-12T15:08:38.859456Z",
     "shell.execute_reply": "2023-06-12T15:08:38.858903Z",
     "shell.execute_reply.started": "2023-06-12T15:08:38.526466Z"
    },
    "tags": []
   },
   "outputs": [
    {
     "name": "stdout",
     "output_type": "stream",
     "text": [
      "(1000000,)\n",
      "(1000000, 100)\n",
      "(100,)\n"
     ]
    }
   ],
   "source": [
    "data_dir = os.path.expanduser(\"~m2d/git/analysis_playground/ml/data/training_data\")\n",
    "\n",
    "pars = np.load(os.path.join(data_dir, \"orhs_pars.npy\"))[:1000000]\n",
    "refl = np.load(os.path.join(data_dir, \"orhs_data.npy\"))[:1000000]\n",
    "q_values = np.load(os.path.join(data_dir, \"orhs_q_values.npy\"))\n",
    "\n",
    "print(pars.shape)\n",
    "print(refl.shape)\n",
    "print(q_values.shape)\n",
    "\n",
    "idx = 0\n",
    "nset=10000"
   ]
  },
  {
   "cell_type": "code",
   "execution_count": 4,
   "id": "d65131fc-b2db-4c12-b4b8-281d312d7561",
   "metadata": {
    "execution": {
     "iopub.execute_input": "2023-06-12T15:08:38.860326Z",
     "iopub.status.busy": "2023-06-12T15:08:38.860126Z",
     "iopub.status.idle": "2023-06-12T15:08:39.882203Z",
     "shell.execute_reply": "2023-06-12T15:08:39.881465Z",
     "shell.execute_reply.started": "2023-06-12T15:08:38.860312Z"
    },
    "tags": []
   },
   "outputs": [],
   "source": [
    "onelayerpars=[]\n",
    "onelayerrefl=[]\n",
    "twolayerpars=[]\n",
    "twolayerrefl=[]\n",
    "for i in range( len(pars)-1):\n",
    "    if pars[i]==0:\n",
    "        onelayerpars.append(pars[i])\n",
    "        onelayerrefl.append(refl[i])\n",
    "    else:\n",
    "        twolayerpars.append(pars[i])\n",
    "        twolayerrefl.append(refl[i])\n",
    "onepars=np.asarray(onelayerpars)\n",
    "onerefl=np.asarray(onelayerrefl)\n",
    "twopars=np.asarray(twolayerpars)\n",
    "tworefl=np.asarray(twolayerrefl)"
   ]
  },
  {
   "cell_type": "code",
   "execution_count": 5,
   "id": "7d34c3c8-df7c-4de4-8ebd-ff8250a18a0c",
   "metadata": {
    "execution": {
     "iopub.execute_input": "2023-06-12T15:08:42.125833Z",
     "iopub.status.busy": "2023-06-12T15:08:42.125596Z",
     "iopub.status.idle": "2023-06-12T15:08:42.129611Z",
     "shell.execute_reply": "2023-06-12T15:08:42.129166Z",
     "shell.execute_reply.started": "2023-06-12T15:08:42.125815Z"
    },
    "tags": []
   },
   "outputs": [],
   "source": [
    "refl= onerefl[:-nset]\n",
    "pars=onepars[:-nset]\n",
    "\n",
    "testset= np.asarray(onerefl[-nset:])\n",
    "testsetout= np.asarray(onepars[-nset:])\n",
    "testpars = np.asarray (onepars[-nset:])"
   ]
  },
  {
   "cell_type": "code",
   "execution_count": 7,
   "id": "d5b086b5",
   "metadata": {
    "execution": {
     "iopub.execute_input": "2023-06-12T15:09:02.921111Z",
     "iopub.status.busy": "2023-06-12T15:09:02.920781Z",
     "iopub.status.idle": "2023-06-12T15:21:08.409817Z",
     "shell.execute_reply": "2023-06-12T15:21:08.408917Z",
     "shell.execute_reply.started": "2023-06-12T15:09:02.921096Z"
    },
    "tags": []
   },
   "outputs": [
    {
     "name": "stdout",
     "output_type": "stream",
     "text": [
      "Epoch 1/20\n",
      "239/239 [==============================] - 37s 153ms/step - loss: 0.0024 - val_loss: 5.4054e-06\n",
      "Epoch 2/20\n",
      "239/239 [==============================] - 36s 151ms/step - loss: 4.2509e-06 - val_loss: 3.5995e-06\n",
      "Epoch 3/20\n",
      "239/239 [==============================] - 36s 151ms/step - loss: 3.1088e-06 - val_loss: 2.7681e-06\n",
      "Epoch 4/20\n",
      "239/239 [==============================] - 38s 161ms/step - loss: 2.6125e-06 - val_loss: 2.1757e-06\n",
      "Epoch 5/20\n",
      "239/239 [==============================] - 36s 152ms/step - loss: 2.2424e-06 - val_loss: 1.8715e-06\n",
      "Epoch 6/20\n",
      "239/239 [==============================] - 35s 148ms/step - loss: 2.0679e-06 - val_loss: 2.0623e-06\n",
      "Epoch 7/20\n",
      "239/239 [==============================] - 37s 153ms/step - loss: 1.8725e-06 - val_loss: 2.2171e-06\n",
      "Epoch 8/20\n",
      "239/239 [==============================] - 35s 145ms/step - loss: 2.0092e-06 - val_loss: 1.7643e-06\n",
      "Epoch 9/20\n",
      "239/239 [==============================] - 34s 144ms/step - loss: 1.9448e-06 - val_loss: 2.9117e-06\n",
      "Epoch 10/20\n",
      "239/239 [==============================] - 36s 149ms/step - loss: 2.0963e-06 - val_loss: 1.4349e-06\n",
      "Epoch 11/20\n",
      "239/239 [==============================] - 36s 151ms/step - loss: 2.6150e-06 - val_loss: 2.5508e-06\n",
      "Epoch 12/20\n",
      "239/239 [==============================] - 35s 146ms/step - loss: 2.1110e-06 - val_loss: 1.3449e-06\n",
      "Epoch 13/20\n",
      "239/239 [==============================] - 36s 151ms/step - loss: 4.8613e-05 - val_loss: 1.8614e-06\n",
      "Epoch 14/20\n",
      "239/239 [==============================] - 38s 161ms/step - loss: 1.1101e-06 - val_loss: 6.4703e-07\n",
      "Epoch 15/20\n",
      "239/239 [==============================] - 38s 158ms/step - loss: 3.8416e-07 - val_loss: 1.5664e-07\n",
      "Epoch 16/20\n",
      "239/239 [==============================] - 36s 149ms/step - loss: 1.1097e-07 - val_loss: 8.3128e-08\n",
      "Epoch 17/20\n",
      "239/239 [==============================] - 36s 150ms/step - loss: 6.9062e-08 - val_loss: 5.7064e-08\n",
      "Epoch 18/20\n",
      "239/239 [==============================] - 37s 154ms/step - loss: 4.9162e-08 - val_loss: 4.1570e-08\n",
      "Epoch 19/20\n",
      "239/239 [==============================] - 37s 153ms/step - loss: 3.7552e-08 - val_loss: 3.2627e-08\n",
      "Epoch 20/20\n",
      "239/239 [==============================] - 36s 152ms/step - loss: 3.0361e-08 - val_loss: 2.6804e-08\n"
     ]
    }
   ],
   "source": [
    "import importlib\n",
    "importlib.reload(models)\n",
    "n_data = refl.shape[0]\n",
    "n_features = refl.shape[1]\n",
    "n_outputs = 3\n",
    "\n",
    "encoder=models.cnn_encoder(n_data, n_features, n_outputs)\n",
    "encoder.compile(loss='mean_squared_error', optimizer=tf.keras.optimizers.Adam())\n",
    "history = encoder.fit(refl, pars,\n",
    "                        epochs=20, batch_size=2056,\n",
    "                        validation_data=(testset, testsetout))"
   ]
  },
  {
   "cell_type": "code",
   "execution_count": null,
   "id": "aff8a673-ad3f-4375-acd3-24da8d37be90",
   "metadata": {},
   "outputs": [],
   "source": [
    "models.save_model("
   ]
  }
 ],
 "metadata": {
  "kernelspec": {
   "display_name": "tensorflow",
   "language": "",
   "name": "tensorflow"
  },
  "language_info": {
   "codemirror_mode": {
    "name": "ipython",
    "version": 3
   },
   "file_extension": ".py",
   "mimetype": "text/x-python",
   "name": "python",
   "nbconvert_exporter": "python",
   "pygments_lexer": "ipython3",
   "version": "3.11.0"
  }
 },
 "nbformat": 4,
 "nbformat_minor": 5
}
