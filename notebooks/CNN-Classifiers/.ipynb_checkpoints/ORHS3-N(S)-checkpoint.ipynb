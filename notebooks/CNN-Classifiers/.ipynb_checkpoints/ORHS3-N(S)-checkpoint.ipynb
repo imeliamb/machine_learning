{
 "cells": [
  {
   "cell_type": "code",
   "execution_count": 8,
   "id": "f968928a",
   "metadata": {
    "execution": {
     "iopub.execute_input": "2023-06-16T21:40:39.035678Z",
     "iopub.status.busy": "2023-06-16T21:40:39.035287Z",
     "iopub.status.idle": "2023-06-16T21:40:39.039229Z",
     "shell.execute_reply": "2023-06-16T21:40:39.038736Z",
     "shell.execute_reply.started": "2023-06-16T21:40:39.035648Z"
    },
    "tags": []
   },
   "outputs": [],
   "source": [
    "import sys\n",
    "import numpy as np\n",
    "import os\n",
    "sys.path.append(os.path.expanduser(\"~/git/machine_learning/src\"))\n",
    "import importlib\n",
    "import models\n",
    "import matplotlib\n",
    "import matplotlib.pyplot as plt\n",
    "import tensorflow as tf\n",
    "sys.path.insert(0,os.path.expanduser(\"~/git/machine_learning/src\"))"
   ]
  },
  {
   "cell_type": "code",
   "execution_count": 9,
   "id": "34daa1ad",
   "metadata": {
    "execution": {
     "iopub.execute_input": "2023-06-16T21:40:40.922145Z",
     "iopub.status.busy": "2023-06-16T21:40:40.921937Z",
     "iopub.status.idle": "2023-06-16T21:40:41.587466Z",
     "shell.execute_reply": "2023-06-16T21:40:41.586871Z",
     "shell.execute_reply.started": "2023-06-16T21:40:40.922129Z"
    },
    "tags": []
   },
   "outputs": [
    {
     "name": "stdout",
     "output_type": "stream",
     "text": [
      "(1000000,)\n",
      "(1000000, 100)\n",
      "(100,)\n"
     ]
    }
   ],
   "source": [
    "data_dir = os.path.expanduser(\"~m2d/git/analysis_playground/ml/data/training_data\")\n",
    "\n",
    "pars = np.load(os.path.join(data_dir, \"orhs3_pars.npy\"))[:1000000]\n",
    "refl = np.load(os.path.join(data_dir, \"orhs3_data.npy\"))[:1000000]\n",
    "q_values = np.load(os.path.join(data_dir, \"orhs3_q_values.npy\"))\n",
    "\n",
    "print(pars.shape)\n",
    "print(refl.shape)\n",
    "print(q_values.shape)\n",
    "\n",
    "idx = 0\n",
    "nset=10000"
   ]
  },
  {
   "cell_type": "code",
   "execution_count": 10,
   "id": "d675268d-2bd0-4f70-8002-7304df05ce8b",
   "metadata": {
    "execution": {
     "iopub.execute_input": "2023-06-16T21:40:42.330777Z",
     "iopub.status.busy": "2023-06-16T21:40:42.330555Z",
     "iopub.status.idle": "2023-06-16T21:40:42.333478Z",
     "shell.execute_reply": "2023-06-16T21:40:42.333027Z",
     "shell.execute_reply.started": "2023-06-16T21:40:42.330762Z"
    },
    "tags": []
   },
   "outputs": [],
   "source": [
    "\n",
    "\n",
    "testset= np.asarray(refl[-nset:])\n",
    "testsetout= np.asarray(pars[-nset:])\n",
    "testpars = np.asarray (pars[-nset:])\n"
   ]
  },
  {
   "cell_type": "code",
   "execution_count": 11,
   "id": "d5b086b5",
   "metadata": {
    "execution": {
     "iopub.execute_input": "2023-06-16T21:40:43.919539Z",
     "iopub.status.busy": "2023-06-16T21:40:43.919365Z",
     "iopub.status.idle": "2023-06-16T22:02:29.931099Z",
     "shell.execute_reply": "2023-06-16T22:02:29.928788Z",
     "shell.execute_reply.started": "2023-06-16T21:40:43.919527Z"
    },
    "tags": []
   },
   "outputs": [
    {
     "name": "stdout",
     "output_type": "stream",
     "text": [
      "Epoch 1/20\n",
      "487/487 [==============================] - 64s 131ms/step - loss: 0.4502 - val_loss: 0.4035\n",
      "Epoch 2/20\n",
      "487/487 [==============================] - 69s 141ms/step - loss: 0.3509 - val_loss: 0.3333\n",
      "Epoch 3/20\n",
      "487/487 [==============================] - 65s 133ms/step - loss: 0.3267 - val_loss: 0.3308\n",
      "Epoch 4/20\n",
      "487/487 [==============================] - 64s 132ms/step - loss: 0.3109 - val_loss: 0.3070\n",
      "Epoch 5/20\n",
      "487/487 [==============================] - 64s 132ms/step - loss: 0.2980 - val_loss: 0.3059\n",
      "Epoch 6/20\n",
      "487/487 [==============================] - 65s 133ms/step - loss: 0.2859 - val_loss: 0.2800\n",
      "Epoch 7/20\n",
      "487/487 [==============================] - 67s 138ms/step - loss: 0.2743 - val_loss: 0.2711\n",
      "Epoch 8/20\n",
      "487/487 [==============================] - 63s 130ms/step - loss: 0.2641 - val_loss: 0.2677\n",
      "Epoch 9/20\n",
      "487/487 [==============================] - 66s 135ms/step - loss: 0.2540 - val_loss: 0.2486\n",
      "Epoch 10/20\n",
      "487/487 [==============================] - 64s 132ms/step - loss: 0.2454 - val_loss: 0.2443\n",
      "Epoch 11/20\n",
      "487/487 [==============================] - 64s 132ms/step - loss: 0.2397 - val_loss: 0.2462\n",
      "Epoch 12/20\n",
      "487/487 [==============================] - 64s 131ms/step - loss: 0.2342 - val_loss: 0.2293\n",
      "Epoch 13/20\n",
      "487/487 [==============================] - 64s 131ms/step - loss: 0.2289 - val_loss: 0.2288\n",
      "Epoch 14/20\n",
      "487/487 [==============================] - 65s 133ms/step - loss: 0.2250 - val_loss: 0.2240\n",
      "Epoch 15/20\n",
      "487/487 [==============================] - 66s 135ms/step - loss: 0.2212 - val_loss: 0.2200\n",
      "Epoch 16/20\n",
      "487/487 [==============================] - 68s 139ms/step - loss: 0.2174 - val_loss: 0.2276\n",
      "Epoch 17/20\n",
      "487/487 [==============================] - 64s 132ms/step - loss: 0.2151 - val_loss: 0.2158\n",
      "Epoch 18/20\n",
      "487/487 [==============================] - 66s 137ms/step - loss: 0.2125 - val_loss: 0.2110\n",
      "Epoch 19/20\n",
      "487/487 [==============================] - 67s 137ms/step - loss: 0.2104 - val_loss: 0.2155\n",
      "Epoch 20/20\n",
      "487/487 [==============================] - 66s 136ms/step - loss: 0.2073 - val_loss: 0.2082\n"
     ]
    }
   ],
   "source": [
    "import importlib\n",
    "importlib.reload(models)\n",
    "n_data = refl.shape[0]\n",
    "n_features = refl.shape[1]\n",
    "n_outputs = 1\n",
    "\n",
    "encoder=models.cnn_encoder(n_data, n_features, n_outputs)\n",
    "encoder.compile(loss='mean_squared_error', optimizer=tf.keras.optimizers.Adam())\n",
    "history = encoder.fit(refl, pars,\n",
    "                        epochs=20, batch_size=2056,\n",
    "                        validation_data=(testset, testsetout))"
   ]
  },
  {
   "cell_type": "code",
   "execution_count": 12,
   "id": "aff8a673-ad3f-4375-acd3-24da8d37be90",
   "metadata": {
    "execution": {
     "iopub.execute_input": "2023-06-17T22:08:14.098825Z",
     "iopub.status.busy": "2023-06-17T22:08:14.098490Z",
     "iopub.status.idle": "2023-06-17T22:08:14.151396Z",
     "shell.execute_reply": "2023-06-17T22:08:14.151013Z",
     "shell.execute_reply.started": "2023-06-17T22:08:14.098808Z"
    },
    "tags": []
   },
   "outputs": [],
   "source": [
    "importlib.reload(models)\n",
    "data_dir = os.path.expanduser(\"~/git/machine_learning/data\")\n",
    "models.save_model(encoder, \"cnn3\", data_dir)"
   ]
  },
  {
   "cell_type": "code",
   "execution_count": 55,
   "id": "6827cdd8-e88f-4764-b89b-a39b4a352a4b",
   "metadata": {
    "execution": {
     "iopub.execute_input": "2023-06-12T16:38:01.434341Z",
     "iopub.status.busy": "2023-06-12T16:38:01.434023Z",
     "iopub.status.idle": "2023-06-12T16:38:01.465892Z",
     "shell.execute_reply": "2023-06-12T16:38:01.465409Z",
     "shell.execute_reply.started": "2023-06-12T16:38:01.434323Z"
    },
    "tags": []
   },
   "outputs": [
    {
     "data": {
      "text/plain": [
       "<module 'models' from '/SNS/users/vogtdan000/git/machine_learning/src/models.py'>"
      ]
     },
     "execution_count": 55,
     "metadata": {},
     "output_type": "execute_result"
    }
   ],
   "source": [
    "importlib.reload(models)"
   ]
  },
  {
   "cell_type": "code",
   "execution_count": 1,
   "id": "0fee110a-39c5-4fe0-8803-ac1b4ae3c55d",
   "metadata": {
    "execution": {
     "iopub.execute_input": "2023-06-16T20:56:28.239851Z",
     "iopub.status.busy": "2023-06-16T20:56:28.239592Z",
     "iopub.status.idle": "2023-06-16T20:56:28.357179Z",
     "shell.execute_reply": "2023-06-16T20:56:28.356622Z",
     "shell.execute_reply.started": "2023-06-16T20:56:28.239832Z"
    },
    "tags": []
   },
   "outputs": [
    {
     "ename": "NameError",
     "evalue": "name 'models' is not defined",
     "output_type": "error",
     "traceback": [
      "\u001b[0;31m---------------------------------------------------------------------------\u001b[0m",
      "\u001b[0;31mNameError\u001b[0m                                 Traceback (most recent call last)",
      "Cell \u001b[0;32mIn[1], line 1\u001b[0m\n\u001b[0;32m----> 1\u001b[0m model\u001b[38;5;241m=\u001b[39m\u001b[43mmodels\u001b[49m\u001b[38;5;241m.\u001b[39mload_model(\u001b[38;5;124m\"\u001b[39m\u001b[38;5;124mlayeronecnn\u001b[39m\u001b[38;5;124m\"\u001b[39m, data_dir)\n\u001b[1;32m      2\u001b[0m idx\u001b[38;5;241m=\u001b[39m\u001b[38;5;241m0\u001b[39m\n",
      "\u001b[0;31mNameError\u001b[0m: name 'models' is not defined"
     ]
    }
   ],
   "source": [
    "model=models.load_model(\"layeronecnn\", data_dir)"
   ]
  },
  {
   "cell_type": "code",
   "execution_count": 60,
   "id": "41e08421-99de-4548-bb4f-39e99fcb227b",
   "metadata": {
    "execution": {
     "iopub.execute_input": "2023-06-12T16:40:27.907321Z",
     "iopub.status.busy": "2023-06-12T16:40:27.906995Z",
     "iopub.status.idle": "2023-06-12T16:40:27.920578Z",
     "shell.execute_reply": "2023-06-12T16:40:27.920215Z",
     "shell.execute_reply.started": "2023-06-12T16:40:27.907302Z"
    },
    "tags": []
   },
   "outputs": [
    {
     "name": "stdout",
     "output_type": "stream",
     "text": [
      "[441, 67, 0, 0]\n",
      "[25, 467, 0, 0]\n",
      "[0, 0, 0, 0]\n",
      "[0, 0, 0, 0]\n",
      "Accuracy: 0\n"
     ]
    }
   ],
   "source": [
    "_preds = [np.around(p) for p in preds]\n",
    "models.accuracy(testpars[-1000:], _preds)"
   ]
  },
  {
   "cell_type": "code",
   "execution_count": null,
   "id": "27b9065e-04c9-4791-9e7f-b8ea56f51f20",
   "metadata": {},
   "outputs": [],
   "source": []
  }
 ],
 "metadata": {
  "kernelspec": {
   "display_name": "tensorflow",
   "language": "",
   "name": "tensorflow"
  },
  "language_info": {
   "codemirror_mode": {
    "name": "ipython",
    "version": 3
   },
   "file_extension": ".py",
   "mimetype": "text/x-python",
   "name": "python",
   "nbconvert_exporter": "python",
   "pygments_lexer": "ipython3",
   "version": "3.11.0"
  }
 },
 "nbformat": 4,
 "nbformat_minor": 5
}
