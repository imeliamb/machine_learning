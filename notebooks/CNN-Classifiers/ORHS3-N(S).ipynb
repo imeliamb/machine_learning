{
 "cells": [
  {
   "cell_type": "code",
   "execution_count": 24,
   "id": "f968928a",
   "metadata": {
    "execution": {
     "iopub.execute_input": "2023-06-26T15:48:06.984265Z",
     "iopub.status.busy": "2023-06-26T15:48:06.983945Z",
     "iopub.status.idle": "2023-06-26T15:48:06.988314Z",
     "shell.execute_reply": "2023-06-26T15:48:06.987804Z",
     "shell.execute_reply.started": "2023-06-26T15:48:06.984242Z"
    },
    "tags": []
   },
   "outputs": [],
   "source": [
    "import sys\n",
    "import numpy as np\n",
    "import os\n",
    "sys.path.append(os.path.expanduser(\"~/git/machine_learning/src\"))\n",
    "import importlib\n",
    "import models\n",
    "import matplotlib\n",
    "import matplotlib.pyplot as plt\n",
    "import tensorflow as tf\n",
    "sys.path.insert(0,os.path.expanduser(\"~/git/machine_learning/src\"))"
   ]
  },
  {
   "cell_type": "code",
   "execution_count": 25,
   "id": "34daa1ad",
   "metadata": {
    "execution": {
     "iopub.execute_input": "2023-06-26T15:48:09.138271Z",
     "iopub.status.busy": "2023-06-26T15:48:09.137764Z",
     "iopub.status.idle": "2023-06-26T15:48:11.422873Z",
     "shell.execute_reply": "2023-06-26T15:48:11.422027Z",
     "shell.execute_reply.started": "2023-06-26T15:48:09.138236Z"
    },
    "tags": []
   },
   "outputs": [
    {
     "name": "stdout",
     "output_type": "stream",
     "text": [
      "(1999998,)\n",
      "(1999998, 100)\n",
      "(100,)\n"
     ]
    }
   ],
   "source": [
    "data_dir = os.path.expanduser(\"~m2d/git/analysis_playground/ml/data/training_data\")\n",
    "\n",
    "pars = np.load(os.path.join(data_dir, \"orhs3-noise_pars.npy\"))[:3000000]\n",
    "refl = np.load(os.path.join(data_dir, \"orhs3-noise_data.npy\"))[:3000000]\n",
    "q_values = np.load(os.path.join(data_dir, \"orhs3-noise_q_values.npy\"))\n",
    "\n",
    "print(pars.shape)\n",
    "print(refl.shape)\n",
    "print(q_values.shape)\n",
    "\n",
    "idx = 0\n",
    "nset=10000"
   ]
  },
  {
   "cell_type": "code",
   "execution_count": 26,
   "id": "e8cbe6df-59d8-44fe-989d-4ef23758ce8a",
   "metadata": {
    "execution": {
     "iopub.execute_input": "2023-06-26T15:48:12.126270Z",
     "iopub.status.busy": "2023-06-26T15:48:12.125769Z",
     "iopub.status.idle": "2023-06-26T15:48:12.133019Z",
     "shell.execute_reply": "2023-06-26T15:48:12.132288Z",
     "shell.execute_reply.started": "2023-06-26T15:48:12.126236Z"
    },
    "tags": []
   },
   "outputs": [
    {
     "name": "stdout",
     "output_type": "stream",
     "text": [
      "(100,)\n",
      "[[ 6.19344761e-05  1.58571115e-04  3.42658074e-04 ... -2.79985906e-02\n",
      "  -2.76445514e-02 -2.72850379e-02]\n",
      " [ 1.58571115e-04  4.05990331e-04  8.77308991e-04 ... -7.16849161e-02\n",
      "  -7.07784679e-02 -6.98580040e-02]\n",
      " [ 3.42658074e-04  8.77308991e-04  1.89578669e-03 ... -1.54904727e-01\n",
      "  -1.52945973e-01 -1.50956932e-01]\n",
      " ...\n",
      " [-2.79985906e-02 -7.16849161e-02 -1.54904727e-01 ...  1.26572650e+01\n",
      "   1.24972152e+01  1.23346907e+01]\n",
      " [-2.76445514e-02 -7.07784679e-02 -1.52945973e-01 ...  1.24972152e+01\n",
      "   1.23391892e+01  1.21787198e+01]\n",
      " [-2.72850379e-02 -6.98580040e-02 -1.50956932e-01 ...  1.23346907e+01\n",
      "   1.21787198e+01  1.20203373e+01]]\n"
     ]
    }
   ],
   "source": [
    "#for pars prediction\n",
    "print(refl[0].shape)\n",
    "r=refl[0][np.newaxis]\n",
    "r=r * r.T\n",
    "print(r)"
   ]
  },
  {
   "cell_type": "code",
   "execution_count": 27,
   "id": "d675268d-2bd0-4f70-8002-7304df05ce8b",
   "metadata": {
    "execution": {
     "iopub.execute_input": "2023-06-26T15:48:15.163608Z",
     "iopub.status.busy": "2023-06-26T15:48:15.163081Z",
     "iopub.status.idle": "2023-06-26T15:48:15.189878Z",
     "shell.execute_reply": "2023-06-26T15:48:15.189273Z",
     "shell.execute_reply.started": "2023-06-26T15:48:15.163571Z"
    },
    "tags": []
   },
   "outputs": [],
   "source": [
    "\n",
    "\n",
    "testset= np.asarray(refl[-nset:])\n",
    "testsetout= np.asarray(pars[-nset:])\n",
    "testpars = np.asarray (pars[-nset:])\n"
   ]
  },
  {
   "cell_type": "code",
   "execution_count": null,
   "id": "d5b086b5",
   "metadata": {
    "execution": {
     "iopub.execute_input": "2023-06-22T19:28:35.254066Z",
     "iopub.status.busy": "2023-06-22T19:28:35.253734Z"
    },
    "tags": []
   },
   "outputs": [
    {
     "name": "stderr",
     "output_type": "stream",
     "text": [
      "2023-06-22 15:28:35.275438: I tensorflow/core/common_runtime/process_util.cc:146] Creating new thread pool with default inter op setting: 2. Tune using inter_op_parallelism_threads for best performance.\n"
     ]
    },
    {
     "name": "stdout",
     "output_type": "stream",
     "text": [
      "Epoch 1/20\n",
      "973/973 [==============================] - 133s 136ms/step - loss: 0.4013 - val_loss: 0.3278\n",
      "Epoch 2/20\n",
      "973/973 [==============================] - 139s 143ms/step - loss: 0.3117 - val_loss: 0.2971\n",
      "Epoch 3/20\n",
      "973/973 [==============================] - 131s 134ms/step - loss: 0.2854 - val_loss: 0.2688\n",
      "Epoch 4/20\n",
      "973/973 [==============================] - 134s 138ms/step - loss: 0.2654 - val_loss: 0.2543\n",
      "Epoch 5/20\n",
      "973/973 [==============================] - 135s 138ms/step - loss: 0.2500 - val_loss: 0.2408\n",
      "Epoch 6/20\n",
      "973/973 [==============================] - 134s 138ms/step - loss: 0.2428 - val_loss: 0.2379\n",
      "Epoch 7/20\n",
      "973/973 [==============================] - 129s 133ms/step - loss: 0.2380 - val_loss: 0.2321\n",
      "Epoch 8/20\n",
      "973/973 [==============================] - 133s 137ms/step - loss: 0.2333 - val_loss: 0.2370\n",
      "Epoch 9/20\n",
      "973/973 [==============================] - 139s 143ms/step - loss: 0.2297 - val_loss: 0.2267\n",
      "Epoch 10/20\n",
      "973/973 [==============================] - 130s 134ms/step - loss: 0.2264 - val_loss: 0.2242\n",
      "Epoch 11/20\n",
      "973/973 [==============================] - 133s 137ms/step - loss: 0.2232 - val_loss: 0.2219\n",
      "Epoch 12/20\n",
      "973/973 [==============================] - 124s 128ms/step - loss: 0.2209 - val_loss: 0.2246\n",
      "Epoch 13/20\n",
      "973/973 [==============================] - 128s 132ms/step - loss: 0.2185 - val_loss: 0.2151\n",
      "Epoch 14/20\n",
      "973/973 [==============================] - 131s 135ms/step - loss: 0.2167 - val_loss: 0.2139\n",
      "Epoch 15/20\n",
      "973/973 [==============================] - 130s 134ms/step - loss: 0.2143 - val_loss: 0.2167\n",
      "Epoch 16/20\n",
      "973/973 [==============================] - 131s 134ms/step - loss: 0.2126 - val_loss: 0.2113\n",
      "Epoch 17/20\n",
      "973/973 [==============================] - 134s 138ms/step - loss: 0.2111 - val_loss: 0.2105\n",
      "Epoch 18/20\n",
      "973/973 [==============================] - 140s 144ms/step - loss: 0.2095 - val_loss: 0.2075\n",
      "Epoch 19/20\n",
      "973/973 [==============================] - 140s 143ms/step - loss: 0.2079 - val_loss: 0.2135\n",
      "Epoch 20/20\n",
      "398/973 [===========>..................] - ETA: 1:28 - loss: 0.2075"
     ]
    }
   ],
   "source": [
    "import importlib\n",
    "importlib.reload(models)\n",
    "n_data = refl.shape[0]\n",
    "n_features = refl.shape[1]\n",
    "n_outputs = 1\n",
    "\n",
    "encoder=models.cnn_encoder(n_data, n_features, n_outputs)\n",
    "encoder.compile(loss='mean_squared_error', optimizer=tf.keras.optimizers.Adam())\n",
    "history = encoder.fit(refl, pars,\n",
    "                        epochs=20, batch_size=2056,\n",
    "                        validation_data=(testset, testsetout))"
   ]
  },
  {
   "cell_type": "code",
   "execution_count": 18,
   "id": "96ba4bb0-129a-4789-afc6-17cd26966319",
   "metadata": {
    "execution": {
     "iopub.execute_input": "2023-06-26T15:41:43.288756Z",
     "iopub.status.busy": "2023-06-26T15:41:43.288227Z",
     "iopub.status.idle": "2023-06-26T15:41:43.363099Z",
     "shell.execute_reply": "2023-06-26T15:41:43.352742Z",
     "shell.execute_reply.started": "2023-06-26T15:41:43.288726Z"
    },
    "tags": []
   },
   "outputs": [
    {
     "ename": "NameError",
     "evalue": "name 'history' is not defined",
     "output_type": "error",
     "traceback": [
      "\u001b[0;31m---------------------------------------------------------------------------\u001b[0m",
      "\u001b[0;31mNameError\u001b[0m                                 Traceback (most recent call last)",
      "Cell \u001b[0;32mIn[18], line 3\u001b[0m\n\u001b[1;32m      1\u001b[0m fig \u001b[38;5;241m=\u001b[39m plt\u001b[38;5;241m.\u001b[39mfigure(dpi\u001b[38;5;241m=\u001b[39m\u001b[38;5;241m100\u001b[39m, figsize\u001b[38;5;241m=\u001b[39m[\u001b[38;5;241m8\u001b[39m,\u001b[38;5;241m4\u001b[39m])\n\u001b[0;32m----> 3\u001b[0m plt\u001b[38;5;241m.\u001b[39mplot(np\u001b[38;5;241m.\u001b[39marange(\u001b[38;5;28mlen\u001b[39m(\u001b[43mhistory\u001b[49m[\u001b[38;5;124m'\u001b[39m\u001b[38;5;124mloss\u001b[39m\u001b[38;5;124m'\u001b[39m])), history[\u001b[38;5;124m'\u001b[39m\u001b[38;5;124mloss\u001b[39m\u001b[38;5;124m'\u001b[39m], label\u001b[38;5;241m=\u001b[39m\u001b[38;5;124m'\u001b[39m\u001b[38;5;124mloss\u001b[39m\u001b[38;5;124m'\u001b[39m)\n\u001b[1;32m      4\u001b[0m plt\u001b[38;5;241m.\u001b[39mplot(np\u001b[38;5;241m.\u001b[39marange(\u001b[38;5;28mlen\u001b[39m(history[\u001b[38;5;124m'\u001b[39m\u001b[38;5;124mval_loss\u001b[39m\u001b[38;5;124m'\u001b[39m])), history[\u001b[38;5;124m'\u001b[39m\u001b[38;5;124mval_loss\u001b[39m\u001b[38;5;124m'\u001b[39m], label\u001b[38;5;241m=\u001b[39m\u001b[38;5;124m'\u001b[39m\u001b[38;5;124mvalidation loss\u001b[39m\u001b[38;5;124m'\u001b[39m)\n\u001b[1;32m      5\u001b[0m plt\u001b[38;5;241m.\u001b[39mxlabel(\u001b[38;5;124m'\u001b[39m\u001b[38;5;124mEpoch\u001b[39m\u001b[38;5;124m'\u001b[39m)\n",
      "\u001b[0;31mNameError\u001b[0m: name 'history' is not defined"
     ]
    },
    {
     "data": {
      "text/plain": [
       "<Figure size 800x400 with 0 Axes>"
      ]
     },
     "metadata": {},
     "output_type": "display_data"
    }
   ],
   "source": [
    "fig = plt.figure(dpi=100, figsize=[8,4])\n",
    "\n",
    "plt.plot(np.arange(len(history['loss'])), history['loss'], label='loss')\n",
    "plt.plot(np.arange(len(history['val_loss'])), history['val_loss'], label='validation loss')\n",
    "plt.xlabel('Epoch')\n",
    "plt.ylabel('Loss')\n",
    "plt.yscale('log')\n",
    "plt.xscale('linear')\n",
    "plt.show()"
   ]
  },
  {
   "cell_type": "code",
   "execution_count": 6,
   "id": "aff8a673-ad3f-4375-acd3-24da8d37be90",
   "metadata": {
    "execution": {
     "iopub.execute_input": "2023-06-22T20:43:11.085008Z",
     "iopub.status.busy": "2023-06-22T20:43:11.084762Z",
     "iopub.status.idle": "2023-06-22T20:43:11.123060Z",
     "shell.execute_reply": "2023-06-22T20:43:11.122689Z",
     "shell.execute_reply.started": "2023-06-22T20:43:11.084989Z"
    },
    "tags": []
   },
   "outputs": [],
   "source": [
    "importlib.reload(models)\n",
    "data_dir = os.path.expanduser(\"~/git/machine_learning/data\")\n",
    "models.save_model(encoder, \"cnn3-noise\", data_dir)"
   ]
  },
  {
   "cell_type": "code",
   "execution_count": 28,
   "id": "6827cdd8-e88f-4764-b89b-a39b4a352a4b",
   "metadata": {
    "execution": {
     "iopub.execute_input": "2023-06-26T15:48:19.180839Z",
     "iopub.status.busy": "2023-06-26T15:48:19.180372Z",
     "iopub.status.idle": "2023-06-26T15:48:19.187610Z",
     "shell.execute_reply": "2023-06-26T15:48:19.187039Z",
     "shell.execute_reply.started": "2023-06-26T15:48:19.180808Z"
    },
    "tags": []
   },
   "outputs": [],
   "source": [
    "importlib.reload(models)\n",
    "data_dir = os.path.expanduser(\"~/git/machine_learning/data\")"
   ]
  },
  {
   "cell_type": "code",
   "execution_count": 29,
   "id": "0fee110a-39c5-4fe0-8803-ac1b4ae3c55d",
   "metadata": {
    "execution": {
     "iopub.execute_input": "2023-06-26T15:48:19.922570Z",
     "iopub.status.busy": "2023-06-26T15:48:19.922133Z",
     "iopub.status.idle": "2023-06-26T15:48:20.059751Z",
     "shell.execute_reply": "2023-06-26T15:48:20.059005Z",
     "shell.execute_reply.started": "2023-06-26T15:48:19.922535Z"
    },
    "tags": []
   },
   "outputs": [],
   "source": [
    "model=models.load_model(\"cnn3-noise\", data_dir)"
   ]
  },
  {
   "cell_type": "code",
   "execution_count": 30,
   "id": "41e08421-99de-4548-bb4f-39e99fcb227b",
   "metadata": {
    "execution": {
     "iopub.execute_input": "2023-06-26T15:48:20.758337Z",
     "iopub.status.busy": "2023-06-26T15:48:20.757893Z",
     "iopub.status.idle": "2023-06-26T15:48:26.848221Z",
     "shell.execute_reply": "2023-06-26T15:48:26.847164Z",
     "shell.execute_reply.started": "2023-06-26T15:48:20.758304Z"
    },
    "tags": []
   },
   "outputs": [
    {
     "name": "stdout",
     "output_type": "stream",
     "text": [
      "32/32 [==============================] - 6s 152ms/step\n",
      "[256, 61, 0, 0]\n",
      "Layer Accuracy : 0.807571\n",
      "[25, 191, 120, 0]\n",
      "Layer Accuracy : 0.568452\n",
      "[1, 83, 263, 0]\n",
      "Layer Accuracy : 0.757925\n",
      "[0, 0, 0, 0]\n",
      "Layer Accuracy : nan\n",
      "Accuracy: 0.71\n"
     ]
    },
    {
     "name": "stderr",
     "output_type": "stream",
     "text": [
      "/SNS/users/vogtdan000/git/machine_learning/src/models.py:141: RuntimeWarning: invalid value encountered in long_scalars\n",
      "  print(\"Layer Accuracy : %g\" % (k/f))\n"
     ]
    }
   ],
   "source": [
    "preds=model.predict(testset[-1000:])\n",
    "_preds = [np.around(p) for p in preds]\n",
    "models.accuracy(testpars[-1000:], _preds)"
   ]
  },
  {
   "cell_type": "code",
   "execution_count": null,
   "id": "27b9065e-04c9-4791-9e7f-b8ea56f51f20",
   "metadata": {},
   "outputs": [],
   "source": []
  }
 ],
 "metadata": {
  "kernelspec": {
   "display_name": "tensorflow",
   "language": "",
   "name": "tensorflow"
  },
  "language_info": {
   "codemirror_mode": {
    "name": "ipython",
    "version": 3
   },
   "file_extension": ".py",
   "mimetype": "text/x-python",
   "name": "python",
   "nbconvert_exporter": "python",
   "pygments_lexer": "ipython3",
   "version": "3.11.0"
  }
 },
 "nbformat": 4,
 "nbformat_minor": 5
}
