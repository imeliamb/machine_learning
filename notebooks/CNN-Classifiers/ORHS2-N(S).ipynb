{
 "cells": [
  {
   "cell_type": "code",
   "execution_count": 14,
   "id": "f968928a",
   "metadata": {
    "execution": {
     "iopub.execute_input": "2023-06-23T20:02:15.770874Z",
     "iopub.status.busy": "2023-06-23T20:02:15.770601Z",
     "iopub.status.idle": "2023-06-23T20:02:15.774074Z",
     "shell.execute_reply": "2023-06-23T20:02:15.773559Z",
     "shell.execute_reply.started": "2023-06-23T20:02:15.770860Z"
    },
    "tags": []
   },
   "outputs": [],
   "source": [
    "import sys\n",
    "import numpy as np\n",
    "import os\n",
    "sys.path.append(os.path.expanduser(\"~/git/machine_learning/src\"))\n",
    "import importlib\n",
    "import models\n",
    "import matplotlib\n",
    "import matplotlib.pyplot as plt\n",
    "import tensorflow as tf\n",
    "sys.path.insert(0,os.path.expanduser(\"~/git/machine_learning/src\"))"
   ]
  },
  {
   "cell_type": "code",
   "execution_count": 15,
   "id": "34daa1ad",
   "metadata": {
    "execution": {
     "iopub.execute_input": "2023-06-23T20:02:16.833567Z",
     "iopub.status.busy": "2023-06-23T20:02:16.833380Z",
     "iopub.status.idle": "2023-06-23T20:02:16.879250Z",
     "shell.execute_reply": "2023-06-23T20:02:16.878688Z",
     "shell.execute_reply.started": "2023-06-23T20:02:16.833555Z"
    },
    "tags": []
   },
   "outputs": [
    {
     "name": "stdout",
     "output_type": "stream",
     "text": [
      "(100000,)\n",
      "(100000, 100)\n",
      "(100,)\n"
     ]
    }
   ],
   "source": [
    "data_dir = os.path.expanduser(\"~m2d/git/analysis_playground/ml/data/training_data\")\n",
    "\n",
    "pars = np.load(os.path.join(data_dir, \"orhs2-noise_pars.npy\"))\n",
    "refl = np.load(os.path.join(data_dir, \"orhs2-noise_data.npy\"))\n",
    "q_values = np.load(os.path.join(data_dir, \"orhs2-noise_q_values.npy\"))\n",
    "\n",
    "print(pars.shape)\n",
    "print(refl.shape)\n",
    "print(q_values.shape)\n",
    "\n",
    "idx = 0\n",
    "nset=1000000"
   ]
  },
  {
   "cell_type": "code",
   "execution_count": 16,
   "id": "d675268d-2bd0-4f70-8002-7304df05ce8b",
   "metadata": {
    "execution": {
     "iopub.execute_input": "2023-06-23T20:02:18.117725Z",
     "iopub.status.busy": "2023-06-23T20:02:18.117508Z",
     "iopub.status.idle": "2023-06-23T20:02:18.120441Z",
     "shell.execute_reply": "2023-06-23T20:02:18.119941Z",
     "shell.execute_reply.started": "2023-06-23T20:02:18.117711Z"
    },
    "tags": []
   },
   "outputs": [],
   "source": [
    "\n",
    "\n",
    "testset= np.asarray(refl[-nset:])\n",
    "testsetout= np.asarray(pars[-nset:])\n",
    "testpars = np.asarray (pars[-nset:])\n"
   ]
  },
  {
   "cell_type": "code",
   "execution_count": 17,
   "id": "d5b086b5",
   "metadata": {
    "execution": {
     "iopub.execute_input": "2023-06-23T20:02:19.446796Z",
     "iopub.status.busy": "2023-06-23T20:02:19.446537Z",
     "iopub.status.idle": "2023-06-23T20:04:59.884483Z",
     "shell.execute_reply": "2023-06-23T20:04:59.883116Z",
     "shell.execute_reply.started": "2023-06-23T20:02:19.446782Z"
    },
    "tags": []
   },
   "outputs": [
    {
     "name": "stdout",
     "output_type": "stream",
     "text": [
      "Epoch 1/20\n",
      "49/49 [==============================] - 8s 160ms/step - loss: 0.3772 - val_loss: 0.2399\n",
      "Epoch 2/20\n",
      "49/49 [==============================] - 7s 143ms/step - loss: 0.2231 - val_loss: 0.2084\n",
      "Epoch 3/20\n",
      "49/49 [==============================] - 7s 149ms/step - loss: 0.2032 - val_loss: 0.1983\n",
      "Epoch 4/20\n",
      "49/49 [==============================] - 9s 174ms/step - loss: 0.1929 - val_loss: 0.1885\n",
      "Epoch 5/20\n",
      "49/49 [==============================] - 9s 182ms/step - loss: 0.1844 - val_loss: 0.1837\n",
      "Epoch 6/20\n",
      "49/49 [==============================] - 9s 178ms/step - loss: 0.1790 - val_loss: 0.1744\n",
      "Epoch 7/20\n",
      "49/49 [==============================] - 9s 179ms/step - loss: 0.1725 - val_loss: 0.1707\n",
      "Epoch 8/20\n",
      "49/49 [==============================] - 8s 154ms/step - loss: 0.1706 - val_loss: 0.1673\n",
      "Epoch 9/20\n",
      "49/49 [==============================] - 8s 167ms/step - loss: 0.1660 - val_loss: 0.1666\n",
      "Epoch 10/20\n",
      "49/49 [==============================] - 7s 146ms/step - loss: 0.1642 - val_loss: 0.1671\n",
      "Epoch 11/20\n",
      "49/49 [==============================] - 7s 150ms/step - loss: 0.1626 - val_loss: 0.1590\n",
      "Epoch 12/20\n",
      "49/49 [==============================] - 7s 148ms/step - loss: 0.1604 - val_loss: 0.1581\n",
      "Epoch 13/20\n",
      "49/49 [==============================] - 7s 146ms/step - loss: 0.1589 - val_loss: 0.1591\n",
      "Epoch 14/20\n",
      "49/49 [==============================] - 8s 173ms/step - loss: 0.1576 - val_loss: 0.1587\n",
      "Epoch 15/20\n",
      "49/49 [==============================] - 8s 170ms/step - loss: 0.1563 - val_loss: 0.1527\n",
      "Epoch 16/20\n",
      "49/49 [==============================] - 8s 160ms/step - loss: 0.1536 - val_loss: 0.1516\n",
      "Epoch 17/20\n",
      "49/49 [==============================] - 8s 168ms/step - loss: 0.1537 - val_loss: 0.1505\n",
      "Epoch 18/20\n",
      "49/49 [==============================] - 9s 183ms/step - loss: 0.1516 - val_loss: 0.1505\n",
      "Epoch 19/20\n",
      "49/49 [==============================] - 8s 163ms/step - loss: 0.1499 - val_loss: 0.1484\n",
      "Epoch 20/20\n",
      "49/49 [==============================] - 9s 180ms/step - loss: 0.1487 - val_loss: 0.1486\n"
     ]
    }
   ],
   "source": [
    "import importlib\n",
    "importlib.reload(models)\n",
    "n_data = refl.shape[0]\n",
    "n_features = refl.shape[1]\n",
    "n_outputs = 1\n",
    "\n",
    "encoder=models.cnn_encoder(n_data, n_features, n_outputs)\n",
    "encoder.compile(loss='mean_squared_error', optimizer=tf.keras.optimizers.Adam())\n",
    "history = encoder.fit(refl, pars,\n",
    "                        epochs=20, batch_size=2056,\n",
    "                        validation_data=(testset, testsetout))"
   ]
  },
  {
   "cell_type": "code",
   "execution_count": 19,
   "id": "aff8a673-ad3f-4375-acd3-24da8d37be90",
   "metadata": {
    "execution": {
     "iopub.execute_input": "2023-06-23T20:05:51.237573Z",
     "iopub.status.busy": "2023-06-23T20:05:51.237246Z",
     "iopub.status.idle": "2023-06-23T20:05:51.266857Z",
     "shell.execute_reply": "2023-06-23T20:05:51.266415Z",
     "shell.execute_reply.started": "2023-06-23T20:05:51.237558Z"
    },
    "tags": []
   },
   "outputs": [],
   "source": [
    "importlib.reload(models)\n",
    "data_dir = os.path.expanduser(\"~/git/machine_learning/data\")\n",
    "models.save_model(encoder, \"layeronecnn-noise\", data_dir)"
   ]
  },
  {
   "cell_type": "code",
   "execution_count": 20,
   "id": "6827cdd8-e88f-4764-b89b-a39b4a352a4b",
   "metadata": {
    "execution": {
     "iopub.execute_input": "2023-06-23T20:05:52.192533Z",
     "iopub.status.busy": "2023-06-23T20:05:52.192266Z",
     "iopub.status.idle": "2023-06-23T20:05:52.197572Z",
     "shell.execute_reply": "2023-06-23T20:05:52.197183Z",
     "shell.execute_reply.started": "2023-06-23T20:05:52.192519Z"
    },
    "tags": []
   },
   "outputs": [
    {
     "data": {
      "text/plain": [
       "<module 'models' from '/SNS/users/vogtdan000/git/machine_learning/src/models.py'>"
      ]
     },
     "execution_count": 20,
     "metadata": {},
     "output_type": "execute_result"
    }
   ],
   "source": [
    "importlib.reload(models)"
   ]
  },
  {
   "cell_type": "code",
   "execution_count": 21,
   "id": "0fee110a-39c5-4fe0-8803-ac1b4ae3c55d",
   "metadata": {
    "execution": {
     "iopub.execute_input": "2023-06-23T20:05:52.885543Z",
     "iopub.status.busy": "2023-06-23T20:05:52.885268Z",
     "iopub.status.idle": "2023-06-23T20:05:52.944062Z",
     "shell.execute_reply": "2023-06-23T20:05:52.943621Z",
     "shell.execute_reply.started": "2023-06-23T20:05:52.885526Z"
    },
    "tags": []
   },
   "outputs": [],
   "source": [
    "model=models.load_model(\"layeronecnn-noise\", data_dir)\n",
    "idx=0"
   ]
  },
  {
   "cell_type": "code",
   "execution_count": 22,
   "id": "159d4434-4e54-4f46-95e6-544089a17f86",
   "metadata": {
    "execution": {
     "iopub.execute_input": "2023-06-23T20:05:53.886195Z",
     "iopub.status.busy": "2023-06-23T20:05:53.885941Z",
     "iopub.status.idle": "2023-06-23T20:05:54.946134Z",
     "shell.execute_reply": "2023-06-23T20:05:54.945426Z",
     "shell.execute_reply.started": "2023-06-23T20:05:53.886181Z"
    },
    "tags": []
   },
   "outputs": [
    {
     "name": "stdout",
     "output_type": "stream",
     "text": [
      "32/32 [==============================] - 1s 28ms/step\n"
     ]
    }
   ],
   "source": [
    "preds=model.predict(testset[-1000:])\n"
   ]
  },
  {
   "cell_type": "code",
   "execution_count": 23,
   "id": "41e08421-99de-4548-bb4f-39e99fcb227b",
   "metadata": {
    "execution": {
     "iopub.execute_input": "2023-06-23T20:05:55.423957Z",
     "iopub.status.busy": "2023-06-23T20:05:55.423555Z",
     "iopub.status.idle": "2023-06-23T20:05:55.447519Z",
     "shell.execute_reply": "2023-06-23T20:05:55.447098Z",
     "shell.execute_reply.started": "2023-06-23T20:05:55.423943Z"
    },
    "tags": []
   },
   "outputs": [
    {
     "name": "stdout",
     "output_type": "stream",
     "text": [
      "[0, 469, 50, 0]\n",
      "Layer Accuracy : 0.903661\n",
      "[0, 144, 335, 2]\n",
      "Layer Accuracy : 0.696466\n",
      "[0, 0, 0, 0]\n",
      "Layer Accuracy : nan\n",
      "[0, 0, 0, 0]\n",
      "Layer Accuracy : nan\n",
      "Accuracy: 0.804\n"
     ]
    },
    {
     "name": "stderr",
     "output_type": "stream",
     "text": [
      "/SNS/users/vogtdan000/git/machine_learning/src/models.py:141: RuntimeWarning: invalid value encountered in long_scalars\n",
      "  print(\"Layer Accuracy : %g\" % (k/f))\n"
     ]
    }
   ],
   "source": [
    "_preds = [np.around(p) for p in preds]\n",
    "models.accuracy(testpars[-1000:], _preds)"
   ]
  },
  {
   "cell_type": "code",
   "execution_count": null,
   "id": "27b9065e-04c9-4791-9e7f-b8ea56f51f20",
   "metadata": {},
   "outputs": [],
   "source": []
  }
 ],
 "metadata": {
  "kernelspec": {
   "display_name": "tensorflow",
   "language": "",
   "name": "tensorflow"
  },
  "language_info": {
   "codemirror_mode": {
    "name": "ipython",
    "version": 3
   },
   "file_extension": ".py",
   "mimetype": "text/x-python",
   "name": "python",
   "nbconvert_exporter": "python",
   "pygments_lexer": "ipython3",
   "version": "3.11.4"
  }
 },
 "nbformat": 4,
 "nbformat_minor": 5
}
