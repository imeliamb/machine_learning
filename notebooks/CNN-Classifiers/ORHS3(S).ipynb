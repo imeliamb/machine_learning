{
 "cells": [
  {
   "cell_type": "code",
   "execution_count": 2,
   "id": "f968928a",
   "metadata": {
    "execution": {
     "iopub.execute_input": "2023-06-22T19:47:53.211405Z",
     "iopub.status.busy": "2023-06-22T19:47:53.210978Z",
     "iopub.status.idle": "2023-06-22T19:48:00.070741Z",
     "shell.execute_reply": "2023-06-22T19:48:00.069907Z",
     "shell.execute_reply.started": "2023-06-22T19:47:53.211375Z"
    },
    "tags": []
   },
   "outputs": [
    {
     "name": "stderr",
     "output_type": "stream",
     "text": [
      "2023-06-22 15:47:54.085416: I tensorflow/core/platform/cpu_feature_guard.cc:182] This TensorFlow binary is optimized to use available CPU instructions in performance-critical operations.\n",
      "To enable the following instructions: SSE4.1 SSE4.2 AVX AVX2 AVX512F AVX512_VNNI FMA, in other operations, rebuild TensorFlow with the appropriate compiler flags.\n"
     ]
    }
   ],
   "source": [
    "import sys\n",
    "import numpy as np\n",
    "import os\n",
    "sys.path.append(os.path.expanduser(\"~/git/machine_learning/src\"))\n",
    "import importlib\n",
    "import models\n",
    "import matplotlib\n",
    "import matplotlib.pyplot as plt\n",
    "import tensorflow as tf\n",
    "sys.path.insert(0,os.path.expanduser(\"~/git/machine_learning/src\"))"
   ]
  },
  {
   "cell_type": "code",
   "execution_count": 3,
   "id": "34daa1ad",
   "metadata": {
    "execution": {
     "iopub.execute_input": "2023-06-22T19:48:01.672963Z",
     "iopub.status.busy": "2023-06-22T19:48:01.672212Z",
     "iopub.status.idle": "2023-06-22T19:48:03.494841Z",
     "shell.execute_reply": "2023-06-22T19:48:03.494202Z",
     "shell.execute_reply.started": "2023-06-22T19:48:01.672931Z"
    },
    "tags": []
   },
   "outputs": [
    {
     "name": "stdout",
     "output_type": "stream",
     "text": [
      "(1000000,)\n",
      "(1000000, 100)\n",
      "(100,)\n"
     ]
    }
   ],
   "source": [
    "data_dir = os.path.expanduser(\"~m2d/git/analysis_playground/ml/data/training_data\")\n",
    "\n",
    "pars = np.load(os.path.join(data_dir, \"orhs3_pars.npy\"))[:1000000]\n",
    "refl = np.load(os.path.join(data_dir, \"orhs3_data.npy\"))[:1000000]\n",
    "q_values = np.load(os.path.join(data_dir, \"orhs3_q_values.npy\"))\n",
    "\n",
    "print(pars.shape)\n",
    "print(refl.shape)\n",
    "print(q_values.shape)\n",
    "\n",
    "idx = 0\n",
    "nset=10000"
   ]
  },
  {
   "cell_type": "code",
   "execution_count": 4,
   "id": "d675268d-2bd0-4f70-8002-7304df05ce8b",
   "metadata": {
    "execution": {
     "iopub.execute_input": "2023-06-22T19:48:06.165244Z",
     "iopub.status.busy": "2023-06-22T19:48:06.162726Z",
     "iopub.status.idle": "2023-06-22T19:48:06.169204Z",
     "shell.execute_reply": "2023-06-22T19:48:06.168524Z",
     "shell.execute_reply.started": "2023-06-22T19:48:06.165210Z"
    },
    "tags": []
   },
   "outputs": [],
   "source": [
    "\n",
    "\n",
    "testset= np.asarray(refl[-nset:])\n",
    "testsetout= np.asarray(pars[-nset:])\n",
    "testpars = np.asarray (pars[-nset:])\n"
   ]
  },
  {
   "cell_type": "code",
   "execution_count": 11,
   "id": "d5b086b5",
   "metadata": {
    "execution": {
     "iopub.execute_input": "2023-06-16T21:40:43.919539Z",
     "iopub.status.busy": "2023-06-16T21:40:43.919365Z",
     "iopub.status.idle": "2023-06-16T22:02:29.931099Z",
     "shell.execute_reply": "2023-06-16T22:02:29.928788Z",
     "shell.execute_reply.started": "2023-06-16T21:40:43.919527Z"
    },
    "tags": []
   },
   "outputs": [
    {
     "name": "stdout",
     "output_type": "stream",
     "text": [
      "Epoch 1/20\n",
      "487/487 [==============================] - 64s 131ms/step - loss: 0.4502 - val_loss: 0.4035\n",
      "Epoch 2/20\n",
      "487/487 [==============================] - 69s 141ms/step - loss: 0.3509 - val_loss: 0.3333\n",
      "Epoch 3/20\n",
      "487/487 [==============================] - 65s 133ms/step - loss: 0.3267 - val_loss: 0.3308\n",
      "Epoch 4/20\n",
      "487/487 [==============================] - 64s 132ms/step - loss: 0.3109 - val_loss: 0.3070\n",
      "Epoch 5/20\n",
      "487/487 [==============================] - 64s 132ms/step - loss: 0.2980 - val_loss: 0.3059\n",
      "Epoch 6/20\n",
      "487/487 [==============================] - 65s 133ms/step - loss: 0.2859 - val_loss: 0.2800\n",
      "Epoch 7/20\n",
      "487/487 [==============================] - 67s 138ms/step - loss: 0.2743 - val_loss: 0.2711\n",
      "Epoch 8/20\n",
      "487/487 [==============================] - 63s 130ms/step - loss: 0.2641 - val_loss: 0.2677\n",
      "Epoch 9/20\n",
      "487/487 [==============================] - 66s 135ms/step - loss: 0.2540 - val_loss: 0.2486\n",
      "Epoch 10/20\n",
      "487/487 [==============================] - 64s 132ms/step - loss: 0.2454 - val_loss: 0.2443\n",
      "Epoch 11/20\n",
      "487/487 [==============================] - 64s 132ms/step - loss: 0.2397 - val_loss: 0.2462\n",
      "Epoch 12/20\n",
      "487/487 [==============================] - 64s 131ms/step - loss: 0.2342 - val_loss: 0.2293\n",
      "Epoch 13/20\n",
      "487/487 [==============================] - 64s 131ms/step - loss: 0.2289 - val_loss: 0.2288\n",
      "Epoch 14/20\n",
      "487/487 [==============================] - 65s 133ms/step - loss: 0.2250 - val_loss: 0.2240\n",
      "Epoch 15/20\n",
      "487/487 [==============================] - 66s 135ms/step - loss: 0.2212 - val_loss: 0.2200\n",
      "Epoch 16/20\n",
      "487/487 [==============================] - 68s 139ms/step - loss: 0.2174 - val_loss: 0.2276\n",
      "Epoch 17/20\n",
      "487/487 [==============================] - 64s 132ms/step - loss: 0.2151 - val_loss: 0.2158\n",
      "Epoch 18/20\n",
      "487/487 [==============================] - 66s 137ms/step - loss: 0.2125 - val_loss: 0.2110\n",
      "Epoch 19/20\n",
      "487/487 [==============================] - 67s 137ms/step - loss: 0.2104 - val_loss: 0.2155\n",
      "Epoch 20/20\n",
      "487/487 [==============================] - 66s 136ms/step - loss: 0.2073 - val_loss: 0.2082\n"
     ]
    }
   ],
   "source": [
    "import importlib\n",
    "importlib.reload(models)\n",
    "n_data = refl.shape[0]\n",
    "n_features = refl.shape[1]\n",
    "n_outputs = 1\n",
    "\n",
    "encoder=models.cnn_encoder(n_data, n_features, n_outputs)\n",
    "encoder.compile(loss='mean_squared_error', optimizer=tf.keras.optimizers.Adam())\n",
    "history = encoder.fit(refl, pars,\n",
    "                        epochs=20, batch_size=2056,\n",
    "                        validation_data=(testset, testsetout))"
   ]
  },
  {
   "cell_type": "code",
   "execution_count": 1,
   "id": "aff8a673-ad3f-4375-acd3-24da8d37be90",
   "metadata": {
    "execution": {
     "iopub.execute_input": "2023-06-22T19:47:47.234347Z",
     "iopub.status.busy": "2023-06-22T19:47:47.234044Z",
     "iopub.status.idle": "2023-06-22T19:47:47.783681Z",
     "shell.execute_reply": "2023-06-22T19:47:47.782218Z",
     "shell.execute_reply.started": "2023-06-22T19:47:47.234322Z"
    },
    "tags": []
   },
   "outputs": [
    {
     "ename": "NameError",
     "evalue": "name 'importlib' is not defined",
     "output_type": "error",
     "traceback": [
      "\u001b[0;31m---------------------------------------------------------------------------\u001b[0m",
      "\u001b[0;31mNameError\u001b[0m                                 Traceback (most recent call last)",
      "Cell \u001b[0;32mIn[1], line 1\u001b[0m\n\u001b[0;32m----> 1\u001b[0m \u001b[43mimportlib\u001b[49m\u001b[38;5;241m.\u001b[39mreload(models)\n\u001b[1;32m      2\u001b[0m data_dir \u001b[38;5;241m=\u001b[39m os\u001b[38;5;241m.\u001b[39mpath\u001b[38;5;241m.\u001b[39mexpanduser(\u001b[38;5;124m\"\u001b[39m\u001b[38;5;124m~/git/machine_learning/data\u001b[39m\u001b[38;5;124m\"\u001b[39m)\n\u001b[1;32m      3\u001b[0m models\u001b[38;5;241m.\u001b[39msave_model(encoder, \u001b[38;5;124m\"\u001b[39m\u001b[38;5;124mcnn3\u001b[39m\u001b[38;5;124m\"\u001b[39m, data_dir)\n",
      "\u001b[0;31mNameError\u001b[0m: name 'importlib' is not defined"
     ]
    }
   ],
   "source": [
    "importlib.reload(models)\n",
    "data_dir = os.path.expanduser(\"~/git/machine_learning/data\")\n",
    "models.save_model(encoder, \"cnn3\", data_dir)"
   ]
  },
  {
   "cell_type": "code",
   "execution_count": 6,
   "id": "6827cdd8-e88f-4764-b89b-a39b4a352a4b",
   "metadata": {
    "execution": {
     "iopub.execute_input": "2023-06-22T19:49:09.338323Z",
     "iopub.status.busy": "2023-06-22T19:49:09.337989Z",
     "iopub.status.idle": "2023-06-22T19:49:09.341829Z",
     "shell.execute_reply": "2023-06-22T19:49:09.341227Z",
     "shell.execute_reply.started": "2023-06-22T19:49:09.338299Z"
    },
    "tags": []
   },
   "outputs": [],
   "source": [
    "data_dir = os.path.expanduser(\"~/git/machine_learning/data\")"
   ]
  },
  {
   "cell_type": "code",
   "execution_count": 7,
   "id": "0fee110a-39c5-4fe0-8803-ac1b4ae3c55d",
   "metadata": {
    "execution": {
     "iopub.execute_input": "2023-06-22T19:49:10.636799Z",
     "iopub.status.busy": "2023-06-22T19:49:10.636429Z",
     "iopub.status.idle": "2023-06-22T19:49:11.111763Z",
     "shell.execute_reply": "2023-06-22T19:49:11.111014Z",
     "shell.execute_reply.started": "2023-06-22T19:49:10.636772Z"
    },
    "tags": []
   },
   "outputs": [
    {
     "name": "stderr",
     "output_type": "stream",
     "text": [
      "2023-06-22 15:49:10.667262: I tensorflow/core/common_runtime/process_util.cc:146] Creating new thread pool with default inter op setting: 2. Tune using inter_op_parallelism_threads for best performance.\n"
     ]
    }
   ],
   "source": [
    "model=models.load_model(\"cnn3\", data_dir)"
   ]
  },
  {
   "cell_type": "code",
   "execution_count": 11,
   "id": "41e08421-99de-4548-bb4f-39e99fcb227b",
   "metadata": {
    "execution": {
     "iopub.execute_input": "2023-06-22T19:51:15.916132Z",
     "iopub.status.busy": "2023-06-22T19:51:15.915044Z",
     "iopub.status.idle": "2023-06-22T19:51:21.251972Z",
     "shell.execute_reply": "2023-06-22T19:51:21.250956Z",
     "shell.execute_reply.started": "2023-06-22T19:51:15.916074Z"
    },
    "tags": []
   },
   "outputs": [
    {
     "name": "stdout",
     "output_type": "stream",
     "text": [
      "32/32 [==============================] - 5s 136ms/step\n",
      "[0, 296, 29, 0]\n",
      "Layer Accuracy : 0.910769\n",
      "[0, 40, 174, 116]\n",
      "Layer Accuracy : 0.527273\n",
      "[0, 4, 83, 256]\n",
      "Layer Accuracy : 0.746356\n",
      "[0, 0, 0, 0]\n",
      "Layer Accuracy : nan\n",
      "Accuracy: 0.726\n"
     ]
    },
    {
     "name": "stderr",
     "output_type": "stream",
     "text": [
      "/SNS/users/vogtdan000/git/machine_learning/src/models.py:141: RuntimeWarning: invalid value encountered in long_scalars\n",
      "  print(\"Layer Accuracy : %g\" % (k/f))\n"
     ]
    }
   ],
   "source": [
    "preds=model.predict(testset[-1000:])\n",
    "_preds = [np.around(p) for p in preds]\n",
    "models.accuracy(testpars[-1000:], _preds)"
   ]
  },
  {
   "cell_type": "code",
   "execution_count": null,
   "id": "27b9065e-04c9-4791-9e7f-b8ea56f51f20",
   "metadata": {},
   "outputs": [],
   "source": []
  }
 ],
 "metadata": {
  "kernelspec": {
   "display_name": "tensorflow",
   "language": "",
   "name": "tensorflow"
  },
  "language_info": {
   "codemirror_mode": {
    "name": "ipython",
    "version": 3
   },
   "file_extension": ".py",
   "mimetype": "text/x-python",
   "name": "python",
   "nbconvert_exporter": "python",
   "pygments_lexer": "ipython3",
   "version": "3.11.0"
  }
 },
 "nbformat": 4,
 "nbformat_minor": 5
}
